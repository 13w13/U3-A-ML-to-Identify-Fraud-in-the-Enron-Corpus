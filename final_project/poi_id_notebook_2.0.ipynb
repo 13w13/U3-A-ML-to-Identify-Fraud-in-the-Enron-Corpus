{
 "cells": [
  {
   "cell_type": "markdown",
   "metadata": {},
   "source": [
    "# Machine Learning to Identify Fraud in the Enron Corpus"
   ]
  },
  {
   "cell_type": "code",
   "execution_count": 782,
   "metadata": {},
   "outputs": [],
   "source": [
    "import warnings \n",
    "warnings.filterwarnings(\"ignore\")\n",
    "import sys\n",
    "import pickle\n",
    "sys.path.append(\"../tools/\")\n",
    "from feature_format import featureFormat, targetFeatureSplit\n",
    "from tester import dump_classifier_and_data\n",
    "import pandas as pd\n",
    "import sys\n",
    "import pickle\n",
    "import csv\n",
    "import matplotlib.pyplot as plt\n",
    "\n",
    "sys.path.append(\"../tools/\")\n",
    "from feature_format import featureFormat, targetFeatureSplit\n",
    "#from poi_data import *\n",
    "from sklearn.feature_selection import SelectKBest\n",
    "from sklearn.pipeline import Pipeline\n",
    "from sklearn.preprocessing import StandardScaler\n",
    "from sklearn.model_selection import StratifiedShuffleSplit\n",
    "\n",
    "from numpy import mean\n",
    "from sklearn.model_selection import train_test_split\n",
    "from sklearn.model_selection import cross_validate\n",
    "\n",
    "from sklearn.metrics import accuracy_score, precision_score, recall_score"
   ]
  },
  {
   "cell_type": "markdown",
   "metadata": {},
   "source": [
    "## Task 1: Select what features you'll use"
   ]
  },
  {
   "cell_type": "markdown",
   "metadata": {},
   "source": [
    "features_list is a list of strings, each of which is a feature name.    \n",
    "The first feature must be \"poi\".    \n",
    "features_list = ['poi','salary']    \n",
    "**You will need to use more features**"
   ]
  },
  {
   "cell_type": "code",
   "execution_count": 783,
   "metadata": {},
   "outputs": [],
   "source": [
    "target_label = 'poi'\n",
    "\n",
    "email_features_list = [\n",
    "    'from_messages',\n",
    "    'from_poi_to_this_person',\n",
    "    'from_this_person_to_poi',\n",
    "    'shared_receipt_with_poi',\n",
    "    'to_messages',\n",
    "    ]\n",
    "    \n",
    "financial_features_list = [\n",
    "    'bonus',\n",
    "    'deferral_payments',\n",
    "    'deferred_income',\n",
    "    'director_fees',\n",
    "    'exercised_stock_options',\n",
    "    'expenses',\n",
    "    'loan_advances',\n",
    "    'long_term_incentive',\n",
    "    'other',\n",
    "    'restricted_stock',\n",
    "    'restricted_stock_deferred',\n",
    "    'salary',\n",
    "    'total_payments',\n",
    "    'total_stock_value',\n",
    "]\n",
    "\n",
    "features_list = [target_label] + financial_features_list + email_features_list"
   ]
  },
  {
   "cell_type": "code",
   "execution_count": 784,
   "metadata": {},
   "outputs": [],
   "source": [
    "### Load the dictionary containing the dataset\n",
    "\n",
    "with open('final_project_dataset.pkl', 'rb') as data_file:\n",
    "    data_dict = pickle.load(data_file)"
   ]
  },
  {
   "cell_type": "code",
   "execution_count": 785,
   "metadata": {},
   "outputs": [
    {
     "data": {
      "text/html": [
       "<div>\n",
       "<style scoped>\n",
       "    .dataframe tbody tr th:only-of-type {\n",
       "        vertical-align: middle;\n",
       "    }\n",
       "\n",
       "    .dataframe tbody tr th {\n",
       "        vertical-align: top;\n",
       "    }\n",
       "\n",
       "    .dataframe thead th {\n",
       "        text-align: right;\n",
       "    }\n",
       "</style>\n",
       "<table border=\"1\" class=\"dataframe\">\n",
       "  <thead>\n",
       "    <tr style=\"text-align: right;\">\n",
       "      <th></th>\n",
       "      <th>salary</th>\n",
       "      <th>to_messages</th>\n",
       "      <th>deferral_payments</th>\n",
       "      <th>total_payments</th>\n",
       "      <th>loan_advances</th>\n",
       "      <th>bonus</th>\n",
       "      <th>email_address</th>\n",
       "      <th>restricted_stock_deferred</th>\n",
       "      <th>deferred_income</th>\n",
       "      <th>total_stock_value</th>\n",
       "      <th>...</th>\n",
       "      <th>from_poi_to_this_person</th>\n",
       "      <th>exercised_stock_options</th>\n",
       "      <th>from_messages</th>\n",
       "      <th>other</th>\n",
       "      <th>from_this_person_to_poi</th>\n",
       "      <th>poi</th>\n",
       "      <th>long_term_incentive</th>\n",
       "      <th>shared_receipt_with_poi</th>\n",
       "      <th>restricted_stock</th>\n",
       "      <th>director_fees</th>\n",
       "    </tr>\n",
       "  </thead>\n",
       "  <tbody>\n",
       "    <tr>\n",
       "      <th>METTS MARK</th>\n",
       "      <td>365788</td>\n",
       "      <td>807</td>\n",
       "      <td>NaN</td>\n",
       "      <td>1061827</td>\n",
       "      <td>NaN</td>\n",
       "      <td>600000</td>\n",
       "      <td>mark.metts@enron.com</td>\n",
       "      <td>NaN</td>\n",
       "      <td>NaN</td>\n",
       "      <td>585062</td>\n",
       "      <td>...</td>\n",
       "      <td>38</td>\n",
       "      <td>NaN</td>\n",
       "      <td>29</td>\n",
       "      <td>1740</td>\n",
       "      <td>1</td>\n",
       "      <td>False</td>\n",
       "      <td>NaN</td>\n",
       "      <td>702</td>\n",
       "      <td>585062</td>\n",
       "      <td>NaN</td>\n",
       "    </tr>\n",
       "    <tr>\n",
       "      <th>BAXTER JOHN C</th>\n",
       "      <td>267102</td>\n",
       "      <td>NaN</td>\n",
       "      <td>1295738</td>\n",
       "      <td>5634343</td>\n",
       "      <td>NaN</td>\n",
       "      <td>1200000</td>\n",
       "      <td>NaN</td>\n",
       "      <td>NaN</td>\n",
       "      <td>-1386055</td>\n",
       "      <td>10623258</td>\n",
       "      <td>...</td>\n",
       "      <td>NaN</td>\n",
       "      <td>6680544</td>\n",
       "      <td>NaN</td>\n",
       "      <td>2660303</td>\n",
       "      <td>NaN</td>\n",
       "      <td>False</td>\n",
       "      <td>1586055</td>\n",
       "      <td>NaN</td>\n",
       "      <td>3942714</td>\n",
       "      <td>NaN</td>\n",
       "    </tr>\n",
       "    <tr>\n",
       "      <th>ELLIOTT STEVEN</th>\n",
       "      <td>170941</td>\n",
       "      <td>NaN</td>\n",
       "      <td>NaN</td>\n",
       "      <td>211725</td>\n",
       "      <td>NaN</td>\n",
       "      <td>350000</td>\n",
       "      <td>steven.elliott@enron.com</td>\n",
       "      <td>NaN</td>\n",
       "      <td>-400729</td>\n",
       "      <td>6678735</td>\n",
       "      <td>...</td>\n",
       "      <td>NaN</td>\n",
       "      <td>4890344</td>\n",
       "      <td>NaN</td>\n",
       "      <td>12961</td>\n",
       "      <td>NaN</td>\n",
       "      <td>False</td>\n",
       "      <td>NaN</td>\n",
       "      <td>NaN</td>\n",
       "      <td>1788391</td>\n",
       "      <td>NaN</td>\n",
       "    </tr>\n",
       "    <tr>\n",
       "      <th>CORDES WILLIAM R</th>\n",
       "      <td>NaN</td>\n",
       "      <td>764</td>\n",
       "      <td>NaN</td>\n",
       "      <td>NaN</td>\n",
       "      <td>NaN</td>\n",
       "      <td>NaN</td>\n",
       "      <td>bill.cordes@enron.com</td>\n",
       "      <td>NaN</td>\n",
       "      <td>NaN</td>\n",
       "      <td>1038185</td>\n",
       "      <td>...</td>\n",
       "      <td>10</td>\n",
       "      <td>651850</td>\n",
       "      <td>12</td>\n",
       "      <td>NaN</td>\n",
       "      <td>0</td>\n",
       "      <td>False</td>\n",
       "      <td>NaN</td>\n",
       "      <td>58</td>\n",
       "      <td>386335</td>\n",
       "      <td>NaN</td>\n",
       "    </tr>\n",
       "    <tr>\n",
       "      <th>HANNON KEVIN P</th>\n",
       "      <td>243293</td>\n",
       "      <td>1045</td>\n",
       "      <td>NaN</td>\n",
       "      <td>288682</td>\n",
       "      <td>NaN</td>\n",
       "      <td>1500000</td>\n",
       "      <td>kevin.hannon@enron.com</td>\n",
       "      <td>NaN</td>\n",
       "      <td>-3117011</td>\n",
       "      <td>6391065</td>\n",
       "      <td>...</td>\n",
       "      <td>32</td>\n",
       "      <td>5538001</td>\n",
       "      <td>32</td>\n",
       "      <td>11350</td>\n",
       "      <td>21</td>\n",
       "      <td>True</td>\n",
       "      <td>1617011</td>\n",
       "      <td>1035</td>\n",
       "      <td>853064</td>\n",
       "      <td>NaN</td>\n",
       "    </tr>\n",
       "    <tr>\n",
       "      <th>...</th>\n",
       "      <td>...</td>\n",
       "      <td>...</td>\n",
       "      <td>...</td>\n",
       "      <td>...</td>\n",
       "      <td>...</td>\n",
       "      <td>...</td>\n",
       "      <td>...</td>\n",
       "      <td>...</td>\n",
       "      <td>...</td>\n",
       "      <td>...</td>\n",
       "      <td>...</td>\n",
       "      <td>...</td>\n",
       "      <td>...</td>\n",
       "      <td>...</td>\n",
       "      <td>...</td>\n",
       "      <td>...</td>\n",
       "      <td>...</td>\n",
       "      <td>...</td>\n",
       "      <td>...</td>\n",
       "      <td>...</td>\n",
       "      <td>...</td>\n",
       "    </tr>\n",
       "    <tr>\n",
       "      <th>GRAMM WENDY L</th>\n",
       "      <td>NaN</td>\n",
       "      <td>NaN</td>\n",
       "      <td>NaN</td>\n",
       "      <td>119292</td>\n",
       "      <td>NaN</td>\n",
       "      <td>NaN</td>\n",
       "      <td>NaN</td>\n",
       "      <td>NaN</td>\n",
       "      <td>NaN</td>\n",
       "      <td>NaN</td>\n",
       "      <td>...</td>\n",
       "      <td>NaN</td>\n",
       "      <td>NaN</td>\n",
       "      <td>NaN</td>\n",
       "      <td>NaN</td>\n",
       "      <td>NaN</td>\n",
       "      <td>False</td>\n",
       "      <td>NaN</td>\n",
       "      <td>NaN</td>\n",
       "      <td>NaN</td>\n",
       "      <td>119292</td>\n",
       "    </tr>\n",
       "    <tr>\n",
       "      <th>CAUSEY RICHARD A</th>\n",
       "      <td>415189</td>\n",
       "      <td>1892</td>\n",
       "      <td>NaN</td>\n",
       "      <td>1868758</td>\n",
       "      <td>NaN</td>\n",
       "      <td>1000000</td>\n",
       "      <td>richard.causey@enron.com</td>\n",
       "      <td>NaN</td>\n",
       "      <td>-235000</td>\n",
       "      <td>2502063</td>\n",
       "      <td>...</td>\n",
       "      <td>58</td>\n",
       "      <td>NaN</td>\n",
       "      <td>49</td>\n",
       "      <td>307895</td>\n",
       "      <td>12</td>\n",
       "      <td>True</td>\n",
       "      <td>350000</td>\n",
       "      <td>1585</td>\n",
       "      <td>2502063</td>\n",
       "      <td>NaN</td>\n",
       "    </tr>\n",
       "    <tr>\n",
       "      <th>TAYLOR MITCHELL S</th>\n",
       "      <td>265214</td>\n",
       "      <td>533</td>\n",
       "      <td>227449</td>\n",
       "      <td>1092663</td>\n",
       "      <td>NaN</td>\n",
       "      <td>600000</td>\n",
       "      <td>mitchell.taylor@enron.com</td>\n",
       "      <td>NaN</td>\n",
       "      <td>NaN</td>\n",
       "      <td>3745048</td>\n",
       "      <td>...</td>\n",
       "      <td>0</td>\n",
       "      <td>3181250</td>\n",
       "      <td>29</td>\n",
       "      <td>NaN</td>\n",
       "      <td>0</td>\n",
       "      <td>False</td>\n",
       "      <td>NaN</td>\n",
       "      <td>300</td>\n",
       "      <td>563798</td>\n",
       "      <td>NaN</td>\n",
       "    </tr>\n",
       "    <tr>\n",
       "      <th>DONAHUE JR JEFFREY M</th>\n",
       "      <td>278601</td>\n",
       "      <td>865</td>\n",
       "      <td>NaN</td>\n",
       "      <td>875760</td>\n",
       "      <td>NaN</td>\n",
       "      <td>800000</td>\n",
       "      <td>jeff.donahue@enron.com</td>\n",
       "      <td>NaN</td>\n",
       "      <td>-300000</td>\n",
       "      <td>1080988</td>\n",
       "      <td>...</td>\n",
       "      <td>188</td>\n",
       "      <td>765920</td>\n",
       "      <td>22</td>\n",
       "      <td>891</td>\n",
       "      <td>11</td>\n",
       "      <td>False</td>\n",
       "      <td>NaN</td>\n",
       "      <td>772</td>\n",
       "      <td>315068</td>\n",
       "      <td>NaN</td>\n",
       "    </tr>\n",
       "    <tr>\n",
       "      <th>GLISAN JR BEN F</th>\n",
       "      <td>274975</td>\n",
       "      <td>873</td>\n",
       "      <td>NaN</td>\n",
       "      <td>1272284</td>\n",
       "      <td>NaN</td>\n",
       "      <td>600000</td>\n",
       "      <td>ben.glisan@enron.com</td>\n",
       "      <td>NaN</td>\n",
       "      <td>NaN</td>\n",
       "      <td>778546</td>\n",
       "      <td>...</td>\n",
       "      <td>52</td>\n",
       "      <td>384728</td>\n",
       "      <td>16</td>\n",
       "      <td>200308</td>\n",
       "      <td>6</td>\n",
       "      <td>True</td>\n",
       "      <td>71023</td>\n",
       "      <td>874</td>\n",
       "      <td>393818</td>\n",
       "      <td>NaN</td>\n",
       "    </tr>\n",
       "  </tbody>\n",
       "</table>\n",
       "<p>146 rows × 21 columns</p>\n",
       "</div>"
      ],
      "text/plain": [
       "                      salary to_messages deferral_payments total_payments  \\\n",
       "METTS MARK            365788         807               NaN        1061827   \n",
       "BAXTER JOHN C         267102         NaN           1295738        5634343   \n",
       "ELLIOTT STEVEN        170941         NaN               NaN         211725   \n",
       "CORDES WILLIAM R         NaN         764               NaN            NaN   \n",
       "HANNON KEVIN P        243293        1045               NaN         288682   \n",
       "...                      ...         ...               ...            ...   \n",
       "GRAMM WENDY L            NaN         NaN               NaN         119292   \n",
       "CAUSEY RICHARD A      415189        1892               NaN        1868758   \n",
       "TAYLOR MITCHELL S     265214         533            227449        1092663   \n",
       "DONAHUE JR JEFFREY M  278601         865               NaN         875760   \n",
       "GLISAN JR BEN F       274975         873               NaN        1272284   \n",
       "\n",
       "                     loan_advances    bonus              email_address  \\\n",
       "METTS MARK                     NaN   600000       mark.metts@enron.com   \n",
       "BAXTER JOHN C                  NaN  1200000                        NaN   \n",
       "ELLIOTT STEVEN                 NaN   350000   steven.elliott@enron.com   \n",
       "CORDES WILLIAM R               NaN      NaN      bill.cordes@enron.com   \n",
       "HANNON KEVIN P                 NaN  1500000     kevin.hannon@enron.com   \n",
       "...                            ...      ...                        ...   \n",
       "GRAMM WENDY L                  NaN      NaN                        NaN   \n",
       "CAUSEY RICHARD A               NaN  1000000   richard.causey@enron.com   \n",
       "TAYLOR MITCHELL S              NaN   600000  mitchell.taylor@enron.com   \n",
       "DONAHUE JR JEFFREY M           NaN   800000     jeff.donahue@enron.com   \n",
       "GLISAN JR BEN F                NaN   600000       ben.glisan@enron.com   \n",
       "\n",
       "                     restricted_stock_deferred deferred_income  \\\n",
       "METTS MARK                                 NaN             NaN   \n",
       "BAXTER JOHN C                              NaN        -1386055   \n",
       "ELLIOTT STEVEN                             NaN         -400729   \n",
       "CORDES WILLIAM R                           NaN             NaN   \n",
       "HANNON KEVIN P                             NaN        -3117011   \n",
       "...                                        ...             ...   \n",
       "GRAMM WENDY L                              NaN             NaN   \n",
       "CAUSEY RICHARD A                           NaN         -235000   \n",
       "TAYLOR MITCHELL S                          NaN             NaN   \n",
       "DONAHUE JR JEFFREY M                       NaN         -300000   \n",
       "GLISAN JR BEN F                            NaN             NaN   \n",
       "\n",
       "                     total_stock_value  ... from_poi_to_this_person  \\\n",
       "METTS MARK                      585062  ...                      38   \n",
       "BAXTER JOHN C                 10623258  ...                     NaN   \n",
       "ELLIOTT STEVEN                 6678735  ...                     NaN   \n",
       "CORDES WILLIAM R               1038185  ...                      10   \n",
       "HANNON KEVIN P                 6391065  ...                      32   \n",
       "...                                ...  ...                     ...   \n",
       "GRAMM WENDY L                      NaN  ...                     NaN   \n",
       "CAUSEY RICHARD A               2502063  ...                      58   \n",
       "TAYLOR MITCHELL S              3745048  ...                       0   \n",
       "DONAHUE JR JEFFREY M           1080988  ...                     188   \n",
       "GLISAN JR BEN F                 778546  ...                      52   \n",
       "\n",
       "                     exercised_stock_options from_messages    other  \\\n",
       "METTS MARK                               NaN            29     1740   \n",
       "BAXTER JOHN C                        6680544           NaN  2660303   \n",
       "ELLIOTT STEVEN                       4890344           NaN    12961   \n",
       "CORDES WILLIAM R                      651850            12      NaN   \n",
       "HANNON KEVIN P                       5538001            32    11350   \n",
       "...                                      ...           ...      ...   \n",
       "GRAMM WENDY L                            NaN           NaN      NaN   \n",
       "CAUSEY RICHARD A                         NaN            49   307895   \n",
       "TAYLOR MITCHELL S                    3181250            29      NaN   \n",
       "DONAHUE JR JEFFREY M                  765920            22      891   \n",
       "GLISAN JR BEN F                       384728            16   200308   \n",
       "\n",
       "                     from_this_person_to_poi    poi long_term_incentive  \\\n",
       "METTS MARK                                 1  False                 NaN   \n",
       "BAXTER JOHN C                            NaN  False             1586055   \n",
       "ELLIOTT STEVEN                           NaN  False                 NaN   \n",
       "CORDES WILLIAM R                           0  False                 NaN   \n",
       "HANNON KEVIN P                            21   True             1617011   \n",
       "...                                      ...    ...                 ...   \n",
       "GRAMM WENDY L                            NaN  False                 NaN   \n",
       "CAUSEY RICHARD A                          12   True              350000   \n",
       "TAYLOR MITCHELL S                          0  False                 NaN   \n",
       "DONAHUE JR JEFFREY M                      11  False                 NaN   \n",
       "GLISAN JR BEN F                            6   True               71023   \n",
       "\n",
       "                     shared_receipt_with_poi restricted_stock director_fees  \n",
       "METTS MARK                               702           585062           NaN  \n",
       "BAXTER JOHN C                            NaN          3942714           NaN  \n",
       "ELLIOTT STEVEN                           NaN          1788391           NaN  \n",
       "CORDES WILLIAM R                          58           386335           NaN  \n",
       "HANNON KEVIN P                          1035           853064           NaN  \n",
       "...                                      ...              ...           ...  \n",
       "GRAMM WENDY L                            NaN              NaN        119292  \n",
       "CAUSEY RICHARD A                        1585          2502063           NaN  \n",
       "TAYLOR MITCHELL S                        300           563798           NaN  \n",
       "DONAHUE JR JEFFREY M                     772           315068           NaN  \n",
       "GLISAN JR BEN F                          874           393818           NaN  \n",
       "\n",
       "[146 rows x 21 columns]"
      ]
     },
     "execution_count": 785,
     "metadata": {},
     "output_type": "execute_result"
    }
   ],
   "source": [
    "df = pd.DataFrame(data_dict)\n",
    "#df['LOCKHART EUGENE E']\n",
    "df.T"
   ]
  },
  {
   "cell_type": "markdown",
   "metadata": {},
   "source": [
    "### 1.1.0 Explore csv file "
   ]
  },
  {
   "cell_type": "code",
   "execution_count": 786,
   "metadata": {},
   "outputs": [],
   "source": [
    "def make_csv(data_dict):\n",
    "    \"\"\" generates a csv file from a data set\"\"\"\n",
    "    fieldnames = ['name'] + data_dict.itervalues().next().keys()\n",
    "    with open('data.csv', 'w') as csvfile:\n",
    "        writer = csv.DictWriter(csvfile, fieldnames=fieldnames)\n",
    "        writer.writeheader()\n",
    "        for record in data_dict:\n",
    "            person = data_dict[record]\n",
    "            person['name'] = record\n",
    "            assert set(person.keys()) == set(fieldnames)\n",
    "            writer.writerow(person)"
   ]
  },
  {
   "cell_type": "markdown",
   "metadata": {},
   "source": [
    "### 1.1.1 Dataset Exploration"
   ]
  },
  {
   "cell_type": "code",
   "execution_count": 787,
   "metadata": {},
   "outputs": [
    {
     "name": "stdout",
     "output_type": "stream",
     "text": [
      "# Exploratory Data Analysis #\n",
      "Total number of data points: 146\n",
      "Number of Persons of Interest: 18\n",
      "Number of people without Person of Interest label: 128\n"
     ]
    }
   ],
   "source": [
    "print('# Exploratory Data Analysis #')\n",
    "data_dict.keys()\n",
    "print('Total number of data points: %d' % len(data_dict.keys()))\n",
    "num_poi = 0\n",
    "for name in data_dict.keys():\n",
    "    if data_dict[name]['poi'] == True:\n",
    "        num_poi += 1\n",
    "print('Number of Persons of Interest: %d' % num_poi)\n",
    "print('Number of people without Person of Interest label: %d' % (len(data_dict.keys()) - num_poi))"
   ]
  },
  {
   "cell_type": "markdown",
   "metadata": {},
   "source": [
    "### 1.1.2 Feature Exploration"
   ]
  },
  {
   "cell_type": "code",
   "execution_count": 788,
   "metadata": {},
   "outputs": [
    {
     "name": "stdout",
     "output_type": "stream",
     "text": [
      "Each person has 21 features available\n"
     ]
    }
   ],
   "source": [
    "all_features = data_dict['ALLEN PHILLIP K'].keys()\n",
    "print('Each person has %d features available' %  len(all_features))\n",
    "### Evaluate dataset for completeness\n",
    "missing_values = {}\n",
    "for feature in all_features:\n",
    "    missing_values[feature] = 0\n",
    "for person in data_dict.keys():\n",
    "    records = 0\n",
    "    for feature in all_features:\n",
    "        if data_dict[person][feature] == 'NaN':\n",
    "            missing_values[feature] += 1\n",
    "        else:\n",
    "            records += 1"
   ]
  },
  {
   "cell_type": "markdown",
   "metadata": {},
   "source": [
    "### Print results of completeness analysis"
   ]
  },
  {
   "cell_type": "code",
   "execution_count": 789,
   "metadata": {},
   "outputs": [
    {
     "name": "stdout",
     "output_type": "stream",
     "text": [
      "Number of Missing Values for Each Feature:\n",
      "loan_advances 142\n",
      "director_fees 129\n",
      "restricted_stock_deferred 128\n",
      "deferral_payments 107\n",
      "deferred_income 97\n",
      "long_term_incentive 80\n",
      "bonus 64\n",
      "to_messages 60\n",
      "from_poi_to_this_person 60\n",
      "from_messages 60\n",
      "from_this_person_to_poi 60\n",
      "shared_receipt_with_poi 60\n",
      "other 53\n",
      "salary 51\n",
      "expenses 51\n",
      "exercised_stock_options 44\n",
      "restricted_stock 36\n",
      "email_address 35\n",
      "total_payments 21\n",
      "total_stock_value 20\n",
      "poi 0\n"
     ]
    }
   ],
   "source": [
    "print('Number of Missing Values for Each Feature:')\n",
    "\n",
    "#sorted(missing_values.values())\n",
    "\n",
    "#for feature in all_features:\n",
    "   # print(\"%s: %d\" % (feature, sorted(missing_values.values())[feature])\n",
    "\n",
    "\n",
    "for id in sorted(missing_values, key = missing_values.get, reverse = True):\n",
    "          print(id, missing_values[id])\n"
   ]
  },
  {
   "cell_type": "markdown",
   "metadata": {},
   "source": [
    "=> classification,we have here unblanced target. \n",
    "Maybe Smot methodology ? "
   ]
  },
  {
   "cell_type": "markdown",
   "metadata": {},
   "source": [
    "## Task 2: Remove outliers"
   ]
  },
  {
   "cell_type": "code",
   "execution_count": 790,
   "metadata": {},
   "outputs": [],
   "source": [
    "def PlotOutlier(data_dict, feature_x, feature_y):\n",
    "    \"\"\" Plot with flag = True in Red \"\"\"\n",
    "    data = featureFormat(data_dict, [feature_x, feature_y, 'poi'])\n",
    "    for point in data:\n",
    "        x = point[0]\n",
    "        y = point[1]\n",
    "        poi = point[2]\n",
    "        if poi:\n",
    "            color = 'red'\n",
    "        else:\n",
    "            color = 'blue'\n",
    "        plt.scatter(x, y, color=color)\n",
    "    plt.xlabel(feature_x)\n",
    "    plt.ylabel(feature_y)\n",
    "    plt.show()"
   ]
  },
  {
   "cell_type": "markdown",
   "metadata": {},
   "source": [
    "### 2.1 Visualise outliers"
   ]
  },
  {
   "cell_type": "code",
   "execution_count": 791,
   "metadata": {},
   "outputs": [
    {
     "data": {
      "image/png": "[encoded data removed]",
      "text/plain": [
       "<Figure size 432x288 with 1 Axes>"
      ]
     },
     "metadata": {
      "needs_background": "light"
     },
     "output_type": "display_data"
    },
    {
     "name": "stdout",
     "output_type": "stream",
     "text": [
      "None\n"
     ]
    },
    {
     "data": {
      "image/png": "[encoded data removed]",
      "text/plain": [
       "<Figure size 432x288 with 1 Axes>"
      ]
     },
     "metadata": {
      "needs_background": "light"
     },
     "output_type": "display_data"
    },
    {
     "name": "stdout",
     "output_type": "stream",
     "text": [
      "None\n"
     ]
    },
    {
     "data": {
      "image/png": "[encoded data removed]",
      "text/plain": [
       "<Figure size 432x288 with 1 Axes>"
      ]
     },
     "metadata": {
      "needs_background": "light"
     },
     "output_type": "display_data"
    },
    {
     "name": "stdout",
     "output_type": "stream",
     "text": [
      "None\n"
     ]
    },
    {
     "data": {
      "text/plain": [
       "{'salary': 26704229,\n",
       " 'to_messages': 'NaN',\n",
       " 'deferral_payments': 32083396,\n",
       " 'total_payments': 309886585,\n",
       " 'loan_advances': 83925000,\n",
       " 'bonus': 97343619,\n",
       " 'email_address': 'NaN',\n",
       " 'restricted_stock_deferred': -7576788,\n",
       " 'deferred_income': -27992891,\n",
       " 'total_stock_value': 434509511,\n",
       " 'expenses': 5235198,\n",
       " 'from_poi_to_this_person': 'NaN',\n",
       " 'exercised_stock_options': 311764000,\n",
       " 'from_messages': 'NaN',\n",
       " 'other': 42667589,\n",
       " 'from_this_person_to_poi': 'NaN',\n",
       " 'poi': False,\n",
       " 'long_term_incentive': 48521928,\n",
       " 'shared_receipt_with_poi': 'NaN',\n",
       " 'restricted_stock': 130322299,\n",
       " 'director_fees': 1398517}"
      ]
     },
     "execution_count": 791,
     "metadata": {},
     "output_type": "execute_result"
    }
   ],
   "source": [
    "print(PlotOutlier(data_dict, 'total_payments', 'total_stock_value'))\n",
    "print(PlotOutlier(data_dict, 'from_poi_to_this_person', 'from_this_person_to_poi'))\n",
    "print(PlotOutlier(data_dict, 'salary', 'bonus'))\n",
    "#Remove outlier TOTAL line in pickle file.\n",
    "data_dict.pop( 'TOTAL', 0 )"
   ]
  },
  {
   "cell_type": "markdown",
   "metadata": {},
   "source": [
    "### 2.2 Function to remove outliers"
   ]
  },
  {
   "cell_type": "code",
   "execution_count": 792,
   "metadata": {},
   "outputs": [],
   "source": [
    "def remove_outlier(dict_object, keys):\n",
    "    \"\"\" removes list of outliers keys from dict object \"\"\"\n",
    "    for key in keys:\n",
    "        dict_object.pop(key, 0)\n",
    "\n",
    "outliers = ['TOTAL', 'THE TRAVEL AGENCY IN THE PARK', 'LOCKHART EUGENE E']\n",
    "remove_outlier(data_dict, outliers)"
   ]
  },
  {
   "cell_type": "markdown",
   "metadata": {},
   "source": [
    "=>Remove columns   \n",
    "Maybe more outliers ? "
   ]
  },
  {
   "cell_type": "markdown",
   "metadata": {},
   "source": [
    "### Task 3: Create new feature(s)"
   ]
  },
  {
   "cell_type": "markdown",
   "metadata": {},
   "source": [
    "### 3.1 create new copies of dataset for grading"
   ]
  },
  {
   "cell_type": "code",
   "execution_count": 794,
   "metadata": {},
   "outputs": [],
   "source": [
    "my_dataset = data_dict"
   ]
  },
  {
   "cell_type": "markdown",
   "metadata": {},
   "source": [
    "### 3.2 add new features to dataset"
   ]
  },
  {
   "cell_type": "code",
   "execution_count": 795,
   "metadata": {},
   "outputs": [],
   "source": [
    "def compute_fraction(poi_messages, all_messages):\n",
    "    \"\"\" return fraction of messages from/to that person to/from POI\"\"\"    \n",
    "    if poi_messages == 'NaN' or all_messages == 'NaN':\n",
    "        return 0.\n",
    "    fraction = poi_messages / all_messages\n",
    "    return fraction"
   ]
  },
  {
   "cell_type": "code",
   "execution_count": 796,
   "metadata": {},
   "outputs": [],
   "source": [
    "for name in my_dataset:\n",
    "    data_point = my_dataset[name]\n",
    "    from_poi_to_this_person = data_point[\"from_poi_to_this_person\"]\n",
    "    to_messages = data_point[\"to_messages\"]\n",
    "    fraction_from_poi = compute_fraction(from_poi_to_this_person, to_messages)\n",
    "    data_point[\"fraction_from_poi\"] = fraction_from_poi\n",
    "    from_this_person_to_poi = data_point[\"from_this_person_to_poi\"]\n",
    "    from_messages = data_point[\"from_messages\"]\n",
    "    fraction_to_poi = compute_fraction(from_this_person_to_poi, from_messages)\n",
    "    data_point[\"fraction_to_poi\"] = fraction_to_poi\n",
    "    \n",
    "    shared_receipt_with_poi = data_point[\"shared_receipt_with_poi\"]\n",
    "    shared_receipt_poi_ratio = compute_fraction(shared_receipt_with_poi, to_messages)\n",
    "    data_point[\"shared_receipt_poi_ratio\"] = shared_receipt_poi_ratio\n",
    "    \n",
    "    bonus= data_point[\"bonus\"]\n",
    "    salary = data_point[\"salary\"]\n",
    "    bonus_to_salary = compute_fraction(bonus, salary)\n",
    "    data_point[\"bonus_to_salary\"] = bonus_to_salary  \n",
    "    \n",
    "    total_payments = data_point[\"total_payments\"]\n",
    "    bonus_to_salary = compute_fraction(total_payments, salary)\n",
    "    data_point[\"bonus_to_total\"] = bonus_to_salary  \n",
    "    \n",
    "    x = float(from_poi_to_this_person) + float(from_this_person_to_poi)\n",
    "    y = float(from_messages) + float(to_messages)\n",
    "    ratio_mess= compute_fraction(x,y)\n",
    "    data_point[\"ratio_mess\"] = ratio_mess "
   ]
  },
  {
   "cell_type": "code",
   "execution_count": 797,
   "metadata": {},
   "outputs": [
    {
     "data": {
      "text/plain": [
       "dict_keys(['METTS MARK', 'BAXTER JOHN C', 'ELLIOTT STEVEN', 'CORDES WILLIAM R', 'HANNON KEVIN P', 'MORDAUNT KRISTINA M', 'MEYER ROCKFORD G', 'MCMAHON JEFFREY', 'HAEDICKE MARK E', 'PIPER GREGORY F', 'HUMPHREY GENE E', 'NOLES JAMES L', 'BLACHMAN JEREMY M', 'SUNDE MARTIN', 'GIBBS DANA R', 'LOWRY CHARLES P', 'COLWELL WESLEY', 'MULLER MARK S', 'JACKSON CHARLENE R', 'WESTFAHL RICHARD K', 'WALTERS GARETH W', 'WALLS JR ROBERT H', 'KITCHEN LOUISE', 'CHAN RONNIE', 'BELFER ROBERT', 'SHANKMAN JEFFREY A', 'WODRASKA JOHN', 'BERGSIEKER RICHARD P', 'URQUHART JOHN A', 'BIBI PHILIPPE A', 'RIEKER PAULA H', 'WHALEY DAVID A', 'BECK SALLY W', 'HAUG DAVID L', 'ECHOLS JOHN B', 'MENDELSOHN JOHN', 'HICKERSON GARY J', 'CLINE KENNETH W', 'LEWIS RICHARD', 'HAYES ROBERT E', 'KOPPER MICHAEL J', 'LEFF DANIEL P', 'LAVORATO JOHN J', 'BERBERIAN DAVID', 'DETMERING TIMOTHY J', 'WAKEHAM JOHN', 'POWERS WILLIAM', 'GOLD JOSEPH', 'BANNANTINE JAMES M', 'DUNCAN JOHN H', 'SHAPIRO RICHARD S', 'SHERRIFF JOHN R', 'SHELBY REX', 'LEMAISTRE CHARLES', 'DEFFNER JOSEPH M', 'KISHKILL JOSEPH G', 'WHALLEY LAWRENCE G', 'MCCONNELL MICHAEL S', 'PIRO JIM', 'DELAINEY DAVID W', 'SULLIVAN-SHAKLOVITZ COLLEEN', 'WROBEL BRUCE', 'LINDHOLM TOD A', 'MEYER JEROME J', 'LAY KENNETH L', 'BUTTS ROBERT H', 'OLSON CINDY K', 'MCDONALD REBECCA', 'CUMBERLAND MICHAEL S', 'GAHN ROBERT S', 'BADUM JAMES P', 'HERMANN ROBERT J', 'FALLON JAMES B', 'GATHMANN WILLIAM D', 'HORTON STANLEY C', 'BOWEN JR RAYMOND M', 'GILLIS JOHN', 'FITZGERALD JAY L', 'MORAN MICHAEL P', 'REDMOND BRIAN L', 'BAZELIDES PHILIP J', 'BELDEN TIMOTHY N', 'DIMICHELE RICHARD G', 'DURAN WILLIAM D', 'THORN TERENCE H', 'FASTOW ANDREW S', 'FOY JOE', 'CALGER CHRISTOPHER F', 'RICE KENNETH D', 'KAMINSKI WINCENTY J', 'COX DAVID', 'OVERDYKE JR JERE C', 'PEREIRA PAULO V. FERRAZ', 'STABLER FRANK', 'SKILLING JEFFREY K', 'BLAKE JR. NORMAN P', 'SHERRICK JEFFREY B', 'PRENTICE JAMES', 'GRAY RODNEY', 'UMANOFF ADAM S', 'KEAN STEVEN J', 'FOWLER PEGGY', 'WASAFF GEORGE', 'WHITE JR THOMAS E', 'CHRISTODOULOU DIOMEDES', 'ALLEN PHILLIP K', 'SHARP VICTORIA T', 'JAEDICKE ROBERT', 'WINOKUR JR. HERBERT S', 'BROWN MICHAEL', 'MCCLELLAN GEORGE', 'HUGHES JAMES A', 'REYNOLDS LAWRENCE', 'PICKERING MARK R', 'BHATNAGAR SANJAY', 'CARTER REBECCA C', 'BUCHANAN HAROLD G', 'YEAP SOON', 'MURRAY JULIA H', 'GARLAND C KEVIN', 'DODSON KEITH', 'YEAGER F SCOTT', 'HIRKO JOSEPH', 'DIETRICH JANET R', 'DERRICK JR. JAMES V', 'FREVERT MARK A', 'PAI LOU L', 'HAYSLETT RODERICK J', 'BAY FRANKLIN R', 'MCCARTY DANNY J', 'FUGH JOHN L', 'SCRIMSHAW MATTHEW', 'KOENIG MARK E', 'SAVAGE FRANK', 'IZZO LAWRENCE L', 'TILNEY ELIZABETH A', 'MARTIN AMANDA K', 'BUY RICHARD B', 'GRAMM WENDY L', 'CAUSEY RICHARD A', 'TAYLOR MITCHELL S', 'DONAHUE JR JEFFREY M', 'GLISAN JR BEN F'])"
      ]
     },
     "execution_count": 797,
     "metadata": {},
     "output_type": "execute_result"
    }
   ],
   "source": [
    "my_dataset.keys()"
   ]
  },
  {
   "cell_type": "code",
   "execution_count": 798,
   "metadata": {},
   "outputs": [],
   "source": [
    "for name in my_dataset:\n",
    "    data_point = my_dataset[name]\n",
    "    direction = 0 \n",
    "    data_point[\"direction\"] = direction "
   ]
  },
  {
   "cell_type": "code",
   "execution_count": 799,
   "metadata": {},
   "outputs": [],
   "source": [
    "list_direction2 = [\"LAY KENNETH L\",\"SKILLING JEFFREY K\"]\n",
    "list_direction1 = [\"BUY RICHARD B\",\"CAUSEY RICHARD A\",\"DERRICK JR. JAMES V\",\"KEAN STEVEN J\",\"KOENIG MARK E\",\"METTS MARK\",\"FASTOW ANDREW S\",\"BAXTER JOHN C\",\"HORTON STANLEY C\",\"FREVERT MARK A\",\"WHALLEY LAWRENCE G\",\"PAI LOU L\",\"WHITE JR THOMAS E\",\"HIRKO JOSEPH\",\"RICE KENNETH D\"]\n",
    "data_point = my_dataset[name]\n",
    "for name in my_dataset : \n",
    "    for item in list_direction1 :\n",
    "        if name == item : \n",
    "            direction = 1\n",
    "            my_dataset[name]['direction'] = direction\n",
    "    for item2 in list_direction2 :\n",
    "        if name == item2 : \n",
    "            direction = 2\n",
    "            my_dataset[name]['direction'] = direction\n"
   ]
  },
  {
   "cell_type": "code",
   "execution_count": 800,
   "metadata": {},
   "outputs": [
    {
     "data": {
      "text/plain": [
       "{'salary': 1072321,\n",
       " 'to_messages': 4273,\n",
       " 'deferral_payments': 202911,\n",
       " 'total_payments': 103559793,\n",
       " 'loan_advances': 81525000,\n",
       " 'bonus': 7000000,\n",
       " 'email_address': 'kenneth.lay@enron.com',\n",
       " 'restricted_stock_deferred': 'NaN',\n",
       " 'deferred_income': -300000,\n",
       " 'total_stock_value': 49110078,\n",
       " 'expenses': 99832,\n",
       " 'from_poi_to_this_person': 123,\n",
       " 'exercised_stock_options': 34348384,\n",
       " 'from_messages': 36,\n",
       " 'other': 10359729,\n",
       " 'from_this_person_to_poi': 16,\n",
       " 'poi': True,\n",
       " 'long_term_incentive': 3600000,\n",
       " 'shared_receipt_with_poi': 2411,\n",
       " 'restricted_stock': 14761694,\n",
       " 'director_fees': 'NaN',\n",
       " 'fraction_from_poi': 0.028785396676807865,\n",
       " 'fraction_to_poi': 0.4444444444444444,\n",
       " 'shared_receipt_poi_ratio': 0.5642405803884858,\n",
       " 'bonus_to_salary': 6.527896031132468,\n",
       " 'bonus_to_total': 96.57536595851428,\n",
       " 'ratio_mess': 0.03225806451612903,\n",
       " 'direction': 2}"
      ]
     },
     "execution_count": 800,
     "metadata": {},
     "output_type": "execute_result"
    }
   ],
   "source": [
    "my_dataset['LAY KENNETH L']"
   ]
  },
  {
   "cell_type": "markdown",
   "metadata": {},
   "source": [
    "=> Maybe new features ? "
   ]
  },
  {
   "cell_type": "markdown",
   "metadata": {},
   "source": [
    "### 3.3 create new copies of feature list for grading"
   ]
  },
  {
   "cell_type": "code",
   "execution_count": 801,
   "metadata": {},
   "outputs": [],
   "source": [
    "k=20"
   ]
  },
  {
   "cell_type": "code",
   "execution_count": 802,
   "metadata": {},
   "outputs": [],
   "source": [
    "my_feature_list = features_list +['to_messages', 'from_poi_to_this_person', 'from_messages', 'from_this_person_to_poi','shared_receipt_with_poi', 'fraction_to_poi','shared_receipt_poi_ratio','bonus_to_salary','bonus_to_total','direction']"
   ]
  },
  {
   "cell_type": "code",
   "execution_count": 603,
   "metadata": {},
   "outputs": [
    {
     "name": "stdout",
     "output_type": "stream",
     "text": [
      "Automatically created module for IPython interactive environment\n"
     ]
    },
    {
     "data": {
      "image/png": "[encoded data removed]",
      "text/plain": [
       "<Figure size 432x288 with 1 Axes>"
      ]
     },
     "metadata": {
      "needs_background": "light"
     },
     "output_type": "display_data"
    }
   ],
   "source": [
    "import numpy as np\n",
    "import matplotlib.pyplot as plt\n",
    "from sklearn.model_selection import GridSearchCV\n",
    "from sklearn.pipeline import Pipeline\n",
    "from sklearn.svm import LinearSVC\n",
    "from sklearn.decomposition import PCA, NMF\n",
    "from sklearn.feature_selection import SelectKBest\n",
    "\n",
    "print(__doc__)\n",
    "\n",
    "pipe = Pipeline([\n",
    "    # the reduce_dim stage is populated by the param_grid\n",
    "    ('reduce_dim', 'passthrough'),\n",
    "    ('classify', LogisticRegression())\n",
    "])\n",
    "\n",
    "N_FEATURES_OPTIONS = [1, 2, 3, 4, 5, 6, 7, 8, 9, 10]\n",
    "C_OPTIONS = [1, 10, 100, 1000]\n",
    "param_grid = [\n",
    "    {\n",
    "        'reduce_dim': [PCA(iterated_power=7), NMF()],\n",
    "        'reduce_dim__n_components': N_FEATURES_OPTIONS,\n",
    "        'classify__C': C_OPTIONS\n",
    "    },\n",
    "    {\n",
    "        'reduce_dim': [SelectKBest()],\n",
    "        'reduce_dim__k': N_FEATURES_OPTIONS,\n",
    "        'classify__C': C_OPTIONS\n",
    "    },\n",
    "]\n",
    "reducer_labels = ['PCA', 'NMF', 'KBest()']\n",
    "\n",
    "\n",
    "grid = GridSearchCV(pipe, n_jobs=1, cv= 5, param_grid=param_grid, scoring='precision')\n",
    "\n",
    "grid.fit(features, labels)\n",
    "\n",
    "mean_scores = np.array(grid.cv_results_['mean_test_score'])\n",
    "# scores are in the order of param_grid iteration, which is alphabetical\n",
    "mean_scores = mean_scores.reshape(len(C_OPTIONS), -1, len(N_FEATURES_OPTIONS))\n",
    "# select score for best C\n",
    "mean_scores = mean_scores.max(axis=0)\n",
    "bar_offsets = (np.arange(len(N_FEATURES_OPTIONS)) *\n",
    "               (len(reducer_labels) + 1) + .5)\n",
    "\n",
    "plt.figure()\n",
    "COLORS = 'bgrcmyk'\n",
    "for i, (label, reducer_scores) in enumerate(zip(reducer_labels, mean_scores)):\n",
    "    plt.bar(bar_offsets + i, reducer_scores, label=label, color=COLORS[i])\n",
    "\n",
    "plt.title(\"Comparing feature reduction techniques\")\n",
    "plt.xlabel('Reduced number of features')\n",
    "plt.xticks(bar_offsets + len(reducer_labels) / 2, N_FEATURES_OPTIONS)\n",
    "plt.ylabel('Digit classification accuracy')\n",
    "plt.ylim((0, 1))\n",
    "plt.legend(loc='upper left')\n",
    "\n",
    "plt.show()"
   ]
  },
  {
   "cell_type": "markdown",
   "metadata": {},
   "source": [
    "### 3.4 get K-best features"
   ]
  },
  {
   "cell_type": "code",
   "execution_count": 803,
   "metadata": {},
   "outputs": [],
   "source": [
    "num_features = 8"
   ]
  },
  {
   "cell_type": "markdown",
   "metadata": {},
   "source": [
    "### 3.5 function using SelectKBest"
   ]
  },
  {
   "cell_type": "code",
   "execution_count": 804,
   "metadata": {},
   "outputs": [],
   "source": [
    "def get_k_best(data_dict, features_list, k):\n",
    "    \"\"\" runs scikit-learn's SelectKBest feature selection\n",
    "        returns dict where keys=features, values=scores\n",
    "    \"\"\"\n",
    "    data = featureFormat(data_dict, features_list)\n",
    "    labels, features = targetFeatureSplit(data)\n",
    "\n",
    "    k_best = SelectKBest(k=k)\n",
    "    k_best.fit(features, labels)\n",
    "    scores = k_best.scores_\n",
    "    print(scores)\n",
    "    unsorted_pairs = zip(features_list[1:], scores)\n",
    "    sorted_pairs = list(reversed(sorted(unsorted_pairs, key=lambda x: x[1])))\n",
    "    k_best_features = dict(sorted_pairs[:k])\n",
    "    print (\"{0} best features: {1}\\n\".format(k, k_best_features.keys(), scores))\n",
    "    return k_best_features"
   ]
  },
  {
   "cell_type": "markdown",
   "metadata": {},
   "source": [
    "=> Maybe appropriate stat test for classification. "
   ]
  },
  {
   "cell_type": "code",
   "execution_count": 805,
   "metadata": {},
   "outputs": [
    {
     "name": "stdout",
     "output_type": "stream",
     "text": [
      "[20.79225205  0.22461127 11.45847658  2.1263278  24.81507973  6.09417331\n",
      "  7.18405566  9.92218601  4.18747751  9.21281062  0.06549965 18.28968404\n",
      "  8.77277773 24.18289868  0.16970095  5.24344971  2.38261211  8.58942073\n",
      "  1.64634113  1.64634113  5.24344971  0.16970095  2.38261211  8.58942073\n",
      " 16.40971255  9.10126874 10.78358471  0.05269769 22.11011023]\n",
      "8 best features: dict_keys(['exercised_stock_options', 'total_stock_value', 'direction', 'bonus', 'salary', 'fraction_to_poi', 'deferred_income', 'bonus_to_salary'])\n",
      "\n"
     ]
    }
   ],
   "source": [
    "best_features = get_k_best(my_dataset, my_feature_list, num_features)\n",
    "\n",
    "my_feature_list = [target_label] + list(set(best_features.keys()))\n"
   ]
  },
  {
   "cell_type": "markdown",
   "metadata": {},
   "source": [
    "### 3.6 print features"
   ]
  },
  {
   "cell_type": "code",
   "execution_count": 806,
   "metadata": {},
   "outputs": [
    {
     "name": "stdout",
     "output_type": "stream",
     "text": [
      "8 selected features: ['fraction_to_poi', 'direction', 'total_stock_value', 'exercised_stock_options', 'bonus', 'salary', 'bonus_to_salary', 'deferred_income']\n",
      "\n"
     ]
    }
   ],
   "source": [
    "print (\"{0} selected features: {1}\\n\".format(len(my_feature_list) - 1, my_feature_list[1:]))"
   ]
  },
  {
   "cell_type": "markdown",
   "metadata": {},
   "source": [
    "### 3.7 extract the features specified in features_list\n"
   ]
  },
  {
   "cell_type": "code",
   "execution_count": 807,
   "metadata": {},
   "outputs": [],
   "source": [
    "data = featureFormat(my_dataset, my_feature_list,sort_keys = True)"
   ]
  },
  {
   "cell_type": "markdown",
   "metadata": {},
   "source": [
    "split into labels and features"
   ]
  },
  {
   "cell_type": "code",
   "execution_count": 808,
   "metadata": {},
   "outputs": [],
   "source": [
    "labels, features = targetFeatureSplit(data)"
   ]
  },
  {
   "cell_type": "markdown",
   "metadata": {},
   "source": [
    "### 3.8 scale features via min-max"
   ]
  },
  {
   "cell_type": "code",
   "execution_count": 809,
   "metadata": {},
   "outputs": [],
   "source": [
    "from sklearn import preprocessing\n",
    "scaler = preprocessing.MinMaxScaler()\n",
    "features = scaler.fit_transform(features)"
   ]
  },
  {
   "cell_type": "markdown",
   "metadata": {},
   "source": [
    "#### 3.9 Imputer strategy"
   ]
  },
  {
   "cell_type": "markdown",
   "metadata": {},
   "source": [
    "from sklearn.pipeline import make_pipeline\n",
    "from sklearn.impute import KNNImputer"
   ]
  },
  {
   "cell_type": "markdown",
   "metadata": {},
   "source": [
    "model = make_pipeline(KNNImputer(),LogisticRegression())\n",
    "params = {'knnimputer__n_neighbors' : [1, 2, 3, 4, 5, 6, 7, 8, 9,10]}\n",
    "grid = GridSearchCV(model, param_grid=params,cv=5, scoring=\"precision\")\n",
    "\n",
    "grid.fit(features, labels)\n"
   ]
  },
  {
   "cell_type": "markdown",
   "metadata": {},
   "source": [
    "grid.best_estimator_"
   ]
  },
  {
   "cell_type": "markdown",
   "metadata": {},
   "source": [
    "imputer=KNNImputer(n_neighbors=1)"
   ]
  },
  {
   "cell_type": "markdown",
   "metadata": {},
   "source": [
    "features=imputer.fit_transform(features)"
   ]
  },
  {
   "cell_type": "markdown",
   "metadata": {},
   "source": [
    "## Task 4: Using algorithm"
   ]
  },
  {
   "cell_type": "markdown",
   "metadata": {},
   "source": [
    "Please name your classifier clf for easy export below.   \n",
    "Note that if you want to do PCA or other multi-stage operations,    \n",
    "you'll need to use Pipelines. For more info:    \n",
    "http://scikit-learn.org/stable/modules/pipeline.html     \n",
    "\n",
    "Provided to give you a starting point. Try a variety of classifiers.   "
   ]
  },
  {
   "cell_type": "markdown",
   "metadata": {},
   "source": [
    "### 4.1  Gaussian Naive Bayes Classifier"
   ]
  },
  {
   "cell_type": "code",
   "execution_count": 810,
   "metadata": {},
   "outputs": [],
   "source": [
    "from sklearn.naive_bayes import GaussianNB\n",
    "g_clf = GaussianNB()"
   ]
  },
  {
   "cell_type": "markdown",
   "metadata": {},
   "source": [
    "### 4.2  Logistic Regression Classifier\n"
   ]
  },
  {
   "cell_type": "code",
   "execution_count": 28,
   "metadata": {},
   "outputs": [],
   "source": [
    "from sklearn.linear_model import LogisticRegression"
   ]
  },
  {
   "cell_type": "code",
   "execution_count": 29,
   "metadata": {},
   "outputs": [],
   "source": [
    "l_clf = Pipeline(steps=[\n",
    "        ('scaler', StandardScaler()),\n",
    "        ('classifier', LogisticRegression(C=1e-08, class_weight=None, dual=False, fit_intercept=True, intercept_scaling=1, \n",
    "max_iter=100, multi_class='ovr', penalty='l2', random_state=42, solver='liblinear', tol=0.001, verbose=0))])"
   ]
  },
  {
   "cell_type": "markdown",
   "metadata": {},
   "source": [
    "### 4.3  K-means Clustering"
   ]
  },
  {
   "cell_type": "code",
   "execution_count": 30,
   "metadata": {},
   "outputs": [],
   "source": [
    "from sklearn.cluster import KMeans\n",
    "k_clf = KMeans(n_clusters=2, tol=0.001)"
   ]
  },
  {
   "cell_type": "markdown",
   "metadata": {},
   "source": [
    "### 4.4 Support Vector Machine Classifier"
   ]
  },
  {
   "cell_type": "code",
   "execution_count": 31,
   "metadata": {},
   "outputs": [],
   "source": [
    "from sklearn.svm import SVC\n",
    "s_clf = SVC(kernel='rbf', C=1000,gamma = 0.0001,random_state = 42, class_weight = 'balanced')"
   ]
  },
  {
   "cell_type": "markdown",
   "metadata": {},
   "source": [
    "### 4.5 Random Forest\n"
   ]
  },
  {
   "cell_type": "code",
   "execution_count": 32,
   "metadata": {},
   "outputs": [],
   "source": [
    "from sklearn.ensemble import RandomForestClassifier\n",
    "rf_clf = RandomForestClassifier(max_depth = 5,max_features = 'sqrt',n_estimators = 10, random_state = 42)"
   ]
  },
  {
   "cell_type": "markdown",
   "metadata": {},
   "source": [
    "### 4.6 Gradient Boosting Classifier"
   ]
  },
  {
   "cell_type": "code",
   "execution_count": 33,
   "metadata": {},
   "outputs": [],
   "source": [
    "from sklearn.ensemble  import GradientBoostingClassifier\n",
    "gb_clf = GradientBoostingClassifier(loss='deviance', learning_rate=0.1, n_estimators=100,random_state = 42)"
   ]
  },
  {
   "cell_type": "markdown",
   "metadata": {},
   "source": [
    "### 4.7 Decision Tree Classifier"
   ]
  },
  {
   "cell_type": "code",
   "execution_count": 34,
   "metadata": {},
   "outputs": [],
   "source": [
    "from sklearn.tree import DecisionTreeClassifier"
   ]
  },
  {
   "cell_type": "code",
   "execution_count": 35,
   "metadata": {},
   "outputs": [],
   "source": [
    "tre_clf=DecisionTreeClassifier(random_state=42)"
   ]
  },
  {
   "cell_type": "markdown",
   "metadata": {},
   "source": [
    "### 4.8 KNeighborsClassifier"
   ]
  },
  {
   "cell_type": "code",
   "execution_count": 36,
   "metadata": {},
   "outputs": [],
   "source": [
    "from sklearn.neighbors import KNeighborsClassifier"
   ]
  },
  {
   "cell_type": "code",
   "execution_count": 37,
   "metadata": {},
   "outputs": [],
   "source": [
    "knn_clf = KNeighborsClassifier()"
   ]
  },
  {
   "cell_type": "markdown",
   "metadata": {},
   "source": [
    "### 4.9 evaluate function\n"
   ]
  },
  {
   "cell_type": "code",
   "execution_count": 145,
   "metadata": {},
   "outputs": [],
   "source": [
    "from imblearn.over_sampling import SMOTE\n",
    "from imblearn.combine import SMOTETomek"
   ]
  },
  {
   "cell_type": "markdown",
   "metadata": {},
   "source": [
    "            train_test_split(features, labels, test_size=test_size)\n",
    "        smt = SMOTE()\n",
    "        features_train, labels_train= smt.fit_sample(features_train, labels_train)"
   ]
  },
  {
   "cell_type": "code",
   "execution_count": 769,
   "metadata": {},
   "outputs": [],
   "source": [
    "def evaluate_clf(clf, features, labels, num_iters=1000, test_size=0.3):\n",
    "    print (clf)\n",
    "    accuracy = []\n",
    "    precision = []\n",
    "    recall = []\n",
    "    first = True\n",
    "    for trial in range(num_iters):\n",
    "        features_train, features_test, labels_train, labels_test =\\\n",
    "            train_test_split(features, labels, test_size=test_size)\n",
    "        clf.fit(features_train, labels_train)\n",
    "        predictions = clf.predict(features_test)\n",
    "        accuracy.append(accuracy_score(labels_test, predictions))\n",
    "        precision.append(precision_score(labels_test, predictions))\n",
    "        recall.append(recall_score(labels_test, predictions))\n",
    "        if trial % 10 == 0:\n",
    "            if first:\n",
    "                sys.stdout.write('\\nProcessing')\n",
    "            sys.stdout.write('.')\n",
    "            sys.stdout.flush()\n",
    "            first = False\n",
    "\n",
    "    print (\"done.\\n\")\n",
    "    print (\"precision: {}\".format(mean(precision)))\n",
    "    print (\"recall:    {}\".format(mean(recall)))\n",
    "    return mean(precision), mean(recall)"
   ]
  },
  {
   "cell_type": "markdown",
   "metadata": {},
   "source": [
    "### 4.8 Evaluate all functions"
   ]
  },
  {
   "cell_type": "code",
   "execution_count": 811,
   "metadata": {},
   "outputs": [
    {
     "name": "stdout",
     "output_type": "stream",
     "text": [
      "Pipeline(steps=[('scaler', StandardScaler()),\n",
      "                ('classifier',\n",
      "                 LogisticRegression(C=1e-08, multi_class='ovr', random_state=42,\n",
      "                                    solver='liblinear', tol=0.001))])\n",
      "\n",
      "Processing....................................................................................................done.\n",
      "\n",
      "precision: 0.4130015096015096\n",
      "recall:    0.464037481962482\n"
     ]
    },
    {
     "data": {
      "text/plain": [
       "(0.4130015096015096, 0.464037481962482)"
      ]
     },
     "execution_count": 811,
     "metadata": {},
     "output_type": "execute_result"
    }
   ],
   "source": [
    "evaluate_clf(l_clf, features, labels)\n"
   ]
  },
  {
   "cell_type": "code",
   "execution_count": 739,
   "metadata": {},
   "outputs": [
    {
     "name": "stdout",
     "output_type": "stream",
     "text": [
      "GaussianNB()\n",
      "\n",
      "Processing....................................................................................................done.\n",
      "\n",
      "precision: 0.3634315281940282\n",
      "recall:    0.41078362193362195\n",
      "Pipeline(steps=[('scaler', StandardScaler()),\n",
      "                ('classifier',\n",
      "                 LogisticRegression(C=1e-08, multi_class='ovr', random_state=42,\n",
      "                                    solver='liblinear', tol=0.001))])\n",
      "\n",
      "Processing....................................................................................................done.\n",
      "\n",
      "precision: 0.3600283925826495\n",
      "recall:    0.6068690115440115\n",
      "KMeans(n_clusters=2, tol=0.001)\n",
      "\n",
      "Processing....................................................................................................done.\n",
      "\n",
      "precision: 0.32768285854019885\n",
      "recall:    0.39022673160173155\n",
      "SVC(C=1000, class_weight='balanced', gamma=0.0001, random_state=42)\n",
      "\n",
      "Processing....................................................................................................done.\n",
      "\n",
      "precision: 0.3427889625037845\n",
      "recall:    0.4794959595959596\n",
      "DecisionTreeClassifier(random_state=42)\n",
      "\n",
      "Processing....................................................................................................done.\n",
      "\n",
      "precision: 0.2998223188361347\n",
      "recall:    0.3475760101010101\n",
      "KNeighborsClassifier()\n",
      "\n",
      "Processing....................................................................................................done.\n",
      "\n",
      "precision: 0.23450102022160846\n",
      "recall:    0.4146099567099567\n"
     ]
    },
    {
     "data": {
      "text/plain": [
       "(0.23450102022160846, 0.4146099567099567)"
      ]
     },
     "execution_count": 739,
     "metadata": {},
     "output_type": "execute_result"
    }
   ],
   "source": [
    "evaluate_clf(g_clf, features, labels)\n",
    "evaluate_clf(l_clf, features, labels)\n",
    "evaluate_clf(k_clf, features, labels)\n",
    "evaluate_clf(s_clf, features, labels)\n",
    "#evaluate_clf(rf_clf, features, labels)\n",
    "#evaluate_clf(gb_clf, features, labels)\n",
    "evaluate_clf(tre_clf, features, labels)\n",
    "evaluate_clf(knn_clf, features, labels)"
   ]
  },
  {
   "cell_type": "markdown",
   "metadata": {},
   "source": [
    "=> Rajouter fonction print best"
   ]
  },
  {
   "cell_type": "markdown",
   "metadata": {},
   "source": [
    "### 5. Quick hyperparameters tuning"
   ]
  },
  {
   "cell_type": "code",
   "execution_count": 42,
   "metadata": {},
   "outputs": [],
   "source": [
    " from sklearn.model_selection import GridSearchCV"
   ]
  },
  {
   "cell_type": "markdown",
   "metadata": {},
   "source": [
    "#### 5.1 Decision Tree"
   ]
  },
  {
   "cell_type": "code",
   "execution_count": 47,
   "metadata": {},
   "outputs": [
    {
     "data": {
      "text/plain": [
       "DecisionTreeClassifier(criterion='entropy')"
      ]
     },
     "execution_count": 47,
     "metadata": {},
     "output_type": "execute_result"
    }
   ],
   "source": [
    "clf_parameters = { 'criterion': ['gini', 'entropy'],\n",
    "                   'max_depth': [None, 1, 2, 4, 5, 10, 15, 20],\n",
    "                   'min_samples_split': [2, 4, 6, 8, 10, 20, 30, 40],\n",
    "                   'min_samples_leaf': [1, 2, 3, 4, 5, 6, 7, 8, 10, 20, 30] }\n",
    "\n",
    "cv = StratifiedShuffleSplit(n_splits=5, test_size=0.3, random_state=67)\n",
    "clf = GridSearchCV(DecisionTreeClassifier(), param_grid = clf_parameters, cv = cv, scoring = 'f1')\n",
    "clf.fit(features,labels)\n",
    "\n",
    "best_clf_parameters = clf.best_estimator_\n",
    "best_clf_parameters"
   ]
  },
  {
   "cell_type": "code",
   "execution_count": 101,
   "metadata": {},
   "outputs": [],
   "source": [
    "clf_best_tree=DecisionTreeClassifier(criterion='entropy')"
   ]
  },
  {
   "cell_type": "code",
   "execution_count": 186,
   "metadata": {},
   "outputs": [
    {
     "name": "stdout",
     "output_type": "stream",
     "text": [
      "DecisionTreeClassifier(criterion='entropy')\n",
      "\n",
      "Processing....................................................................................................done.\n",
      "\n",
      "precision: 0.28556813603063597\n",
      "recall:    0.28008943001443004\n"
     ]
    }
   ],
   "source": [
    "best_tree=evaluate_clf(clf_best_tree,features,labels)"
   ]
  },
  {
   "cell_type": "markdown",
   "metadata": {},
   "source": [
    "#### 5.2 Log Regression"
   ]
  },
  {
   "cell_type": "code",
   "execution_count": 630,
   "metadata": {},
   "outputs": [],
   "source": [
    "from sklearn.preprocessing import MinMaxScaler\n",
    "from sklearn.preprocessing import RobustScaler\n",
    "from sklearn.preprocessing import PolynomialFeatures\n",
    "\n",
    "import numpy as np"
   ]
  },
  {
   "cell_type": "code",
   "execution_count": 834,
   "metadata": {},
   "outputs": [],
   "source": [
    "    from imblearn.pipeline import Pipeline\n",
    "    min_slc=MinMaxScaler()\n",
    "    std_slc = StandardScaler()\n",
    "    rob_slc= RobustScaler()\n",
    "    pol_slc= PolynomialFeatures()\n",
    "    logistic_Reg = LogisticRegression(tol=0.001)\n",
    "    smote=SMOTETomek(sampling_strategy=0.7)\n",
    "    #Choose Standard Scaler in pipeline\n",
    "    pipe =Pipeline(steps=[('std_slc', std_slc),('logistic_Reg', logistic_Reg)])"
   ]
  },
  {
   "cell_type": "markdown",
   "metadata": {},
   "source": [
    " Previous used parameters :   \n",
    "    LogisticRegression(C=1e-08, multi_class='ovr', random_state=42,\n",
    "                                    solver='liblinear', tol=0.001))])"
   ]
  },
  {
   "cell_type": "code",
   "execution_count": null,
   "metadata": {},
   "outputs": [],
   "source": [
    "        smt = SMOTETomek()\n",
    "        features_train, labels_train= smt.fit_sample(features_train, labels_train)"
   ]
  },
  {
   "cell_type": "code",
   "execution_count": 835,
   "metadata": {},
   "outputs": [],
   "source": [
    "# define models and parameters\n",
    "\n",
    "solvers = ['newton-cg', 'lbfgs', 'liblinear']\n",
    "penalty = [\"l1\",\"l2\",\"elasticnet\",\"none\"]\n",
    "c_values = np.logspace(-4, 4, 50)\n",
    "class_weight=['balanced',None]\n",
    "multi_class=[\"ovr\"]\n",
    "\n",
    "# define grid search\n",
    "grid = dict(logistic_Reg__solver=solvers,logistic_Reg__penalty=penalty,logistic_Reg__C=c_values,logistic_Reg__class_weight=class_weight,logistic_Reg__multi_class=multi_class)\n",
    "cv = StratifiedShuffleSplit(n_splits=5, test_size=0.3, train_size=0.7,random_state=1)\n",
    "grid_search = GridSearchCV(estimator=pipe, param_grid=grid, n_jobs=-1, cv=cv,scoring = 'f1')\n",
    "grid_result = grid_search.fit(features, labels)"
   ]
  },
  {
   "cell_type": "code",
   "execution_count": 836,
   "metadata": {},
   "outputs": [
    {
     "data": {
      "text/plain": [
       "Pipeline(steps=[('std_slc', StandardScaler()),\n",
       "                ('logistic_Reg',\n",
       "                 LogisticRegression(C=0.004291934260128779,\n",
       "                                    class_weight='balanced', multi_class='ovr',\n",
       "                                    solver='newton-cg', tol=0.001))])"
      ]
     },
     "execution_count": 836,
     "metadata": {},
     "output_type": "execute_result"
    }
   ],
   "source": [
    "grid_result.best_estimator_"
   ]
  },
  {
   "cell_type": "code",
   "execution_count": 838,
   "metadata": {},
   "outputs": [],
   "source": [
    "clf_best_log_f1=Pipeline(steps=[('std_slc', StandardScaler()),\n",
    "                ('logistic_Reg',\n",
    "                 LogisticRegression(C=0.004291934260128779,\n",
    "                                    class_weight='balanced', multi_class='ovr',\n",
    "                                    solver='newton-cg', tol=0.001))])"
   ]
  },
  {
   "cell_type": "code",
   "execution_count": 440,
   "metadata": {},
   "outputs": [],
   "source": [
    "from sklearn.metrics import f1_score\n",
    "from sklearn.metrics import make_scorer"
   ]
  },
  {
   "cell_type": "code",
   "execution_count": 843,
   "metadata": {},
   "outputs": [],
   "source": [
    "solvers = ['newton-cg', 'lbfgs', 'liblinear']\n",
    "penalty = [\"l1\",\"l2\",\"elasticnet\",\"none\"]\n",
    "c_values = np.logspace(-4, 4, 50)\n",
    "class_weight=['balanced']\n",
    "multi_class=[\"ovr\"]\n",
    "scoring = {'precision_macro': make_scorer(precision_score, average='weighted')}\n",
    "\n",
    "# define grid search\n",
    "grid = dict(logistic_Reg__solver=solvers,logistic_Reg__penalty=penalty,logistic_Reg__C=c_values,logistic_Reg__class_weight=class_weight,logistic_Reg__multi_class=multi_class)\n",
    "cv = StratifiedShuffleSplit(n_splits=5, test_size=0.3, train_size=0.7,random_state=1)\n",
    "grid_search = GridSearchCV(estimator=pipe, param_grid=grid, n_jobs=-1, cv=cv,scoring=scoring, refit='precision_macro',return_train_score=True)\n",
    "grid_result = grid_search.fit(features, labels)"
   ]
  },
  {
   "cell_type": "code",
   "execution_count": 844,
   "metadata": {},
   "outputs": [
    {
     "data": {
      "text/plain": [
       "Pipeline(steps=[('std_slc', StandardScaler()),\n",
       "                ('logistic_Reg',\n",
       "                 LogisticRegression(C=0.004291934260128779,\n",
       "                                    class_weight='balanced', multi_class='ovr',\n",
       "                                    solver='liblinear', tol=0.001))])"
      ]
     },
     "execution_count": 844,
     "metadata": {},
     "output_type": "execute_result"
    }
   ],
   "source": [
    "grid_result.best_estimator_"
   ]
  },
  {
   "cell_type": "code",
   "execution_count": 847,
   "metadata": {},
   "outputs": [],
   "source": [
    "clf_best_log_precision=Pipeline(steps=[('std_slc', StandardScaler()),\n",
    "                ('logistic_Reg',\n",
    "                 LogisticRegression(C=0.004291934260128779,\n",
    "                                    class_weight='balanced', multi_class='ovr',\n",
    "                                    solver='liblinear', tol=0.001))])"
   ]
  },
  {
   "cell_type": "code",
   "execution_count": 99,
   "metadata": {},
   "outputs": [],
   "source": [
    "# Evaluate"
   ]
  },
  {
   "cell_type": "code",
   "execution_count": 839,
   "metadata": {},
   "outputs": [
    {
     "name": "stdout",
     "output_type": "stream",
     "text": [
      "Pipeline(steps=[('std_slc', StandardScaler()),\n",
      "                ('logistic_Reg',\n",
      "                 LogisticRegression(C=0.004291934260128779,\n",
      "                                    class_weight='balanced', multi_class='ovr',\n",
      "                                    solver='newton-cg', tol=0.001))])\n",
      "\n",
      "Processing....................................................................................................done.\n",
      "\n",
      "precision: 0.3766516851526526\n",
      "recall:    0.5312869047619047\n"
     ]
    },
    {
     "data": {
      "text/plain": [
       "(0.3766516851526526, 0.5312869047619047)"
      ]
     },
     "execution_count": 839,
     "metadata": {},
     "output_type": "execute_result"
    }
   ],
   "source": [
    "evaluate_clf(clf_best_log_f1,features,labels)"
   ]
  },
  {
   "cell_type": "code",
   "execution_count": 848,
   "metadata": {},
   "outputs": [
    {
     "name": "stdout",
     "output_type": "stream",
     "text": [
      "Pipeline(steps=[('std_slc', StandardScaler()),\n",
      "                ('logistic_Reg',\n",
      "                 LogisticRegression(C=0.004291934260128779,\n",
      "                                    class_weight='balanced', multi_class='ovr',\n",
      "                                    solver='liblinear', tol=0.001))])\n",
      "\n",
      "Processing....................................................................................................done.\n",
      "\n",
      "precision: 0.3147485240546907\n",
      "recall:    0.8268116522366522\n"
     ]
    },
    {
     "data": {
      "text/plain": [
       "(0.3147485240546907, 0.8268116522366522)"
      ]
     },
     "execution_count": 848,
     "metadata": {},
     "output_type": "execute_result"
    }
   ],
   "source": [
    "evaluate_clf(clf_best_log_precision,features,labels)"
   ]
  },
  {
   "cell_type": "markdown",
   "metadata": {},
   "source": [
    "avoir une faible preicision, c'est l'ago qui s'est trompé en disignant des personnes innocentes en personne frauduleuse. \n",
    "Donc il y a des caracteristiques pour lesquels, l'algo se trompe"
   ]
  },
  {
   "cell_type": "code",
   "execution_count": 514,
   "metadata": {},
   "outputs": [
    {
     "name": "stdout",
     "output_type": "stream",
     "text": [
      "MLPClassifier(max_iter=10, random_state=1)\n",
      "\n",
      "Processing....................................................................................................done.\n",
      "\n",
      "precision: 0.0\n",
      "recall:    0.0\n"
     ]
    },
    {
     "data": {
      "text/plain": [
       "(0.0, 0.0)"
      ]
     },
     "execution_count": 514,
     "metadata": {},
     "output_type": "execute_result"
    }
   ],
   "source": [
    "from sklearn.neural_network import MLPClassifier\n",
    "mlp_clf = MLPClassifier(random_state=1, max_iter=10)\n",
    "evaluate_clf(mlp_clf,features,labels)"
   ]
  },
  {
   "cell_type": "markdown",
   "metadata": {},
   "source": [
    "#### 5.3 Try staking the 2 models"
   ]
  },
  {
   "cell_type": "code",
   "execution_count": 190,
   "metadata": {},
   "outputs": [],
   "source": [
    "from imblearn.ensemble import BalancedRandomForestClassifier"
   ]
  },
  {
   "cell_type": "code",
   "execution_count": 215,
   "metadata": {},
   "outputs": [],
   "source": [
    "clf_best_tree=BalancedRandomForestClassifier(max_depth= None, n_estimators = 5, random_state = 80)"
   ]
  },
  {
   "cell_type": "code",
   "execution_count": 126,
   "metadata": {},
   "outputs": [],
   "source": [
    "#pip install mlxtend  "
   ]
  },
  {
   "cell_type": "code",
   "execution_count": 109,
   "metadata": {},
   "outputs": [],
   "source": [
    "from mlxtend.classifier import StackingClassifier"
   ]
  },
  {
   "cell_type": "code",
   "execution_count": 672,
   "metadata": {},
   "outputs": [],
   "source": [
    "m_clf = StackingClassifier(classifiers=[clf_best_log_f1,clf_best_log_precision],use_probas=True,meta_classifier=clf_best_log_precision)"
   ]
  },
  {
   "cell_type": "code",
   "execution_count": 673,
   "metadata": {},
   "outputs": [
    {
     "name": "stdout",
     "output_type": "stream",
     "text": [
      "StackingClassifier(classifiers=[LogisticRegression(C=0.0062505519252739694,\n",
      "                                                   class_weight='balanced',\n",
      "                                                   multi_class='ovr',\n",
      "                                                   solver='newton-cg',\n",
      "                                                   tol=0.001),\n",
      "                                LogisticRegression(C=0.0006551285568595509,\n",
      "                                                   class_weight='balanced',\n",
      "                                                   multi_class='ovr',\n",
      "                                                   solver='liblinear',\n",
      "                                                   tol=0.001)],\n",
      "                   meta_classifier=LogisticRegression(C=0.0006551285568595509,\n",
      "                                                      class_weight='balanced',\n",
      "                                                      multi_class='ovr',\n",
      "                                                      solver='liblinear',\n",
      "                                                      tol=0.001),\n",
      "                   use_probas=True)\n",
      "\n",
      "Processing....................................................................................................done.\n",
      "\n",
      "precision: 0.41848376484626487\n",
      "recall:    0.5354443001443001\n"
     ]
    },
    {
     "data": {
      "text/plain": [
       "(0.41848376484626487, 0.5354443001443001)"
      ]
     },
     "execution_count": 673,
     "metadata": {},
     "output_type": "execute_result"
    }
   ],
   "source": [
    "evaluate_clf(m_clf,features,labels)"
   ]
  },
  {
   "cell_type": "markdown",
   "metadata": {},
   "source": [
    "Select Logistic Regression as final algorithm"
   ]
  },
  {
   "cell_type": "code",
   "execution_count": 849,
   "metadata": {},
   "outputs": [],
   "source": [
    "clf = l_clf"
   ]
  },
  {
   "cell_type": "markdown",
   "metadata": {},
   "source": [
    "dump your classifier, dataset and features_list so   \n",
    "anyone can run/check your results"
   ]
  },
  {
   "cell_type": "code",
   "execution_count": 850,
   "metadata": {},
   "outputs": [],
   "source": [
    "pickle.dump(clf, open(\"../final_project/my_classifier.pkl\", \"wb\"))\n",
    "pickle.dump(my_dataset, open(\"../final_project/my_dataset.pkl\", \"wb\"))\n",
    "pickle.dump(my_feature_list, open(\"../final_project/my_feature_list.pkl\", \"wb\"))"
   ]
  },
  {
   "cell_type": "markdown",
   "metadata": {},
   "source": [
    "### Task 5: Tune your classifier"
   ]
  },
  {
   "cell_type": "code",
   "execution_count": 851,
   "metadata": {},
   "outputs": [
    {
     "data": {
      "text/plain": [
       "['poi',\n",
       " 'fraction_to_poi',\n",
       " 'direction',\n",
       " 'total_stock_value',\n",
       " 'exercised_stock_options',\n",
       " 'bonus',\n",
       " 'salary',\n",
       " 'bonus_to_salary',\n",
       " 'deferred_income']"
      ]
     },
     "execution_count": 851,
     "metadata": {},
     "output_type": "execute_result"
    }
   ],
   "source": [
    "my_feature_list"
   ]
  },
  {
   "cell_type": "markdown",
   "metadata": {},
   "source": [
    "\n",
    " Task 5: Tune your classifier to achieve better than .42 precision and recall   \n",
    " using our testing script. Check the tester.py script in the final project  \n",
    " folder for details on the evaluation method, especially the test_classifier   \n",
    " function. Because of the small size of the dataset, the script uses   \n",
    " stratified shuffle split cross validation. For more info:   \n",
    " http://scikit-learn.org/stable/modules/generated/sklearn.cross_validation.StratifiedShuffleSplit.html  \n",
    "\n",
    "Example starting point. Try investigating other evaluation techniques!"
   ]
  },
  {
   "cell_type": "markdown",
   "metadata": {},
   "source": [
    "features_train, features_test, labels_train, labels_test = \\\n",
    "    train_test_split(features, labels, test_size=0.3, random_state=42)"
   ]
  },
  {
   "cell_type": "markdown",
   "metadata": {},
   "source": [
    "### Task 6: Dump your classifier, dataset, and features_list"
   ]
  },
  {
   "cell_type": "markdown",
   "metadata": {},
   "source": [
    "Task 6: Dump your classifier, dataset, and features_list so anyone can   \n",
    "check your results. You do not need to change anything below, but make sure  \n",
    "that the version of poi_id.py that you submit can be run on its own and   \n",
    "generates the necessary .pkl files for validating your results.  "
   ]
  },
  {
   "cell_type": "code",
   "execution_count": 852,
   "metadata": {},
   "outputs": [
    {
     "name": "stdout",
     "output_type": "stream",
     "text": [
      "Pipeline(steps=[('std_slc', StandardScaler()),\n",
      "                ('logistic_Reg',\n",
      "                 LogisticRegression(C=0.004291934260128779,\n",
      "                                    class_weight='balanced', multi_class='ovr',\n",
      "                                    solver='liblinear', tol=0.001))])\n",
      "\tAccuracy: 0.73214\tPrecision: 0.32708\tRecall: 0.82750\tF1: 0.46884\tF2: 0.63361\n",
      "\tTotal predictions: 14000\tTrue positives: 1655\tFalse positives: 3405\tFalse negatives:  345\tTrue negatives: 8595\n",
      "\n"
     ]
    }
   ],
   "source": [
    "import tester\n",
    "tester.dump_classifier_and_data(clf, my_dataset, my_feature_list)\n",
    "tester.main()"
   ]
  }
 ],
 "metadata": {
  "kernelspec": {
   "display_name": "Python 3",
   "language": "python",
   "name": "python3"
  },
  "language_info": {
   "codemirror_mode": {
    "name": "ipython",
    "version": 3
   },
   "file_extension": ".py",
   "mimetype": "text/x-python",
   "name": "python",
   "nbconvert_exporter": "python",
   "pygments_lexer": "ipython3",
   "version": "3.7.9"
  }
 },
 "nbformat": 4,
 "nbformat_minor": 4
}
