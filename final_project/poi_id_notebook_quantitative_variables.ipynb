{
 "cells": [
  {
   "cell_type": "markdown",
   "metadata": {},
   "source": [
    "# Machine Learning to Identify Fraud in the Enron Corpus"
   ]
  },
  {
   "cell_type": "code",
   "execution_count": 167,
   "metadata": {},
   "outputs": [],
   "source": [
    "import warnings \n",
    "warnings.filterwarnings(\"ignore\")\n",
    "import sys\n",
    "import pickle\n",
    "sys.path.append(\"../tools/\")\n",
    "from feature_format import featureFormat, targetFeatureSplit\n",
    "from tester import dump_classifier_and_data\n",
    "import pandas as pd\n",
    "import sys\n",
    "import pickle\n",
    "import csv\n",
    "import matplotlib.pyplot as plt\n",
    "\n",
    "sys.path.append(\"../tools/\")\n",
    "from feature_format import featureFormat, targetFeatureSplit\n",
    "#from poi_data import *\n",
    "from sklearn.feature_selection import SelectKBest\n",
    "from sklearn.pipeline import Pipeline\n",
    "from sklearn.preprocessing import StandardScaler\n",
    "from sklearn.model_selection import StratifiedShuffleSplit\n",
    "\n",
    "from numpy import mean\n",
    "from sklearn.model_selection import train_test_split\n",
    "from sklearn.model_selection import cross_validate\n",
    "\n",
    "from sklearn.metrics import accuracy_score, precision_score, recall_score"
   ]
  },
  {
   "cell_type": "markdown",
   "metadata": {},
   "source": [
    "## Task 1: Select what features you'll use"
   ]
  },
  {
   "cell_type": "markdown",
   "metadata": {},
   "source": [
    "features_list is a list of strings, each of which is a feature name.    \n",
    "The first feature must be \"poi\".    \n",
    "features_list = ['poi','salary']    \n",
    "**You will need to use more features**"
   ]
  },
  {
   "cell_type": "code",
   "execution_count": 168,
   "metadata": {},
   "outputs": [],
   "source": [
    "target_label = 'poi'\n",
    "\n",
    "email_features_list = [\n",
    "    'from_messages',\n",
    "    'from_poi_to_this_person',\n",
    "    'from_this_person_to_poi',\n",
    "    'shared_receipt_with_poi',\n",
    "    'to_messages',\n",
    "    ]\n",
    "    \n",
    "financial_features_list = [\n",
    "    'bonus',\n",
    "    'deferral_payments',\n",
    "    'deferred_income',\n",
    "    'director_fees',\n",
    "    'exercised_stock_options',\n",
    "    'expenses',\n",
    "    'loan_advances',\n",
    "    'long_term_incentive',\n",
    "    'other',\n",
    "    'restricted_stock',\n",
    "    'restricted_stock_deferred',\n",
    "    'salary',\n",
    "    'total_payments',\n",
    "    'total_stock_value',\n",
    "]\n",
    "\n",
    "features_list = [target_label] + financial_features_list + email_features_list"
   ]
  },
  {
   "cell_type": "code",
   "execution_count": 122,
   "metadata": {},
   "outputs": [],
   "source": [
    "### Load the dictionary containing the dataset\n",
    "\n",
    "with open('final_project_dataset.pkl', 'rb') as data_file:\n",
    "    data_dict = pickle.load(data_file)"
   ]
  },
  {
   "cell_type": "code",
   "execution_count": 123,
   "metadata": {},
   "outputs": [
    {
     "data": {
      "text/html": [
       "<div>\n",
       "<style scoped>\n",
       "    .dataframe tbody tr th:only-of-type {\n",
       "        vertical-align: middle;\n",
       "    }\n",
       "\n",
       "    .dataframe tbody tr th {\n",
       "        vertical-align: top;\n",
       "    }\n",
       "\n",
       "    .dataframe thead th {\n",
       "        text-align: right;\n",
       "    }\n",
       "</style>\n",
       "<table border=\"1\" class=\"dataframe\">\n",
       "  <thead>\n",
       "    <tr style=\"text-align: right;\">\n",
       "      <th></th>\n",
       "      <th>salary</th>\n",
       "      <th>to_messages</th>\n",
       "      <th>deferral_payments</th>\n",
       "      <th>total_payments</th>\n",
       "      <th>loan_advances</th>\n",
       "      <th>bonus</th>\n",
       "      <th>email_address</th>\n",
       "      <th>restricted_stock_deferred</th>\n",
       "      <th>deferred_income</th>\n",
       "      <th>total_stock_value</th>\n",
       "      <th>...</th>\n",
       "      <th>from_poi_to_this_person</th>\n",
       "      <th>exercised_stock_options</th>\n",
       "      <th>from_messages</th>\n",
       "      <th>other</th>\n",
       "      <th>from_this_person_to_poi</th>\n",
       "      <th>poi</th>\n",
       "      <th>long_term_incentive</th>\n",
       "      <th>shared_receipt_with_poi</th>\n",
       "      <th>restricted_stock</th>\n",
       "      <th>director_fees</th>\n",
       "    </tr>\n",
       "  </thead>\n",
       "  <tbody>\n",
       "    <tr>\n",
       "      <th>METTS MARK</th>\n",
       "      <td>365788</td>\n",
       "      <td>807</td>\n",
       "      <td>NaN</td>\n",
       "      <td>1061827</td>\n",
       "      <td>NaN</td>\n",
       "      <td>600000</td>\n",
       "      <td>mark.metts@enron.com</td>\n",
       "      <td>NaN</td>\n",
       "      <td>NaN</td>\n",
       "      <td>585062</td>\n",
       "      <td>...</td>\n",
       "      <td>38</td>\n",
       "      <td>NaN</td>\n",
       "      <td>29</td>\n",
       "      <td>1740</td>\n",
       "      <td>1</td>\n",
       "      <td>False</td>\n",
       "      <td>NaN</td>\n",
       "      <td>702</td>\n",
       "      <td>585062</td>\n",
       "      <td>NaN</td>\n",
       "    </tr>\n",
       "    <tr>\n",
       "      <th>BAXTER JOHN C</th>\n",
       "      <td>267102</td>\n",
       "      <td>NaN</td>\n",
       "      <td>1295738</td>\n",
       "      <td>5634343</td>\n",
       "      <td>NaN</td>\n",
       "      <td>1200000</td>\n",
       "      <td>NaN</td>\n",
       "      <td>NaN</td>\n",
       "      <td>-1386055</td>\n",
       "      <td>10623258</td>\n",
       "      <td>...</td>\n",
       "      <td>NaN</td>\n",
       "      <td>6680544</td>\n",
       "      <td>NaN</td>\n",
       "      <td>2660303</td>\n",
       "      <td>NaN</td>\n",
       "      <td>False</td>\n",
       "      <td>1586055</td>\n",
       "      <td>NaN</td>\n",
       "      <td>3942714</td>\n",
       "      <td>NaN</td>\n",
       "    </tr>\n",
       "    <tr>\n",
       "      <th>ELLIOTT STEVEN</th>\n",
       "      <td>170941</td>\n",
       "      <td>NaN</td>\n",
       "      <td>NaN</td>\n",
       "      <td>211725</td>\n",
       "      <td>NaN</td>\n",
       "      <td>350000</td>\n",
       "      <td>steven.elliott@enron.com</td>\n",
       "      <td>NaN</td>\n",
       "      <td>-400729</td>\n",
       "      <td>6678735</td>\n",
       "      <td>...</td>\n",
       "      <td>NaN</td>\n",
       "      <td>4890344</td>\n",
       "      <td>NaN</td>\n",
       "      <td>12961</td>\n",
       "      <td>NaN</td>\n",
       "      <td>False</td>\n",
       "      <td>NaN</td>\n",
       "      <td>NaN</td>\n",
       "      <td>1788391</td>\n",
       "      <td>NaN</td>\n",
       "    </tr>\n",
       "    <tr>\n",
       "      <th>CORDES WILLIAM R</th>\n",
       "      <td>NaN</td>\n",
       "      <td>764</td>\n",
       "      <td>NaN</td>\n",
       "      <td>NaN</td>\n",
       "      <td>NaN</td>\n",
       "      <td>NaN</td>\n",
       "      <td>bill.cordes@enron.com</td>\n",
       "      <td>NaN</td>\n",
       "      <td>NaN</td>\n",
       "      <td>1038185</td>\n",
       "      <td>...</td>\n",
       "      <td>10</td>\n",
       "      <td>651850</td>\n",
       "      <td>12</td>\n",
       "      <td>NaN</td>\n",
       "      <td>0</td>\n",
       "      <td>False</td>\n",
       "      <td>NaN</td>\n",
       "      <td>58</td>\n",
       "      <td>386335</td>\n",
       "      <td>NaN</td>\n",
       "    </tr>\n",
       "    <tr>\n",
       "      <th>HANNON KEVIN P</th>\n",
       "      <td>243293</td>\n",
       "      <td>1045</td>\n",
       "      <td>NaN</td>\n",
       "      <td>288682</td>\n",
       "      <td>NaN</td>\n",
       "      <td>1500000</td>\n",
       "      <td>kevin.hannon@enron.com</td>\n",
       "      <td>NaN</td>\n",
       "      <td>-3117011</td>\n",
       "      <td>6391065</td>\n",
       "      <td>...</td>\n",
       "      <td>32</td>\n",
       "      <td>5538001</td>\n",
       "      <td>32</td>\n",
       "      <td>11350</td>\n",
       "      <td>21</td>\n",
       "      <td>True</td>\n",
       "      <td>1617011</td>\n",
       "      <td>1035</td>\n",
       "      <td>853064</td>\n",
       "      <td>NaN</td>\n",
       "    </tr>\n",
       "    <tr>\n",
       "      <th>...</th>\n",
       "      <td>...</td>\n",
       "      <td>...</td>\n",
       "      <td>...</td>\n",
       "      <td>...</td>\n",
       "      <td>...</td>\n",
       "      <td>...</td>\n",
       "      <td>...</td>\n",
       "      <td>...</td>\n",
       "      <td>...</td>\n",
       "      <td>...</td>\n",
       "      <td>...</td>\n",
       "      <td>...</td>\n",
       "      <td>...</td>\n",
       "      <td>...</td>\n",
       "      <td>...</td>\n",
       "      <td>...</td>\n",
       "      <td>...</td>\n",
       "      <td>...</td>\n",
       "      <td>...</td>\n",
       "      <td>...</td>\n",
       "      <td>...</td>\n",
       "    </tr>\n",
       "    <tr>\n",
       "      <th>GRAMM WENDY L</th>\n",
       "      <td>NaN</td>\n",
       "      <td>NaN</td>\n",
       "      <td>NaN</td>\n",
       "      <td>119292</td>\n",
       "      <td>NaN</td>\n",
       "      <td>NaN</td>\n",
       "      <td>NaN</td>\n",
       "      <td>NaN</td>\n",
       "      <td>NaN</td>\n",
       "      <td>NaN</td>\n",
       "      <td>...</td>\n",
       "      <td>NaN</td>\n",
       "      <td>NaN</td>\n",
       "      <td>NaN</td>\n",
       "      <td>NaN</td>\n",
       "      <td>NaN</td>\n",
       "      <td>False</td>\n",
       "      <td>NaN</td>\n",
       "      <td>NaN</td>\n",
       "      <td>NaN</td>\n",
       "      <td>119292</td>\n",
       "    </tr>\n",
       "    <tr>\n",
       "      <th>CAUSEY RICHARD A</th>\n",
       "      <td>415189</td>\n",
       "      <td>1892</td>\n",
       "      <td>NaN</td>\n",
       "      <td>1868758</td>\n",
       "      <td>NaN</td>\n",
       "      <td>1000000</td>\n",
       "      <td>richard.causey@enron.com</td>\n",
       "      <td>NaN</td>\n",
       "      <td>-235000</td>\n",
       "      <td>2502063</td>\n",
       "      <td>...</td>\n",
       "      <td>58</td>\n",
       "      <td>NaN</td>\n",
       "      <td>49</td>\n",
       "      <td>307895</td>\n",
       "      <td>12</td>\n",
       "      <td>True</td>\n",
       "      <td>350000</td>\n",
       "      <td>1585</td>\n",
       "      <td>2502063</td>\n",
       "      <td>NaN</td>\n",
       "    </tr>\n",
       "    <tr>\n",
       "      <th>TAYLOR MITCHELL S</th>\n",
       "      <td>265214</td>\n",
       "      <td>533</td>\n",
       "      <td>227449</td>\n",
       "      <td>1092663</td>\n",
       "      <td>NaN</td>\n",
       "      <td>600000</td>\n",
       "      <td>mitchell.taylor@enron.com</td>\n",
       "      <td>NaN</td>\n",
       "      <td>NaN</td>\n",
       "      <td>3745048</td>\n",
       "      <td>...</td>\n",
       "      <td>0</td>\n",
       "      <td>3181250</td>\n",
       "      <td>29</td>\n",
       "      <td>NaN</td>\n",
       "      <td>0</td>\n",
       "      <td>False</td>\n",
       "      <td>NaN</td>\n",
       "      <td>300</td>\n",
       "      <td>563798</td>\n",
       "      <td>NaN</td>\n",
       "    </tr>\n",
       "    <tr>\n",
       "      <th>DONAHUE JR JEFFREY M</th>\n",
       "      <td>278601</td>\n",
       "      <td>865</td>\n",
       "      <td>NaN</td>\n",
       "      <td>875760</td>\n",
       "      <td>NaN</td>\n",
       "      <td>800000</td>\n",
       "      <td>jeff.donahue@enron.com</td>\n",
       "      <td>NaN</td>\n",
       "      <td>-300000</td>\n",
       "      <td>1080988</td>\n",
       "      <td>...</td>\n",
       "      <td>188</td>\n",
       "      <td>765920</td>\n",
       "      <td>22</td>\n",
       "      <td>891</td>\n",
       "      <td>11</td>\n",
       "      <td>False</td>\n",
       "      <td>NaN</td>\n",
       "      <td>772</td>\n",
       "      <td>315068</td>\n",
       "      <td>NaN</td>\n",
       "    </tr>\n",
       "    <tr>\n",
       "      <th>GLISAN JR BEN F</th>\n",
       "      <td>274975</td>\n",
       "      <td>873</td>\n",
       "      <td>NaN</td>\n",
       "      <td>1272284</td>\n",
       "      <td>NaN</td>\n",
       "      <td>600000</td>\n",
       "      <td>ben.glisan@enron.com</td>\n",
       "      <td>NaN</td>\n",
       "      <td>NaN</td>\n",
       "      <td>778546</td>\n",
       "      <td>...</td>\n",
       "      <td>52</td>\n",
       "      <td>384728</td>\n",
       "      <td>16</td>\n",
       "      <td>200308</td>\n",
       "      <td>6</td>\n",
       "      <td>True</td>\n",
       "      <td>71023</td>\n",
       "      <td>874</td>\n",
       "      <td>393818</td>\n",
       "      <td>NaN</td>\n",
       "    </tr>\n",
       "  </tbody>\n",
       "</table>\n",
       "<p>146 rows × 21 columns</p>\n",
       "</div>"
      ],
      "text/plain": [
       "                      salary to_messages deferral_payments total_payments  \\\n",
       "METTS MARK            365788         807               NaN        1061827   \n",
       "BAXTER JOHN C         267102         NaN           1295738        5634343   \n",
       "ELLIOTT STEVEN        170941         NaN               NaN         211725   \n",
       "CORDES WILLIAM R         NaN         764               NaN            NaN   \n",
       "HANNON KEVIN P        243293        1045               NaN         288682   \n",
       "...                      ...         ...               ...            ...   \n",
       "GRAMM WENDY L            NaN         NaN               NaN         119292   \n",
       "CAUSEY RICHARD A      415189        1892               NaN        1868758   \n",
       "TAYLOR MITCHELL S     265214         533            227449        1092663   \n",
       "DONAHUE JR JEFFREY M  278601         865               NaN         875760   \n",
       "GLISAN JR BEN F       274975         873               NaN        1272284   \n",
       "\n",
       "                     loan_advances    bonus              email_address  \\\n",
       "METTS MARK                     NaN   600000       mark.metts@enron.com   \n",
       "BAXTER JOHN C                  NaN  1200000                        NaN   \n",
       "ELLIOTT STEVEN                 NaN   350000   steven.elliott@enron.com   \n",
       "CORDES WILLIAM R               NaN      NaN      bill.cordes@enron.com   \n",
       "HANNON KEVIN P                 NaN  1500000     kevin.hannon@enron.com   \n",
       "...                            ...      ...                        ...   \n",
       "GRAMM WENDY L                  NaN      NaN                        NaN   \n",
       "CAUSEY RICHARD A               NaN  1000000   richard.causey@enron.com   \n",
       "TAYLOR MITCHELL S              NaN   600000  mitchell.taylor@enron.com   \n",
       "DONAHUE JR JEFFREY M           NaN   800000     jeff.donahue@enron.com   \n",
       "GLISAN JR BEN F                NaN   600000       ben.glisan@enron.com   \n",
       "\n",
       "                     restricted_stock_deferred deferred_income  \\\n",
       "METTS MARK                                 NaN             NaN   \n",
       "BAXTER JOHN C                              NaN        -1386055   \n",
       "ELLIOTT STEVEN                             NaN         -400729   \n",
       "CORDES WILLIAM R                           NaN             NaN   \n",
       "HANNON KEVIN P                             NaN        -3117011   \n",
       "...                                        ...             ...   \n",
       "GRAMM WENDY L                              NaN             NaN   \n",
       "CAUSEY RICHARD A                           NaN         -235000   \n",
       "TAYLOR MITCHELL S                          NaN             NaN   \n",
       "DONAHUE JR JEFFREY M                       NaN         -300000   \n",
       "GLISAN JR BEN F                            NaN             NaN   \n",
       "\n",
       "                     total_stock_value  ... from_poi_to_this_person  \\\n",
       "METTS MARK                      585062  ...                      38   \n",
       "BAXTER JOHN C                 10623258  ...                     NaN   \n",
       "ELLIOTT STEVEN                 6678735  ...                     NaN   \n",
       "CORDES WILLIAM R               1038185  ...                      10   \n",
       "HANNON KEVIN P                 6391065  ...                      32   \n",
       "...                                ...  ...                     ...   \n",
       "GRAMM WENDY L                      NaN  ...                     NaN   \n",
       "CAUSEY RICHARD A               2502063  ...                      58   \n",
       "TAYLOR MITCHELL S              3745048  ...                       0   \n",
       "DONAHUE JR JEFFREY M           1080988  ...                     188   \n",
       "GLISAN JR BEN F                 778546  ...                      52   \n",
       "\n",
       "                     exercised_stock_options from_messages    other  \\\n",
       "METTS MARK                               NaN            29     1740   \n",
       "BAXTER JOHN C                        6680544           NaN  2660303   \n",
       "ELLIOTT STEVEN                       4890344           NaN    12961   \n",
       "CORDES WILLIAM R                      651850            12      NaN   \n",
       "HANNON KEVIN P                       5538001            32    11350   \n",
       "...                                      ...           ...      ...   \n",
       "GRAMM WENDY L                            NaN           NaN      NaN   \n",
       "CAUSEY RICHARD A                         NaN            49   307895   \n",
       "TAYLOR MITCHELL S                    3181250            29      NaN   \n",
       "DONAHUE JR JEFFREY M                  765920            22      891   \n",
       "GLISAN JR BEN F                       384728            16   200308   \n",
       "\n",
       "                     from_this_person_to_poi    poi long_term_incentive  \\\n",
       "METTS MARK                                 1  False                 NaN   \n",
       "BAXTER JOHN C                            NaN  False             1586055   \n",
       "ELLIOTT STEVEN                           NaN  False                 NaN   \n",
       "CORDES WILLIAM R                           0  False                 NaN   \n",
       "HANNON KEVIN P                            21   True             1617011   \n",
       "...                                      ...    ...                 ...   \n",
       "GRAMM WENDY L                            NaN  False                 NaN   \n",
       "CAUSEY RICHARD A                          12   True              350000   \n",
       "TAYLOR MITCHELL S                          0  False                 NaN   \n",
       "DONAHUE JR JEFFREY M                      11  False                 NaN   \n",
       "GLISAN JR BEN F                            6   True               71023   \n",
       "\n",
       "                     shared_receipt_with_poi restricted_stock director_fees  \n",
       "METTS MARK                               702           585062           NaN  \n",
       "BAXTER JOHN C                            NaN          3942714           NaN  \n",
       "ELLIOTT STEVEN                           NaN          1788391           NaN  \n",
       "CORDES WILLIAM R                          58           386335           NaN  \n",
       "HANNON KEVIN P                          1035           853064           NaN  \n",
       "...                                      ...              ...           ...  \n",
       "GRAMM WENDY L                            NaN              NaN        119292  \n",
       "CAUSEY RICHARD A                        1585          2502063           NaN  \n",
       "TAYLOR MITCHELL S                        300           563798           NaN  \n",
       "DONAHUE JR JEFFREY M                     772           315068           NaN  \n",
       "GLISAN JR BEN F                          874           393818           NaN  \n",
       "\n",
       "[146 rows x 21 columns]"
      ]
     },
     "execution_count": 123,
     "metadata": {},
     "output_type": "execute_result"
    }
   ],
   "source": [
    "df = pd.DataFrame(data_dict)\n",
    "#df['LOCKHART EUGENE E']\n",
    "df.T"
   ]
  },
  {
   "cell_type": "markdown",
   "metadata": {},
   "source": [
    "### 1.1.0 Explore csv file "
   ]
  },
  {
   "cell_type": "code",
   "execution_count": 169,
   "metadata": {},
   "outputs": [],
   "source": [
    "def make_csv(data_dict):\n",
    "    \"\"\" generates a csv file from a data set\"\"\"\n",
    "    fieldnames = ['name'] + data_dict.itervalues().next().keys()\n",
    "    with open('data.csv', 'w') as csvfile:\n",
    "        writer = csv.DictWriter(csvfile, fieldnames=fieldnames)\n",
    "        writer.writeheader()\n",
    "        for record in data_dict:\n",
    "            person = data_dict[record]\n",
    "            person['name'] = record\n",
    "            assert set(person.keys()) == set(fieldnames)\n",
    "            writer.writerow(person)"
   ]
  },
  {
   "cell_type": "markdown",
   "metadata": {},
   "source": [
    "### 1.1.1 Dataset Exploration"
   ]
  },
  {
   "cell_type": "code",
   "execution_count": 170,
   "metadata": {},
   "outputs": [
    {
     "name": "stdout",
     "output_type": "stream",
     "text": [
      "# Exploratory Data Analysis #\n",
      "Total number of data points: 143\n",
      "Number of Persons of Interest: 18\n",
      "Number of people without Person of Interest label: 125\n"
     ]
    }
   ],
   "source": [
    "print('# Exploratory Data Analysis #')\n",
    "data_dict.keys()\n",
    "print('Total number of data points: %d' % len(data_dict.keys()))\n",
    "num_poi = 0\n",
    "for name in data_dict.keys():\n",
    "    if data_dict[name]['poi'] == True:\n",
    "        num_poi += 1\n",
    "print('Number of Persons of Interest: %d' % num_poi)\n",
    "print('Number of people without Person of Interest label: %d' % (len(data_dict.keys()) - num_poi))"
   ]
  },
  {
   "cell_type": "markdown",
   "metadata": {},
   "source": [
    "### 1.1.2 Feature Exploration"
   ]
  },
  {
   "cell_type": "code",
   "execution_count": 171,
   "metadata": {},
   "outputs": [
    {
     "name": "stdout",
     "output_type": "stream",
     "text": [
      "Each person has 21 features available\n"
     ]
    }
   ],
   "source": [
    "all_features = data_dict['ALLEN PHILLIP K'].keys()\n",
    "print('Each person has %d features available' %  len(all_features))\n",
    "### Evaluate dataset for completeness\n",
    "missing_values = {}\n",
    "for feature in all_features:\n",
    "    missing_values[feature] = 0\n",
    "for person in data_dict.keys():\n",
    "    records = 0\n",
    "    for feature in all_features:\n",
    "        if data_dict[person][feature] == 'NaN':\n",
    "            missing_values[feature] += 1\n",
    "        else:\n",
    "            records += 1"
   ]
  },
  {
   "cell_type": "markdown",
   "metadata": {},
   "source": [
    "### Print results of completeness analysis"
   ]
  },
  {
   "cell_type": "code",
   "execution_count": 172,
   "metadata": {},
   "outputs": [
    {
     "name": "stdout",
     "output_type": "stream",
     "text": [
      "Number of Missing Values for Each Feature:\n",
      "loan_advances 140\n",
      "director_fees 127\n",
      "restricted_stock_deferred 126\n",
      "deferral_payments 105\n",
      "deferred_income 95\n",
      "long_term_incentive 78\n",
      "bonus 62\n",
      "to_messages 57\n",
      "from_poi_to_this_person 57\n",
      "from_messages 57\n",
      "from_this_person_to_poi 57\n",
      "shared_receipt_with_poi 57\n",
      "other 52\n",
      "salary 49\n",
      "expenses 49\n",
      "exercised_stock_options 42\n",
      "restricted_stock 34\n",
      "email_address 32\n",
      "total_payments 20\n",
      "total_stock_value 18\n",
      "poi 0\n"
     ]
    }
   ],
   "source": [
    "print('Number of Missing Values for Each Feature:')\n",
    "\n",
    "#sorted(missing_values.values())\n",
    "\n",
    "#for feature in all_features:\n",
    "   # print(\"%s: %d\" % (feature, sorted(missing_values.values())[feature])\n",
    "\n",
    "\n",
    "for id in sorted(missing_values, key = missing_values.get, reverse = True):\n",
    "          print(id, missing_values[id])\n"
   ]
  },
  {
   "cell_type": "markdown",
   "metadata": {},
   "source": [
    "=> classification,we have here unblanced target. \n",
    "Maybe Smot methodology ? "
   ]
  },
  {
   "cell_type": "markdown",
   "metadata": {},
   "source": [
    "# Variable analysis"
   ]
  },
  {
   "cell_type": "markdown",
   "metadata": {},
   "source": [
    "## Task 2: Remove outliers"
   ]
  },
  {
   "cell_type": "code",
   "execution_count": 173,
   "metadata": {},
   "outputs": [],
   "source": [
    "def PlotOutlier(data_dict, feature_x, feature_y):\n",
    "    \"\"\" Plot with flag = True in Red \"\"\"\n",
    "    data = featureFormat(data_dict, [feature_x, feature_y, 'poi'])\n",
    "    for point in data:\n",
    "        x = point[0]\n",
    "        y = point[1]\n",
    "        poi = point[2]\n",
    "        if poi:\n",
    "            color = 'red'\n",
    "        else:\n",
    "            color = 'blue'\n",
    "        plt.scatter(x, y, color=color)\n",
    "    plt.xlabel(feature_x)\n",
    "    plt.ylabel(feature_y)\n",
    "    plt.show()"
   ]
  },
  {
   "cell_type": "markdown",
   "metadata": {},
   "source": [
    "### 2.1 Visualise outliers"
   ]
  },
  {
   "cell_type": "code",
   "execution_count": 174,
   "metadata": {},
   "outputs": [
    {
     "data": {
      "image/png": "[encoded data removed]",
      "text/plain": [
       "<Figure size 432x288 with 1 Axes>"
      ]
     },
     "metadata": {
      "needs_background": "light"
     },
     "output_type": "display_data"
    },
    {
     "name": "stdout",
     "output_type": "stream",
     "text": [
      "None\n"
     ]
    },
    {
     "data": {
      "image/png": "[encoded data removed]",
      "text/plain": [
       "<Figure size 432x288 with 1 Axes>"
      ]
     },
     "metadata": {
      "needs_background": "light"
     },
     "output_type": "display_data"
    },
    {
     "name": "stdout",
     "output_type": "stream",
     "text": [
      "None\n"
     ]
    },
    {
     "data": {
      "image/png": "[encoded data removed]",
      "text/plain": [
       "<Figure size 432x288 with 1 Axes>"
      ]
     },
     "metadata": {
      "needs_background": "light"
     },
     "output_type": "display_data"
    },
    {
     "name": "stdout",
     "output_type": "stream",
     "text": [
      "None\n"
     ]
    },
    {
     "data": {
      "text/plain": [
       "0"
      ]
     },
     "execution_count": 174,
     "metadata": {},
     "output_type": "execute_result"
    }
   ],
   "source": [
    "print(PlotOutlier(data_dict, 'total_payments', 'total_stock_value'))\n",
    "print(PlotOutlier(data_dict, 'from_poi_to_this_person', 'from_this_person_to_poi'))\n",
    "print(PlotOutlier(data_dict, 'salary', 'bonus'))\n",
    "#Remove outlier TOTAL line in pickle file.\n",
    "data_dict.pop( 'TOTAL', 0 )"
   ]
  },
  {
   "cell_type": "markdown",
   "metadata": {},
   "source": [
    "### 2.2 Function to remove outliers"
   ]
  },
  {
   "cell_type": "code",
   "execution_count": 175,
   "metadata": {},
   "outputs": [],
   "source": [
    "def remove_outlier(dict_object, keys):\n",
    "    \"\"\" removes list of outliers keys from dict object \"\"\"\n",
    "    for key in keys:\n",
    "        dict_object.pop(key, 0)\n",
    "\n",
    "outliers = ['TOTAL', 'THE TRAVEL AGENCY IN THE PARK', 'LOCKHART EUGENE E']\n",
    "remove_outlier(data_dict, outliers)"
   ]
  },
  {
   "cell_type": "markdown",
   "metadata": {},
   "source": [
    "=>Remove columns   \n",
    "Maybe more outliers ? "
   ]
  },
  {
   "cell_type": "markdown",
   "metadata": {},
   "source": [
    "### Task 3: Create new feature(s)"
   ]
  },
  {
   "cell_type": "markdown",
   "metadata": {},
   "source": [
    "### 3.1 create new copies of dataset for grading"
   ]
  },
  {
   "cell_type": "code",
   "execution_count": 176,
   "metadata": {},
   "outputs": [],
   "source": [
    "my_dataset = data_dict"
   ]
  },
  {
   "cell_type": "code",
   "execution_count": 177,
   "metadata": {},
   "outputs": [],
   "source": [
    "df_variables= pd.DataFrame.from_dict(my_dataset)\n",
    "df_variables = df_variables.T"
   ]
  },
  {
   "cell_type": "code",
   "execution_count": 178,
   "metadata": {},
   "outputs": [],
   "source": [
    "list_direction2 = [\"LAY KENNETH L\",\"SKILLING JEFFREY K\"]\n",
    "list_direction1 = [\"BUY RICHARD B\",\"CAUSEY RICHARD A\",\"DERRICK JR. JAMES V\",\"KEAN STEVEN J\",\"KOENIG MARK E\",\"METTS MARK\",\"FASTOW ANDREW S\",\"BAXTER JOHN C\",\"HORTON STANLEY C\",\"FREVERT MARK A\",\"WHALLEY LAWRENCE G\",\"PAI LOU L\",\"WHITE JR THOMAS E\",\"HIRKO JOSEPH\",\"RICE KENNETH D\"]\n",
    "\n",
    "df_variables[\"direction\"] = 0\n",
    "for item in list_direction1 :\n",
    "    df_variables[\"direction\"][item] = 1\n",
    "    \n",
    "for item in list_direction2 :\n",
    "    df_variables[\"direction\"][item] = 2"
   ]
  },
  {
   "cell_type": "code",
   "execution_count": 179,
   "metadata": {},
   "outputs": [],
   "source": [
    "df_variables[\"shared_receipt_with_poi\"]=df_variables[\"shared_receipt_with_poi\"].astype(float)\n",
    "df_variables['to_messages']=df_variables['to_messages'].astype(float)\n",
    "df_variables['bonus']= df_variables['bonus'].astype(float)\n",
    "df_variables['total_payments']=df_variables['total_payments'].astype(float)\n",
    "df_variables['salary']=df_variables['salary'].astype(float)"
   ]
  },
  {
   "cell_type": "code",
   "execution_count": 180,
   "metadata": {},
   "outputs": [],
   "source": [
    "df_variables['shared_receipt_poi_ratio'] = df_variables['shared_receipt_with_poi'].\\\n",
    "                                 divide(df_variables['to_messages'], fill_value=0.0)\n",
    "df_variables['bonus_to_salary'] = df_variables['bonus'].divide(df_variables['salary'], fill_value=0.0)\n",
    "df_variables['bonus_to_total'] = df_variables['bonus'].divide(df_variables['total_payments'], fill_value=0.0)\n",
    "\n",
    "df_variables[\"shared_receipt_poi_ratio\"] = df_variables[\"shared_receipt_poi_ratio\"].fillna(0.0)\n",
    "df_variables[\"bonus_to_salary\"] = df_variables[\"bonus_to_salary\"].fillna(0.0)\n",
    "df_variables[\"bonus_to_total\"] = df_variables[\"bonus_to_total\"].fillna(0.0)"
   ]
  },
  {
   "cell_type": "code",
   "execution_count": 181,
   "metadata": {},
   "outputs": [],
   "source": [
    "df_variables[\"ratio_mess\"] =(df_variables.from_this_person_to_poi + df_variables.from_poi_to_this_person)/(df_variables.to_messages +df_variables.to_messages)"
   ]
  },
  {
   "cell_type": "code",
   "execution_count": null,
   "metadata": {},
   "outputs": [],
   "source": []
  },
  {
   "cell_type": "code",
   "execution_count": 184,
   "metadata": {},
   "outputs": [],
   "source": [
    "def compute_fraction(poi_messages, all_messages):\n",
    "    \"\"\" return fraction of messages from/to that person to/from POI\"\"\"    \n",
    "    if poi_messages == 'NaN' or all_messages == 'NaN':\n",
    "        return 0.\n",
    "    fraction = poi_messages / all_messages\n",
    "    return fraction"
   ]
  },
  {
   "cell_type": "code",
   "execution_count": 141,
   "metadata": {},
   "outputs": [],
   "source": [
    "for name in data_new:\n",
    "    data_point = data_new[name]\n",
    "    from_poi_to_this_person = data_point[\"from_poi_to_this_person\"]\n",
    "    to_messages = data_point[\"to_messages\"]\n",
    "    fraction_from_poi = compute_fraction(from_poi_to_this_person, to_messages)\n",
    "    data_point[\"fraction_from_poi\"] = fraction_from_poi\n",
    "    from_this_person_to_poi = data_point[\"from_this_person_to_poi\"]\n",
    "    from_messages = data_point[\"from_messages\"]\n",
    "    fraction_to_poi = compute_fraction(from_this_person_to_poi, from_messages)\n",
    "    data_point[\"fraction_to_poi\"] = fraction_to_poi"
   ]
  },
  {
   "cell_type": "code",
   "execution_count": 182,
   "metadata": {},
   "outputs": [
    {
     "ename": "KeyError",
     "evalue": "'fraction_to_poi'",
     "output_type": "error",
     "traceback": [
      "\u001b[1;31m---------------------------------------------------------------------------\u001b[0m",
      "\u001b[1;31mKeyError\u001b[0m                                  Traceback (most recent call last)",
      "\u001b[1;32mC:\\ProgramData\\Anaconda3\\lib\\site-packages\\pandas\\core\\indexes\\base.py\u001b[0m in \u001b[0;36mget_loc\u001b[1;34m(self, key, method, tolerance)\u001b[0m\n\u001b[0;32m   2894\u001b[0m             \u001b[1;32mtry\u001b[0m\u001b[1;33m:\u001b[0m\u001b[1;33m\u001b[0m\u001b[1;33m\u001b[0m\u001b[0m\n\u001b[1;32m-> 2895\u001b[1;33m                 \u001b[1;32mreturn\u001b[0m \u001b[0mself\u001b[0m\u001b[1;33m.\u001b[0m\u001b[0m_engine\u001b[0m\u001b[1;33m.\u001b[0m\u001b[0mget_loc\u001b[0m\u001b[1;33m(\u001b[0m\u001b[0mcasted_key\u001b[0m\u001b[1;33m)\u001b[0m\u001b[1;33m\u001b[0m\u001b[1;33m\u001b[0m\u001b[0m\n\u001b[0m\u001b[0;32m   2896\u001b[0m             \u001b[1;32mexcept\u001b[0m \u001b[0mKeyError\u001b[0m \u001b[1;32mas\u001b[0m \u001b[0merr\u001b[0m\u001b[1;33m:\u001b[0m\u001b[1;33m\u001b[0m\u001b[1;33m\u001b[0m\u001b[0m\n",
      "\u001b[1;32mpandas\\_libs\\index.pyx\u001b[0m in \u001b[0;36mpandas._libs.index.IndexEngine.get_loc\u001b[1;34m()\u001b[0m\n",
      "\u001b[1;32mpandas\\_libs\\index.pyx\u001b[0m in \u001b[0;36mpandas._libs.index.IndexEngine.get_loc\u001b[1;34m()\u001b[0m\n",
      "\u001b[1;32mpandas\\_libs\\hashtable_class_helper.pxi\u001b[0m in \u001b[0;36mpandas._libs.hashtable.PyObjectHashTable.get_item\u001b[1;34m()\u001b[0m\n",
      "\u001b[1;32mpandas\\_libs\\hashtable_class_helper.pxi\u001b[0m in \u001b[0;36mpandas._libs.hashtable.PyObjectHashTable.get_item\u001b[1;34m()\u001b[0m\n",
      "\u001b[1;31mKeyError\u001b[0m: 'fraction_to_poi'",
      "\nThe above exception was the direct cause of the following exception:\n",
      "\u001b[1;31mKeyError\u001b[0m                                  Traceback (most recent call last)",
      "\u001b[1;32m<ipython-input-182-adfbdee1eed7>\u001b[0m in \u001b[0;36m<module>\u001b[1;34m\u001b[0m\n\u001b[1;32m----> 1\u001b[1;33m \u001b[0mdf_variables\u001b[0m\u001b[1;33m[\u001b[0m\u001b[1;34m'fraction_to_poi'\u001b[0m\u001b[1;33m]\u001b[0m\u001b[1;33m\u001b[0m\u001b[1;33m\u001b[0m\u001b[0m\n\u001b[0m",
      "\u001b[1;32mC:\\ProgramData\\Anaconda3\\lib\\site-packages\\pandas\\core\\frame.py\u001b[0m in \u001b[0;36m__getitem__\u001b[1;34m(self, key)\u001b[0m\n\u001b[0;32m   2900\u001b[0m             \u001b[1;32mif\u001b[0m \u001b[0mself\u001b[0m\u001b[1;33m.\u001b[0m\u001b[0mcolumns\u001b[0m\u001b[1;33m.\u001b[0m\u001b[0mnlevels\u001b[0m \u001b[1;33m>\u001b[0m \u001b[1;36m1\u001b[0m\u001b[1;33m:\u001b[0m\u001b[1;33m\u001b[0m\u001b[1;33m\u001b[0m\u001b[0m\n\u001b[0;32m   2901\u001b[0m                 \u001b[1;32mreturn\u001b[0m \u001b[0mself\u001b[0m\u001b[1;33m.\u001b[0m\u001b[0m_getitem_multilevel\u001b[0m\u001b[1;33m(\u001b[0m\u001b[0mkey\u001b[0m\u001b[1;33m)\u001b[0m\u001b[1;33m\u001b[0m\u001b[1;33m\u001b[0m\u001b[0m\n\u001b[1;32m-> 2902\u001b[1;33m             \u001b[0mindexer\u001b[0m \u001b[1;33m=\u001b[0m \u001b[0mself\u001b[0m\u001b[1;33m.\u001b[0m\u001b[0mcolumns\u001b[0m\u001b[1;33m.\u001b[0m\u001b[0mget_loc\u001b[0m\u001b[1;33m(\u001b[0m\u001b[0mkey\u001b[0m\u001b[1;33m)\u001b[0m\u001b[1;33m\u001b[0m\u001b[1;33m\u001b[0m\u001b[0m\n\u001b[0m\u001b[0;32m   2903\u001b[0m             \u001b[1;32mif\u001b[0m \u001b[0mis_integer\u001b[0m\u001b[1;33m(\u001b[0m\u001b[0mindexer\u001b[0m\u001b[1;33m)\u001b[0m\u001b[1;33m:\u001b[0m\u001b[1;33m\u001b[0m\u001b[1;33m\u001b[0m\u001b[0m\n\u001b[0;32m   2904\u001b[0m                 \u001b[0mindexer\u001b[0m \u001b[1;33m=\u001b[0m \u001b[1;33m[\u001b[0m\u001b[0mindexer\u001b[0m\u001b[1;33m]\u001b[0m\u001b[1;33m\u001b[0m\u001b[1;33m\u001b[0m\u001b[0m\n",
      "\u001b[1;32mC:\\ProgramData\\Anaconda3\\lib\\site-packages\\pandas\\core\\indexes\\base.py\u001b[0m in \u001b[0;36mget_loc\u001b[1;34m(self, key, method, tolerance)\u001b[0m\n\u001b[0;32m   2895\u001b[0m                 \u001b[1;32mreturn\u001b[0m \u001b[0mself\u001b[0m\u001b[1;33m.\u001b[0m\u001b[0m_engine\u001b[0m\u001b[1;33m.\u001b[0m\u001b[0mget_loc\u001b[0m\u001b[1;33m(\u001b[0m\u001b[0mcasted_key\u001b[0m\u001b[1;33m)\u001b[0m\u001b[1;33m\u001b[0m\u001b[1;33m\u001b[0m\u001b[0m\n\u001b[0;32m   2896\u001b[0m             \u001b[1;32mexcept\u001b[0m \u001b[0mKeyError\u001b[0m \u001b[1;32mas\u001b[0m \u001b[0merr\u001b[0m\u001b[1;33m:\u001b[0m\u001b[1;33m\u001b[0m\u001b[1;33m\u001b[0m\u001b[0m\n\u001b[1;32m-> 2897\u001b[1;33m                 \u001b[1;32mraise\u001b[0m \u001b[0mKeyError\u001b[0m\u001b[1;33m(\u001b[0m\u001b[0mkey\u001b[0m\u001b[1;33m)\u001b[0m \u001b[1;32mfrom\u001b[0m \u001b[0merr\u001b[0m\u001b[1;33m\u001b[0m\u001b[1;33m\u001b[0m\u001b[0m\n\u001b[0m\u001b[0;32m   2898\u001b[0m \u001b[1;33m\u001b[0m\u001b[0m\n\u001b[0;32m   2899\u001b[0m         \u001b[1;32mif\u001b[0m \u001b[0mtolerance\u001b[0m \u001b[1;32mis\u001b[0m \u001b[1;32mnot\u001b[0m \u001b[1;32mNone\u001b[0m\u001b[1;33m:\u001b[0m\u001b[1;33m\u001b[0m\u001b[1;33m\u001b[0m\u001b[0m\n",
      "\u001b[1;31mKeyError\u001b[0m: 'fraction_to_poi'"
     ]
    }
   ],
   "source": [
    "df_variables['fraction_to_poi']"
   ]
  },
  {
   "cell_type": "code",
   "execution_count": 152,
   "metadata": {},
   "outputs": [],
   "source": [
    "df_variables_float=df_variables.drop(['email_address'],axis=1)"
   ]
  },
  {
   "cell_type": "code",
   "execution_count": 153,
   "metadata": {},
   "outputs": [],
   "source": [
    "df_variables_float=df_variables_float.drop(['poi'],axis=1)"
   ]
  },
  {
   "cell_type": "code",
   "execution_count": 154,
   "metadata": {},
   "outputs": [],
   "source": [
    "df_variables_float=df_variables_float.astype(float)"
   ]
  },
  {
   "cell_type": "code",
   "execution_count": 155,
   "metadata": {},
   "outputs": [],
   "source": [
    "df_variables_float['poi']=df_variables['poi']"
   ]
  },
  {
   "cell_type": "code",
   "execution_count": 156,
   "metadata": {},
   "outputs": [],
   "source": [
    "df_variables_float['email_address']=df_variables['email_address']"
   ]
  },
  {
   "cell_type": "code",
   "execution_count": 157,
   "metadata": {},
   "outputs": [],
   "source": [
    "df_variables=df_variables_float"
   ]
  },
  {
   "cell_type": "code",
   "execution_count": 158,
   "metadata": {},
   "outputs": [],
   "source": [
    "data_new = df_variables.T.to_dict()"
   ]
  },
  {
   "cell_type": "code",
   "execution_count": 159,
   "metadata": {},
   "outputs": [
    {
     "data": {
      "text/html": [
       "<div>\n",
       "<style scoped>\n",
       "    .dataframe tbody tr th:only-of-type {\n",
       "        vertical-align: middle;\n",
       "    }\n",
       "\n",
       "    .dataframe tbody tr th {\n",
       "        vertical-align: top;\n",
       "    }\n",
       "\n",
       "    .dataframe thead th {\n",
       "        text-align: right;\n",
       "    }\n",
       "</style>\n",
       "<table border=\"1\" class=\"dataframe\">\n",
       "  <thead>\n",
       "    <tr style=\"text-align: right;\">\n",
       "      <th></th>\n",
       "      <th>salary</th>\n",
       "      <th>to_messages</th>\n",
       "      <th>deferral_payments</th>\n",
       "      <th>total_payments</th>\n",
       "      <th>loan_advances</th>\n",
       "      <th>bonus</th>\n",
       "      <th>restricted_stock_deferred</th>\n",
       "      <th>deferred_income</th>\n",
       "      <th>total_stock_value</th>\n",
       "      <th>expenses</th>\n",
       "      <th>...</th>\n",
       "      <th>shared_receipt_with_poi</th>\n",
       "      <th>restricted_stock</th>\n",
       "      <th>director_fees</th>\n",
       "      <th>direction</th>\n",
       "      <th>shared_receipt_poi_ratio</th>\n",
       "      <th>bonus_to_salary</th>\n",
       "      <th>bonus_to_total</th>\n",
       "      <th>ratio_mess</th>\n",
       "      <th>poi</th>\n",
       "      <th>email_address</th>\n",
       "    </tr>\n",
       "  </thead>\n",
       "  <tbody>\n",
       "    <tr>\n",
       "      <th>METTS MARK</th>\n",
       "      <td>365788.0</td>\n",
       "      <td>807.0</td>\n",
       "      <td>NaN</td>\n",
       "      <td>1061827.0</td>\n",
       "      <td>NaN</td>\n",
       "      <td>600000.0</td>\n",
       "      <td>NaN</td>\n",
       "      <td>NaN</td>\n",
       "      <td>585062.0</td>\n",
       "      <td>94299.0</td>\n",
       "      <td>...</td>\n",
       "      <td>702.0</td>\n",
       "      <td>585062.0</td>\n",
       "      <td>NaN</td>\n",
       "      <td>1.0</td>\n",
       "      <td>0.869888</td>\n",
       "      <td>1.640294</td>\n",
       "      <td>0.565064</td>\n",
       "      <td>0.024164</td>\n",
       "      <td>False</td>\n",
       "      <td>mark.metts@enron.com</td>\n",
       "    </tr>\n",
       "    <tr>\n",
       "      <th>BAXTER JOHN C</th>\n",
       "      <td>267102.0</td>\n",
       "      <td>NaN</td>\n",
       "      <td>1295738.0</td>\n",
       "      <td>5634343.0</td>\n",
       "      <td>NaN</td>\n",
       "      <td>1200000.0</td>\n",
       "      <td>NaN</td>\n",
       "      <td>-1386055.0</td>\n",
       "      <td>10623258.0</td>\n",
       "      <td>11200.0</td>\n",
       "      <td>...</td>\n",
       "      <td>NaN</td>\n",
       "      <td>3942714.0</td>\n",
       "      <td>NaN</td>\n",
       "      <td>1.0</td>\n",
       "      <td>0.000000</td>\n",
       "      <td>4.492666</td>\n",
       "      <td>0.212980</td>\n",
       "      <td>NaN</td>\n",
       "      <td>False</td>\n",
       "      <td>NaN</td>\n",
       "    </tr>\n",
       "    <tr>\n",
       "      <th>ELLIOTT STEVEN</th>\n",
       "      <td>170941.0</td>\n",
       "      <td>NaN</td>\n",
       "      <td>NaN</td>\n",
       "      <td>211725.0</td>\n",
       "      <td>NaN</td>\n",
       "      <td>350000.0</td>\n",
       "      <td>NaN</td>\n",
       "      <td>-400729.0</td>\n",
       "      <td>6678735.0</td>\n",
       "      <td>78552.0</td>\n",
       "      <td>...</td>\n",
       "      <td>NaN</td>\n",
       "      <td>1788391.0</td>\n",
       "      <td>NaN</td>\n",
       "      <td>0.0</td>\n",
       "      <td>0.000000</td>\n",
       "      <td>2.047490</td>\n",
       "      <td>1.653088</td>\n",
       "      <td>NaN</td>\n",
       "      <td>False</td>\n",
       "      <td>steven.elliott@enron.com</td>\n",
       "    </tr>\n",
       "    <tr>\n",
       "      <th>CORDES WILLIAM R</th>\n",
       "      <td>NaN</td>\n",
       "      <td>764.0</td>\n",
       "      <td>NaN</td>\n",
       "      <td>NaN</td>\n",
       "      <td>NaN</td>\n",
       "      <td>NaN</td>\n",
       "      <td>NaN</td>\n",
       "      <td>NaN</td>\n",
       "      <td>1038185.0</td>\n",
       "      <td>NaN</td>\n",
       "      <td>...</td>\n",
       "      <td>58.0</td>\n",
       "      <td>386335.0</td>\n",
       "      <td>NaN</td>\n",
       "      <td>0.0</td>\n",
       "      <td>0.075916</td>\n",
       "      <td>0.000000</td>\n",
       "      <td>0.000000</td>\n",
       "      <td>0.006545</td>\n",
       "      <td>False</td>\n",
       "      <td>bill.cordes@enron.com</td>\n",
       "    </tr>\n",
       "    <tr>\n",
       "      <th>HANNON KEVIN P</th>\n",
       "      <td>243293.0</td>\n",
       "      <td>1045.0</td>\n",
       "      <td>NaN</td>\n",
       "      <td>288682.0</td>\n",
       "      <td>NaN</td>\n",
       "      <td>1500000.0</td>\n",
       "      <td>NaN</td>\n",
       "      <td>-3117011.0</td>\n",
       "      <td>6391065.0</td>\n",
       "      <td>34039.0</td>\n",
       "      <td>...</td>\n",
       "      <td>1035.0</td>\n",
       "      <td>853064.0</td>\n",
       "      <td>NaN</td>\n",
       "      <td>0.0</td>\n",
       "      <td>0.990431</td>\n",
       "      <td>6.165405</td>\n",
       "      <td>5.196029</td>\n",
       "      <td>0.025359</td>\n",
       "      <td>True</td>\n",
       "      <td>kevin.hannon@enron.com</td>\n",
       "    </tr>\n",
       "    <tr>\n",
       "      <th>...</th>\n",
       "      <td>...</td>\n",
       "      <td>...</td>\n",
       "      <td>...</td>\n",
       "      <td>...</td>\n",
       "      <td>...</td>\n",
       "      <td>...</td>\n",
       "      <td>...</td>\n",
       "      <td>...</td>\n",
       "      <td>...</td>\n",
       "      <td>...</td>\n",
       "      <td>...</td>\n",
       "      <td>...</td>\n",
       "      <td>...</td>\n",
       "      <td>...</td>\n",
       "      <td>...</td>\n",
       "      <td>...</td>\n",
       "      <td>...</td>\n",
       "      <td>...</td>\n",
       "      <td>...</td>\n",
       "      <td>...</td>\n",
       "      <td>...</td>\n",
       "    </tr>\n",
       "    <tr>\n",
       "      <th>GRAMM WENDY L</th>\n",
       "      <td>NaN</td>\n",
       "      <td>NaN</td>\n",
       "      <td>NaN</td>\n",
       "      <td>119292.0</td>\n",
       "      <td>NaN</td>\n",
       "      <td>NaN</td>\n",
       "      <td>NaN</td>\n",
       "      <td>NaN</td>\n",
       "      <td>NaN</td>\n",
       "      <td>NaN</td>\n",
       "      <td>...</td>\n",
       "      <td>NaN</td>\n",
       "      <td>NaN</td>\n",
       "      <td>119292.0</td>\n",
       "      <td>0.0</td>\n",
       "      <td>0.000000</td>\n",
       "      <td>0.000000</td>\n",
       "      <td>0.000000</td>\n",
       "      <td>NaN</td>\n",
       "      <td>False</td>\n",
       "      <td>NaN</td>\n",
       "    </tr>\n",
       "    <tr>\n",
       "      <th>CAUSEY RICHARD A</th>\n",
       "      <td>415189.0</td>\n",
       "      <td>1892.0</td>\n",
       "      <td>NaN</td>\n",
       "      <td>1868758.0</td>\n",
       "      <td>NaN</td>\n",
       "      <td>1000000.0</td>\n",
       "      <td>NaN</td>\n",
       "      <td>-235000.0</td>\n",
       "      <td>2502063.0</td>\n",
       "      <td>30674.0</td>\n",
       "      <td>...</td>\n",
       "      <td>1585.0</td>\n",
       "      <td>2502063.0</td>\n",
       "      <td>NaN</td>\n",
       "      <td>1.0</td>\n",
       "      <td>0.837738</td>\n",
       "      <td>2.408542</td>\n",
       "      <td>0.535115</td>\n",
       "      <td>0.018499</td>\n",
       "      <td>True</td>\n",
       "      <td>richard.causey@enron.com</td>\n",
       "    </tr>\n",
       "    <tr>\n",
       "      <th>TAYLOR MITCHELL S</th>\n",
       "      <td>265214.0</td>\n",
       "      <td>533.0</td>\n",
       "      <td>227449.0</td>\n",
       "      <td>1092663.0</td>\n",
       "      <td>NaN</td>\n",
       "      <td>600000.0</td>\n",
       "      <td>NaN</td>\n",
       "      <td>NaN</td>\n",
       "      <td>3745048.0</td>\n",
       "      <td>NaN</td>\n",
       "      <td>...</td>\n",
       "      <td>300.0</td>\n",
       "      <td>563798.0</td>\n",
       "      <td>NaN</td>\n",
       "      <td>0.0</td>\n",
       "      <td>0.562852</td>\n",
       "      <td>2.262324</td>\n",
       "      <td>0.549117</td>\n",
       "      <td>0.000000</td>\n",
       "      <td>False</td>\n",
       "      <td>mitchell.taylor@enron.com</td>\n",
       "    </tr>\n",
       "    <tr>\n",
       "      <th>DONAHUE JR JEFFREY M</th>\n",
       "      <td>278601.0</td>\n",
       "      <td>865.0</td>\n",
       "      <td>NaN</td>\n",
       "      <td>875760.0</td>\n",
       "      <td>NaN</td>\n",
       "      <td>800000.0</td>\n",
       "      <td>NaN</td>\n",
       "      <td>-300000.0</td>\n",
       "      <td>1080988.0</td>\n",
       "      <td>96268.0</td>\n",
       "      <td>...</td>\n",
       "      <td>772.0</td>\n",
       "      <td>315068.0</td>\n",
       "      <td>NaN</td>\n",
       "      <td>0.0</td>\n",
       "      <td>0.892486</td>\n",
       "      <td>2.871490</td>\n",
       "      <td>0.913492</td>\n",
       "      <td>0.115029</td>\n",
       "      <td>False</td>\n",
       "      <td>jeff.donahue@enron.com</td>\n",
       "    </tr>\n",
       "    <tr>\n",
       "      <th>GLISAN JR BEN F</th>\n",
       "      <td>274975.0</td>\n",
       "      <td>873.0</td>\n",
       "      <td>NaN</td>\n",
       "      <td>1272284.0</td>\n",
       "      <td>NaN</td>\n",
       "      <td>600000.0</td>\n",
       "      <td>NaN</td>\n",
       "      <td>NaN</td>\n",
       "      <td>778546.0</td>\n",
       "      <td>125978.0</td>\n",
       "      <td>...</td>\n",
       "      <td>874.0</td>\n",
       "      <td>393818.0</td>\n",
       "      <td>NaN</td>\n",
       "      <td>0.0</td>\n",
       "      <td>1.001145</td>\n",
       "      <td>2.182017</td>\n",
       "      <td>0.471593</td>\n",
       "      <td>0.033219</td>\n",
       "      <td>True</td>\n",
       "      <td>ben.glisan@enron.com</td>\n",
       "    </tr>\n",
       "  </tbody>\n",
       "</table>\n",
       "<p>143 rows × 26 columns</p>\n",
       "</div>"
      ],
      "text/plain": [
       "                        salary  to_messages  deferral_payments  \\\n",
       "METTS MARK            365788.0        807.0                NaN   \n",
       "BAXTER JOHN C         267102.0          NaN          1295738.0   \n",
       "ELLIOTT STEVEN        170941.0          NaN                NaN   \n",
       "CORDES WILLIAM R           NaN        764.0                NaN   \n",
       "HANNON KEVIN P        243293.0       1045.0                NaN   \n",
       "...                        ...          ...                ...   \n",
       "GRAMM WENDY L              NaN          NaN                NaN   \n",
       "CAUSEY RICHARD A      415189.0       1892.0                NaN   \n",
       "TAYLOR MITCHELL S     265214.0        533.0           227449.0   \n",
       "DONAHUE JR JEFFREY M  278601.0        865.0                NaN   \n",
       "GLISAN JR BEN F       274975.0        873.0                NaN   \n",
       "\n",
       "                      total_payments  loan_advances      bonus  \\\n",
       "METTS MARK                 1061827.0            NaN   600000.0   \n",
       "BAXTER JOHN C              5634343.0            NaN  1200000.0   \n",
       "ELLIOTT STEVEN              211725.0            NaN   350000.0   \n",
       "CORDES WILLIAM R                 NaN            NaN        NaN   \n",
       "HANNON KEVIN P              288682.0            NaN  1500000.0   \n",
       "...                              ...            ...        ...   \n",
       "GRAMM WENDY L               119292.0            NaN        NaN   \n",
       "CAUSEY RICHARD A           1868758.0            NaN  1000000.0   \n",
       "TAYLOR MITCHELL S          1092663.0            NaN   600000.0   \n",
       "DONAHUE JR JEFFREY M        875760.0            NaN   800000.0   \n",
       "GLISAN JR BEN F            1272284.0            NaN   600000.0   \n",
       "\n",
       "                      restricted_stock_deferred  deferred_income  \\\n",
       "METTS MARK                                  NaN              NaN   \n",
       "BAXTER JOHN C                               NaN       -1386055.0   \n",
       "ELLIOTT STEVEN                              NaN        -400729.0   \n",
       "CORDES WILLIAM R                            NaN              NaN   \n",
       "HANNON KEVIN P                              NaN       -3117011.0   \n",
       "...                                         ...              ...   \n",
       "GRAMM WENDY L                               NaN              NaN   \n",
       "CAUSEY RICHARD A                            NaN        -235000.0   \n",
       "TAYLOR MITCHELL S                           NaN              NaN   \n",
       "DONAHUE JR JEFFREY M                        NaN        -300000.0   \n",
       "GLISAN JR BEN F                             NaN              NaN   \n",
       "\n",
       "                      total_stock_value  expenses  ...  \\\n",
       "METTS MARK                     585062.0   94299.0  ...   \n",
       "BAXTER JOHN C                10623258.0   11200.0  ...   \n",
       "ELLIOTT STEVEN                6678735.0   78552.0  ...   \n",
       "CORDES WILLIAM R              1038185.0       NaN  ...   \n",
       "HANNON KEVIN P                6391065.0   34039.0  ...   \n",
       "...                                 ...       ...  ...   \n",
       "GRAMM WENDY L                       NaN       NaN  ...   \n",
       "CAUSEY RICHARD A              2502063.0   30674.0  ...   \n",
       "TAYLOR MITCHELL S             3745048.0       NaN  ...   \n",
       "DONAHUE JR JEFFREY M          1080988.0   96268.0  ...   \n",
       "GLISAN JR BEN F                778546.0  125978.0  ...   \n",
       "\n",
       "                      shared_receipt_with_poi  restricted_stock  \\\n",
       "METTS MARK                              702.0          585062.0   \n",
       "BAXTER JOHN C                             NaN         3942714.0   \n",
       "ELLIOTT STEVEN                            NaN         1788391.0   \n",
       "CORDES WILLIAM R                         58.0          386335.0   \n",
       "HANNON KEVIN P                         1035.0          853064.0   \n",
       "...                                       ...               ...   \n",
       "GRAMM WENDY L                             NaN               NaN   \n",
       "CAUSEY RICHARD A                       1585.0         2502063.0   \n",
       "TAYLOR MITCHELL S                       300.0          563798.0   \n",
       "DONAHUE JR JEFFREY M                    772.0          315068.0   \n",
       "GLISAN JR BEN F                         874.0          393818.0   \n",
       "\n",
       "                      director_fees  direction  shared_receipt_poi_ratio  \\\n",
       "METTS MARK                      NaN        1.0                  0.869888   \n",
       "BAXTER JOHN C                   NaN        1.0                  0.000000   \n",
       "ELLIOTT STEVEN                  NaN        0.0                  0.000000   \n",
       "CORDES WILLIAM R                NaN        0.0                  0.075916   \n",
       "HANNON KEVIN P                  NaN        0.0                  0.990431   \n",
       "...                             ...        ...                       ...   \n",
       "GRAMM WENDY L              119292.0        0.0                  0.000000   \n",
       "CAUSEY RICHARD A                NaN        1.0                  0.837738   \n",
       "TAYLOR MITCHELL S               NaN        0.0                  0.562852   \n",
       "DONAHUE JR JEFFREY M            NaN        0.0                  0.892486   \n",
       "GLISAN JR BEN F                 NaN        0.0                  1.001145   \n",
       "\n",
       "                      bonus_to_salary  bonus_to_total  ratio_mess    poi  \\\n",
       "METTS MARK                   1.640294        0.565064    0.024164  False   \n",
       "BAXTER JOHN C                4.492666        0.212980         NaN  False   \n",
       "ELLIOTT STEVEN               2.047490        1.653088         NaN  False   \n",
       "CORDES WILLIAM R             0.000000        0.000000    0.006545  False   \n",
       "HANNON KEVIN P               6.165405        5.196029    0.025359   True   \n",
       "...                               ...             ...         ...    ...   \n",
       "GRAMM WENDY L                0.000000        0.000000         NaN  False   \n",
       "CAUSEY RICHARD A             2.408542        0.535115    0.018499   True   \n",
       "TAYLOR MITCHELL S            2.262324        0.549117    0.000000  False   \n",
       "DONAHUE JR JEFFREY M         2.871490        0.913492    0.115029  False   \n",
       "GLISAN JR BEN F              2.182017        0.471593    0.033219   True   \n",
       "\n",
       "                                  email_address  \n",
       "METTS MARK                 mark.metts@enron.com  \n",
       "BAXTER JOHN C                               NaN  \n",
       "ELLIOTT STEVEN         steven.elliott@enron.com  \n",
       "CORDES WILLIAM R          bill.cordes@enron.com  \n",
       "HANNON KEVIN P           kevin.hannon@enron.com  \n",
       "...                                         ...  \n",
       "GRAMM WENDY L                               NaN  \n",
       "CAUSEY RICHARD A       richard.causey@enron.com  \n",
       "TAYLOR MITCHELL S     mitchell.taylor@enron.com  \n",
       "DONAHUE JR JEFFREY M     jeff.donahue@enron.com  \n",
       "GLISAN JR BEN F            ben.glisan@enron.com  \n",
       "\n",
       "[143 rows x 26 columns]"
      ]
     },
     "execution_count": 159,
     "metadata": {},
     "output_type": "execute_result"
    }
   ],
   "source": [
    "df_variables"
   ]
  },
  {
   "cell_type": "markdown",
   "metadata": {},
   "source": [
    "# Quantitative analysis"
   ]
  },
  {
   "cell_type": "code",
   "execution_count": null,
   "metadata": {},
   "outputs": [],
   "source": [
    "import seaborn as sns\n",
    "from matplotlib import pyplot as plt"
   ]
  },
  {
   "cell_type": "markdown",
   "metadata": {},
   "source": [
    "### Salary "
   ]
  },
  {
   "cell_type": "code",
   "execution_count": 138,
   "metadata": {},
   "outputs": [],
   "source": [
    "df_variables.salary = df_variables.salary.astype(float)\n",
    "#"
   ]
  },
  {
   "cell_type": "code",
   "execution_count": 139,
   "metadata": {},
   "outputs": [],
   "source": [
    "def graph(df,x,y) :\n",
    "    df[x]= df[x].fillna(0.0)\n",
    "    df[x]= df[x].astype(float)\n",
    "    fig, axes = plt.subplots(1, 4, sharex=False, figsize=(20,5))\n",
    "    sns.distplot(df[x],ax=axes[0])\n",
    "    df.groupby([y,'direction'])[x].mean().plot.bar(ax=axes[1])\n",
    "    sns.boxplot(df[y], df[x],ax=axes[2])\n",
    "    df.groupby(y)[x].count().plot.bar(ax=axes[3])\n",
    "    plt.show()\n",
    "    return df[x].describe()"
   ]
  },
  {
   "cell_type": "code",
   "execution_count": null,
   "metadata": {
    "scrolled": true
   },
   "outputs": [],
   "source": [
    "graph(df_variables,\"salary\",\"poi\")"
   ]
  },
  {
   "cell_type": "raw",
   "metadata": {},
   "source": [
    "we can identify a large difference in salary between the POI employee and the others. POI have a higher salary. (We havec 94 values for 143 employes)\n",
    "2 outliers POI \n",
    "1 outliers 1 POI"
   ]
  },
  {
   "cell_type": "code",
   "execution_count": null,
   "metadata": {},
   "outputs": [],
   "source": [
    "df_variables[df_variables['salary']>1000000 ]"
   ]
  },
  {
   "cell_type": "code",
   "execution_count": null,
   "metadata": {},
   "outputs": [],
   "source": [
    "graph(df_variables,\"to_messages\",\"poi\")"
   ]
  },
  {
   "cell_type": "raw",
   "metadata": {},
   "source": [
    "the difference in the number of messages sent is not significant for our 2 types employees. (We havec 86 values for 143 employes)"
   ]
  },
  {
   "cell_type": "code",
   "execution_count": null,
   "metadata": {},
   "outputs": [],
   "source": [
    "graph(df_variables,\"deferral_payments\",\"poi\")"
   ]
  },
  {
   "cell_type": "raw",
   "metadata": {},
   "source": [
    "Employees who are not POI are more likely to have more deferral paymenet .However we only havec 38 values for 143 employes)"
   ]
  },
  {
   "cell_type": "code",
   "execution_count": null,
   "metadata": {},
   "outputs": [],
   "source": [
    "graph(df_variables,\"total_payments\",\"poi\")"
   ]
  },
  {
   "cell_type": "raw",
   "metadata": {},
   "source": [
    "It's complicated to compare our value,given that we have  a very large outlier in the POI employe that distorts the results.( we havec 123 values for 143 employes)"
   ]
  },
  {
   "cell_type": "code",
   "execution_count": null,
   "metadata": {},
   "outputs": [],
   "source": [
    "df_variables[df_variables['total_payments']>100000000 ]"
   ]
  },
  {
   "cell_type": "code",
   "execution_count": null,
   "metadata": {},
   "outputs": [],
   "source": [
    "graph(df_variables,\"loan_advances\",\"poi\")"
   ]
  },
  {
   "cell_type": "raw",
   "metadata": {},
   "source": [
    "We only have 3 values for loan advancement "
   ]
  },
  {
   "cell_type": "code",
   "execution_count": null,
   "metadata": {},
   "outputs": [],
   "source": [
    "graph(df_variables,\"bonus\",\"poi\")"
   ]
  },
  {
   "cell_type": "raw",
   "metadata": {},
   "source": [
    "Employees who are POI are more likely to have large bonus .(we havec 81 values for 143 employes)"
   ]
  },
  {
   "cell_type": "code",
   "execution_count": null,
   "metadata": {},
   "outputs": [],
   "source": [
    "graph(df_variables,\"restricted_stock_deferred\",\"poi\")"
   ]
  },
  {
   "cell_type": "raw",
   "metadata": {},
   "source": [
    "We only have 17 values"
   ]
  },
  {
   "cell_type": "code",
   "execution_count": null,
   "metadata": {},
   "outputs": [],
   "source": [
    "graph(df_variables,\"deferred_income\",\"poi\")"
   ]
  },
  {
   "cell_type": "raw",
   "metadata": {},
   "source": [
    "Employees who are POI are more likely to use deffered income .(we have 48 values for 143 employes)"
   ]
  },
  {
   "cell_type": "code",
   "execution_count": null,
   "metadata": {},
   "outputs": [],
   "source": [
    "graph(df_variables,\"total_stock_value\",\"poi\")"
   ]
  },
  {
   "cell_type": "raw",
   "metadata": {},
   "source": [
    "Employees who are POI are more likely to have larger total stock value .(we have 125 values for 143 employes)"
   ]
  },
  {
   "cell_type": "code",
   "execution_count": null,
   "metadata": {},
   "outputs": [],
   "source": [
    "graph(df_variables,\"expenses\",\"poi\")"
   ]
  },
  {
   "cell_type": "raw",
   "metadata": {},
   "source": [
    "The difference in the number exepenses is not significant for our 2 types employees. (We havec 94 values for 143 employes)"
   ]
  },
  {
   "cell_type": "code",
   "execution_count": null,
   "metadata": {},
   "outputs": [],
   "source": [
    "graph(df_variables,\"from_poi_to_this_person\",\"poi\")"
   ]
  },
  {
   "cell_type": "raw",
   "metadata": {},
   "source": [
    "POI employees receive in average more message from other POI. (We have 86 values for 143 employees)"
   ]
  },
  {
   "cell_type": "code",
   "execution_count": null,
   "metadata": {},
   "outputs": [],
   "source": [
    "graph(df_variables,\"exercised_stock_options\",\"poi\")"
   ]
  },
  {
   "cell_type": "raw",
   "metadata": {},
   "source": [
    "Employees who are POI are more likely to have larger exercised_stock_option .(we havec 101 values for 143 employes)"
   ]
  },
  {
   "cell_type": "code",
   "execution_count": null,
   "metadata": {},
   "outputs": [],
   "source": [
    "graph(df_variables,\"from_messages\",\"poi\")"
   ]
  },
  {
   "cell_type": "raw",
   "metadata": {},
   "source": [
    "Employees who are not POI are more likely to receive more message .(we havec 86 values for 143 employes)"
   ]
  },
  {
   "cell_type": "code",
   "execution_count": null,
   "metadata": {},
   "outputs": [],
   "source": [
    "graph(df_variables,\"other\",\"poi\")"
   ]
  },
  {
   "cell_type": "code",
   "execution_count": null,
   "metadata": {},
   "outputs": [],
   "source": [
    "graph(df_variables,\"from_this_person_to_poi\",\"poi\")"
   ]
  },
  {
   "cell_type": "raw",
   "metadata": {},
   "source": [
    "Employees who are POI are more likely to send more message to an other POI .(we havec 86 values for 143 employes)"
   ]
  },
  {
   "cell_type": "code",
   "execution_count": null,
   "metadata": {},
   "outputs": [],
   "source": [
    "graph(df_variables,\"long_term_incentive\",\"poi\")"
   ]
  },
  {
   "cell_type": "raw",
   "metadata": {},
   "source": [
    "Employees who are POI are more likely to have larger long term incentives .(we havec 65 values for 143 employes)"
   ]
  },
  {
   "cell_type": "code",
   "execution_count": null,
   "metadata": {},
   "outputs": [],
   "source": [
    "graph(df_variables,\"shared_receipt_with_poi\",\"poi\")"
   ]
  },
  {
   "cell_type": "raw",
   "metadata": {},
   "source": [
    "Employees who are POI are more likely to have shared receipt with other poi .(we havec 86 values for 143 employes)"
   ]
  },
  {
   "cell_type": "code",
   "execution_count": null,
   "metadata": {},
   "outputs": [],
   "source": [
    "graph(df_variables,\"restricted_stock\",\"poi\")"
   ]
  },
  {
   "cell_type": "raw",
   "metadata": {},
   "source": [
    "the difference in restricted stock is not significant for our 2 types employees. (We havec 109 values for 143 employes)"
   ]
  },
  {
   "cell_type": "code",
   "execution_count": null,
   "metadata": {},
   "outputs": [],
   "source": [
    "graph(df_variables,\"director_fees\",\"poi\")"
   ]
  },
  {
   "cell_type": "raw",
   "metadata": {},
   "source": [
    "We only have 16 values"
   ]
  },
  {
   "cell_type": "code",
   "execution_count": null,
   "metadata": {},
   "outputs": [],
   "source": [
    "graph(df_variables,\"ratio_mess\",\"poi\")"
   ]
  },
  {
   "cell_type": "raw",
   "metadata": {},
   "source": [
    "The ratio of mess is a good indicator given that POI have bigger ratio of message sended or received in direction of a POI"
   ]
  },
  {
   "cell_type": "raw",
   "metadata": {},
   "source": [
    "Conclusion :\n",
    "we can identify the following significant variables : \n",
    "Salary\n",
    "Bonus\n",
    "total_stock_value\n",
    "from_poi_to_this_person\n",
    "exercised_stock_options\n",
    "from_this_person_to_poi\n",
    "long_term_incentive\n",
    "shared_receipt_with_poi\n",
    "restricted_stock\n",
    "ratio_mess"
   ]
  },
  {
   "cell_type": "markdown",
   "metadata": {},
   "source": [
    "### Bivariate Analysis"
   ]
  },
  {
   "cell_type": "code",
   "execution_count": null,
   "metadata": {},
   "outputs": [],
   "source": [
    "sns.pairplot(data = df_variables, vars=['salary','deferral_payments','total_payments','loan_advances','bonus','restricted_stock_deferred','total_stock_value','expenses','exercised_stock_options','long_term_incentive', 'restricted_stock'])\n",
    "plt.show()"
   ]
  },
  {
   "cell_type": "code",
   "execution_count": null,
   "metadata": {},
   "outputs": [],
   "source": [
    "sns.pairplot(data = df_variables, vars=['to_messages','from_poi_to_this_person','from_this_person_to_poi','from_messages','shared_receipt_with_poi'])\n",
    "plt.show()"
   ]
  },
  {
   "cell_type": "markdown",
   "metadata": {},
   "source": [
    "### Correlation Matrix"
   ]
  },
  {
   "cell_type": "code",
   "execution_count": null,
   "metadata": {},
   "outputs": [],
   "source": [
    "sns.heatmap(df_variables[['salary','deferral_payments','total_payments','loan_advances','bonus','restricted_stock_deferred','total_stock_value','expenses','exercised_stock_options','long_term_incentive', 'restricted_stock']].corr(), annot = True, cmap = 'Reds')\n",
    "plt.show()"
   ]
  },
  {
   "cell_type": "raw",
   "metadata": {},
   "source": [
    "Correlation (>0,85):\n",
    "\n",
    "\n",
    "total payments -- loan advances\n",
    "total payments -- restricted stock deffered\n",
    "\n",
    "loan advances -- bonus\n",
    "loan advances -- total stock values \n",
    "loan advances -- excercised stock options\n",
    "loan advances -- long term incentive\n",
    "loan advances -- restricted stock\n",
    "\n",
    "total stock value -- excercised stock options\n",
    "total stock value -- restricted stock"
   ]
  },
  {
   "cell_type": "code",
   "execution_count": null,
   "metadata": {},
   "outputs": [],
   "source": [
    "sns.heatmap(df_variables[['to_messages','from_poi_to_this_person','from_this_person_to_poi','from_messages','shared_receipt_with_poi', 'ratio_mess']].corr(), annot = True, cmap = 'Reds')\n",
    "plt.show()"
   ]
  },
  {
   "cell_type": "raw",
   "metadata": {},
   "source": [
    "Correlation:\n",
    "\n",
    "share receipt with poi -- to message"
   ]
  },
  {
   "cell_type": "markdown",
   "metadata": {},
   "source": [
    "### 3.2 add new features to dataset"
   ]
  },
  {
   "cell_type": "markdown",
   "metadata": {},
   "source": [
    "### 3.3 create new copies of feature list for grading"
   ]
  },
  {
   "cell_type": "code",
   "execution_count": 160,
   "metadata": {},
   "outputs": [],
   "source": [
    "my_feature_list = features_list +['to_messages', 'from_poi_to_this_person', 'from_messages', 'from_this_person_to_poi','shared_receipt_with_poi', 'fraction_to_poi','shared_receipt_poi_ratio','bonus_to_salary','bonus_to_total','direction']"
   ]
  },
  {
   "cell_type": "markdown",
   "metadata": {},
   "source": [
    "### 3.4 get K-best features"
   ]
  },
  {
   "cell_type": "code",
   "execution_count": 161,
   "metadata": {},
   "outputs": [],
   "source": [
    "num_features = 10 "
   ]
  },
  {
   "cell_type": "markdown",
   "metadata": {},
   "source": [
    "### 3.5 function using SelectKBest"
   ]
  },
  {
   "cell_type": "code",
   "execution_count": 162,
   "metadata": {},
   "outputs": [],
   "source": [
    "def get_k_best(data_dict, features_list, k):\n",
    "    \"\"\" runs scikit-learn's SelectKBest feature selection\n",
    "        returns dict where keys=features, values=scores\n",
    "    \"\"\"\n",
    "    data = featureFormat(data_dict, features_list)\n",
    "    labels, features = targetFeatureSplit(data)\n",
    "\n",
    "    k_best = SelectKBest(k=k)\n",
    "    k_best.fit(features, labels)\n",
    "    scores = k_best.scores_\n",
    "    print(scores)\n",
    "    unsorted_pairs = zip(features_list[1:], scores)\n",
    "    sorted_pairs = list(reversed(sorted(unsorted_pairs, key=lambda x: x[1])))\n",
    "    k_best_features = dict(sorted_pairs[:k])\n",
    "    print (\"{0} best features: {1}\\n\".format(k, k_best_features.keys(), scores))\n",
    "    return k_best_features"
   ]
  },
  {
   "cell_type": "markdown",
   "metadata": {},
   "source": [
    "=> Maybe appropriate stat test for classification. "
   ]
  },
  {
   "cell_type": "code",
   "execution_count": 163,
   "metadata": {},
   "outputs": [
    {
     "name": "stdout",
     "output_type": "stream",
     "text": [
      "error: key  fraction_to_poi  not present\n"
     ]
    },
    {
     "ename": "TypeError",
     "evalue": "'NoneType' object is not iterable",
     "output_type": "error",
     "traceback": [
      "\u001b[1;31m---------------------------------------------------------------------------\u001b[0m",
      "\u001b[1;31mTypeError\u001b[0m                                 Traceback (most recent call last)",
      "\u001b[1;32m<ipython-input-163-4acedea00bc7>\u001b[0m in \u001b[0;36m<module>\u001b[1;34m\u001b[0m\n\u001b[1;32m----> 1\u001b[1;33m \u001b[0mbest_features\u001b[0m \u001b[1;33m=\u001b[0m \u001b[0mget_k_best\u001b[0m\u001b[1;33m(\u001b[0m\u001b[0mdata_new\u001b[0m\u001b[1;33m,\u001b[0m \u001b[0mmy_feature_list\u001b[0m\u001b[1;33m,\u001b[0m \u001b[0mnum_features\u001b[0m\u001b[1;33m)\u001b[0m\u001b[1;33m\u001b[0m\u001b[1;33m\u001b[0m\u001b[0m\n\u001b[0m\u001b[0;32m      2\u001b[0m \u001b[1;33m\u001b[0m\u001b[0m\n\u001b[0;32m      3\u001b[0m \u001b[0mmy_feature_list\u001b[0m \u001b[1;33m=\u001b[0m \u001b[1;33m[\u001b[0m\u001b[0mtarget_label\u001b[0m\u001b[1;33m]\u001b[0m \u001b[1;33m+\u001b[0m \u001b[0mlist\u001b[0m\u001b[1;33m(\u001b[0m\u001b[0mset\u001b[0m\u001b[1;33m(\u001b[0m\u001b[0mbest_features\u001b[0m\u001b[1;33m.\u001b[0m\u001b[0mkeys\u001b[0m\u001b[1;33m(\u001b[0m\u001b[1;33m)\u001b[0m\u001b[1;33m)\u001b[0m\u001b[1;33m)\u001b[0m\u001b[1;33m\u001b[0m\u001b[1;33m\u001b[0m\u001b[0m\n",
      "\u001b[1;32m<ipython-input-162-266eab1de604>\u001b[0m in \u001b[0;36mget_k_best\u001b[1;34m(data_dict, features_list, k)\u001b[0m\n\u001b[0;32m      4\u001b[0m     \"\"\"\n\u001b[0;32m      5\u001b[0m     \u001b[0mdata\u001b[0m \u001b[1;33m=\u001b[0m \u001b[0mfeatureFormat\u001b[0m\u001b[1;33m(\u001b[0m\u001b[0mdata_dict\u001b[0m\u001b[1;33m,\u001b[0m \u001b[0mfeatures_list\u001b[0m\u001b[1;33m)\u001b[0m\u001b[1;33m\u001b[0m\u001b[1;33m\u001b[0m\u001b[0m\n\u001b[1;32m----> 6\u001b[1;33m     \u001b[0mlabels\u001b[0m\u001b[1;33m,\u001b[0m \u001b[0mfeatures\u001b[0m \u001b[1;33m=\u001b[0m \u001b[0mtargetFeatureSplit\u001b[0m\u001b[1;33m(\u001b[0m\u001b[0mdata\u001b[0m\u001b[1;33m)\u001b[0m\u001b[1;33m\u001b[0m\u001b[1;33m\u001b[0m\u001b[0m\n\u001b[0m\u001b[0;32m      7\u001b[0m \u001b[1;33m\u001b[0m\u001b[0m\n\u001b[0;32m      8\u001b[0m     \u001b[0mk_best\u001b[0m \u001b[1;33m=\u001b[0m \u001b[0mSelectKBest\u001b[0m\u001b[1;33m(\u001b[0m\u001b[0mk\u001b[0m\u001b[1;33m=\u001b[0m\u001b[0mk\u001b[0m\u001b[1;33m)\u001b[0m\u001b[1;33m\u001b[0m\u001b[1;33m\u001b[0m\u001b[0m\n",
      "\u001b[1;32m~\\Documents\\_Perso\\Cours\\M2\\U3. Programing\\Python for DS\\TBS_Final_Project\\U3-A-ML-to-Identify-Fraud-in-the-Enron-Corpus\\tools\\feature_format.py\u001b[0m in \u001b[0;36mtargetFeatureSplit\u001b[1;34m(data)\u001b[0m\n\u001b[0;32m    118\u001b[0m     \u001b[0mtarget\u001b[0m \u001b[1;33m=\u001b[0m \u001b[1;33m[\u001b[0m\u001b[1;33m]\u001b[0m\u001b[1;33m\u001b[0m\u001b[1;33m\u001b[0m\u001b[0m\n\u001b[0;32m    119\u001b[0m     \u001b[0mfeatures\u001b[0m \u001b[1;33m=\u001b[0m \u001b[1;33m[\u001b[0m\u001b[1;33m]\u001b[0m\u001b[1;33m\u001b[0m\u001b[1;33m\u001b[0m\u001b[0m\n\u001b[1;32m--> 120\u001b[1;33m     \u001b[1;32mfor\u001b[0m \u001b[0mitem\u001b[0m \u001b[1;32min\u001b[0m \u001b[0mdata\u001b[0m\u001b[1;33m:\u001b[0m\u001b[1;33m\u001b[0m\u001b[1;33m\u001b[0m\u001b[0m\n\u001b[0m\u001b[0;32m    121\u001b[0m         \u001b[0mtarget\u001b[0m\u001b[1;33m.\u001b[0m\u001b[0mappend\u001b[0m\u001b[1;33m(\u001b[0m \u001b[0mitem\u001b[0m\u001b[1;33m[\u001b[0m\u001b[1;36m0\u001b[0m\u001b[1;33m]\u001b[0m \u001b[1;33m)\u001b[0m\u001b[1;33m\u001b[0m\u001b[1;33m\u001b[0m\u001b[0m\n\u001b[0;32m    122\u001b[0m         \u001b[0mfeatures\u001b[0m\u001b[1;33m.\u001b[0m\u001b[0mappend\u001b[0m\u001b[1;33m(\u001b[0m \u001b[0mitem\u001b[0m\u001b[1;33m[\u001b[0m\u001b[1;36m1\u001b[0m\u001b[1;33m:\u001b[0m\u001b[1;33m]\u001b[0m \u001b[1;33m)\u001b[0m\u001b[1;33m\u001b[0m\u001b[1;33m\u001b[0m\u001b[0m\n",
      "\u001b[1;31mTypeError\u001b[0m: 'NoneType' object is not iterable"
     ]
    }
   ],
   "source": [
    "best_features = get_k_best(data_new, my_feature_list, num_features)\n",
    "\n",
    "my_feature_list = [target_label] + list(set(best_features.keys()))\n"
   ]
  },
  {
   "cell_type": "raw",
   "metadata": {},
   "source": [
    "Salary X\n",
    "Bonus X\n",
    "total_stock_value \n",
    "from_poi_to_this_person\n",
    "exercised_stock_options\n",
    " long_term_incentive X\n",
    "shared_receipt_with_poi X\n",
    "restricted_stock X\n",
    "ratio_mess"
   ]
  },
  {
   "cell_type": "markdown",
   "metadata": {},
   "source": [
    "### 3.6 print features"
   ]
  },
  {
   "cell_type": "code",
   "execution_count": null,
   "metadata": {},
   "outputs": [],
   "source": [
    "print (\"{0} selected features: {1}\\n\".format(len(my_feature_list) - 1, my_feature_list[1:]))"
   ]
  },
  {
   "cell_type": "markdown",
   "metadata": {},
   "source": [
    "### 3.7 extract the features specified in features_list\n"
   ]
  },
  {
   "cell_type": "code",
   "execution_count": null,
   "metadata": {},
   "outputs": [],
   "source": [
    "data = featureFormat(data_new, my_feature_list,sort_keys = True)"
   ]
  },
  {
   "cell_type": "markdown",
   "metadata": {},
   "source": [
    "split into labels and features"
   ]
  },
  {
   "cell_type": "code",
   "execution_count": null,
   "metadata": {},
   "outputs": [],
   "source": [
    "labels, features = targetFeatureSplit(data)"
   ]
  },
  {
   "cell_type": "code",
   "execution_count": null,
   "metadata": {},
   "outputs": [],
   "source": []
  },
  {
   "cell_type": "markdown",
   "metadata": {},
   "source": [
    "### 3.8 scale features via min-max"
   ]
  },
  {
   "cell_type": "code",
   "execution_count": null,
   "metadata": {},
   "outputs": [],
   "source": [
    "from sklearn import preprocessing\n",
    "scaler = preprocessing.MinMaxScaler()\n",
    "features = scaler.fit_transform(features)"
   ]
  },
  {
   "cell_type": "markdown",
   "metadata": {},
   "source": [
    "## Task 4: Using algorithm"
   ]
  },
  {
   "cell_type": "markdown",
   "metadata": {},
   "source": [
    "Please name your classifier clf for easy export below.   \n",
    "Note that if you want to do PCA or other multi-stage operations,    \n",
    "you'll need to use Pipelines. For more info:    \n",
    "http://scikit-learn.org/stable/modules/pipeline.html     \n",
    "\n",
    "Provided to give you a starting point. Try a variety of classifiers.   "
   ]
  },
  {
   "cell_type": "markdown",
   "metadata": {},
   "source": [
    "### 4.1  Gaussian Naive Bayes Classifier"
   ]
  },
  {
   "cell_type": "code",
   "execution_count": null,
   "metadata": {},
   "outputs": [],
   "source": [
    "from sklearn.naive_bayes import GaussianNB\n",
    "g_clf = GaussianNB()"
   ]
  },
  {
   "cell_type": "markdown",
   "metadata": {},
   "source": [
    "### 4.2  Logistic Regression Classifier\n"
   ]
  },
  {
   "cell_type": "code",
   "execution_count": null,
   "metadata": {},
   "outputs": [],
   "source": [
    "from sklearn.linear_model import LogisticRegression"
   ]
  },
  {
   "cell_type": "code",
   "execution_count": null,
   "metadata": {},
   "outputs": [],
   "source": [
    "l_clf = Pipeline(steps=[\n",
    "        ('scaler', StandardScaler()),\n",
    "        ('classifier', LogisticRegression(C=1e-08, class_weight=None, dual=False, fit_intercept=True, intercept_scaling=1, \n",
    "max_iter=100, multi_class='ovr', penalty='l2', random_state=42, solver='liblinear', tol=0.001, verbose=0))])"
   ]
  },
  {
   "cell_type": "markdown",
   "metadata": {},
   "source": [
    "### 4.3  K-means Clustering"
   ]
  },
  {
   "cell_type": "code",
   "execution_count": null,
   "metadata": {},
   "outputs": [],
   "source": [
    "from sklearn.cluster import KMeans\n",
    "k_clf = KMeans(n_clusters=2, tol=0.001)"
   ]
  },
  {
   "cell_type": "markdown",
   "metadata": {},
   "source": [
    "### 4.4 Support Vector Machine Classifier"
   ]
  },
  {
   "cell_type": "code",
   "execution_count": null,
   "metadata": {},
   "outputs": [],
   "source": [
    "from sklearn.svm import SVC\n",
    "s_clf = SVC(kernel='rbf', C=1000,gamma = 0.0001,random_state = 42, class_weight = 'balanced')"
   ]
  },
  {
   "cell_type": "markdown",
   "metadata": {},
   "source": [
    "### 4.5 Random Forest\n"
   ]
  },
  {
   "cell_type": "code",
   "execution_count": null,
   "metadata": {},
   "outputs": [],
   "source": [
    "from sklearn.ensemble import RandomForestClassifier\n",
    "rf_clf = RandomForestClassifier(max_depth = 5,max_features = 'sqrt',n_estimators = 10, random_state = 42)"
   ]
  },
  {
   "cell_type": "markdown",
   "metadata": {},
   "source": [
    "### 4.6 Gradient Boosting Classifier"
   ]
  },
  {
   "cell_type": "code",
   "execution_count": null,
   "metadata": {},
   "outputs": [],
   "source": [
    "from sklearn.ensemble  import GradientBoostingClassifier\n",
    "gb_clf = GradientBoostingClassifier(loss='deviance', learning_rate=0.1, n_estimators=100,random_state = 42)"
   ]
  },
  {
   "cell_type": "markdown",
   "metadata": {},
   "source": [
    "### 4.7 evaluate function\n"
   ]
  },
  {
   "cell_type": "code",
   "execution_count": null,
   "metadata": {},
   "outputs": [],
   "source": [
    "def evaluate_clf(clf, features, labels, num_iters=1000, test_size=0.3):\n",
    "    print (clf)\n",
    "    accuracy = []\n",
    "    precision = []\n",
    "    recall = []\n",
    "    first = True\n",
    "    for trial in range(num_iters):\n",
    "        features_train, features_test, labels_train, labels_test =\\\n",
    "            train_test_split(features, labels, test_size=test_size)\n",
    "        clf.fit(features_train, labels_train)\n",
    "        predictions = clf.predict(features_test)\n",
    "        accuracy.append(accuracy_score(labels_test, predictions))\n",
    "        precision.append(precision_score(labels_test, predictions))\n",
    "        recall.append(recall_score(labels_test, predictions))\n",
    "        if trial % 10 == 0:\n",
    "            if first:\n",
    "                sys.stdout.write('\\nProcessing')\n",
    "            sys.stdout.write('.')\n",
    "            sys.stdout.flush()\n",
    "            first = False\n",
    "\n",
    "    print (\"done.\\n\")\n",
    "    print (\"precision: {}\".format(mean(precision)))\n",
    "    print (\"recall:    {}\".format(mean(recall)))\n",
    "    return mean(precision), mean(recall)"
   ]
  },
  {
   "cell_type": "markdown",
   "metadata": {},
   "source": [
    "### 4.8 Evaluate all functions"
   ]
  },
  {
   "cell_type": "code",
   "execution_count": null,
   "metadata": {},
   "outputs": [],
   "source": [
    "evaluate_clf(g_clf, features, labels)\n",
    "evaluate_clf(l_clf, features, labels)\n",
    "evaluate_clf(k_clf, features, labels)\n",
    "evaluate_clf(s_clf, features, labels)\n",
    "evaluate_clf(rf_clf, features, labels)\n",
    "evaluate_clf(gb_clf, features, labels)"
   ]
  },
  {
   "cell_type": "markdown",
   "metadata": {},
   "source": [
    "=> Rajouter fonction print best"
   ]
  },
  {
   "cell_type": "markdown",
   "metadata": {},
   "source": [
    "Select Logistic Regression as final algorithm"
   ]
  },
  {
   "cell_type": "code",
   "execution_count": null,
   "metadata": {},
   "outputs": [],
   "source": [
    "clf = l_clf"
   ]
  },
  {
   "cell_type": "markdown",
   "metadata": {},
   "source": [
    "dump your classifier, dataset and features_list so   \n",
    "anyone can run/check your results"
   ]
  },
  {
   "cell_type": "code",
   "execution_count": null,
   "metadata": {},
   "outputs": [],
   "source": [
    "pickle.dump(clf, open(\"../final_project/my_classifier.pkl\", \"wb\"))\n",
    "pickle.dump(my_dataset, open(\"../final_project/my_dataset.pkl\", \"wb\"))\n",
    "pickle.dump(my_feature_list, open(\"../final_project/my_feature_list.pkl\", \"wb\"))"
   ]
  },
  {
   "cell_type": "markdown",
   "metadata": {},
   "source": [
    "### Task 5: Tune your classifier"
   ]
  },
  {
   "cell_type": "markdown",
   "metadata": {},
   "source": [
    "\n",
    " Task 5: Tune your classifier to achieve better than .42 precision and recall   \n",
    " using our testing script. Check the tester.py script in the final project  \n",
    " folder for details on the evaluation method, especially the test_classifier   \n",
    " function. Because of the small size of the dataset, the script uses   \n",
    " stratified shuffle split cross validation. For more info:   \n",
    " http://scikit-learn.org/stable/modules/generated/sklearn.cross_validation.StratifiedShuffleSplit.html  \n",
    "\n",
    "Example starting point. Try investigating other evaluation techniques!"
   ]
  },
  {
   "cell_type": "code",
   "execution_count": null,
   "metadata": {},
   "outputs": [],
   "source": [
    "features_train, features_test, labels_train, labels_test = \\\n",
    "    train_test_split(features, labels, test_size=0.3, random_state=42)"
   ]
  },
  {
   "cell_type": "markdown",
   "metadata": {},
   "source": [
    "### Task 6: Dump your classifier, dataset, and features_list"
   ]
  },
  {
   "cell_type": "markdown",
   "metadata": {},
   "source": [
    "Task 6: Dump your classifier, dataset, and features_list so anyone can   \n",
    "check your results. You do not need to change anything below, but make sure  \n",
    "that the version of poi_id.py that you submit can be run on its own and   \n",
    "generates the necessary .pkl files for validating your results.  "
   ]
  },
  {
   "cell_type": "code",
   "execution_count": null,
   "metadata": {},
   "outputs": [],
   "source": [
    "dump_classifier_and_data(clf, my_dataset, features_list)"
   ]
  }
 ],
 "metadata": {
  "kernelspec": {
   "display_name": "Python 3",
   "language": "python",
   "name": "python3"
  },
  "language_info": {
   "codemirror_mode": {
    "name": "ipython",
    "version": 3
   },
   "file_extension": ".py",
   "mimetype": "text/x-python",
   "name": "python",
   "nbconvert_exporter": "python",
   "pygments_lexer": "ipython3",
   "version": "3.7.9"
  }
 },
 "nbformat": 4,
 "nbformat_minor": 4
}
