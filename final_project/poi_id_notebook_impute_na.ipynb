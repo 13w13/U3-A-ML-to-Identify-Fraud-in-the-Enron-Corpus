{
 "cells": [
  {
   "cell_type": "markdown",
   "metadata": {},
   "source": [
    "# Machine Learning to Identify Fraud in the Enron Corpus"
   ]
  },
  {
   "cell_type": "code",
   "execution_count": 1,
   "metadata": {},
   "outputs": [],
   "source": [
    "import warnings \n",
    "warnings.filterwarnings(\"ignore\")\n",
    "import sys\n",
    "import pickle\n",
    "sys.path.append(\"../tools/\")\n",
    "from feature_format import featureFormat, targetFeatureSplit\n",
    "from tester import dump_classifier_and_data\n",
    "import pandas as pd\n",
    "import sys\n",
    "import pickle\n",
    "import csv\n",
    "import matplotlib.pyplot as plt\n",
    "\n",
    "sys.path.append(\"../tools/\")\n",
    "from feature_format import featureFormat, targetFeatureSplit\n",
    "#from poi_data import *\n",
    "from sklearn.feature_selection import SelectKBest\n",
    "from sklearn.pipeline import Pipeline\n",
    "from sklearn.preprocessing import StandardScaler\n",
    "from sklearn.model_selection import StratifiedShuffleSplit\n",
    "\n",
    "from numpy import mean\n",
    "from sklearn.model_selection import train_test_split\n",
    "from sklearn.model_selection import cross_validate\n",
    "\n",
    "from sklearn.metrics import accuracy_score, precision_score, recall_score"
   ]
  },
  {
   "cell_type": "markdown",
   "metadata": {},
   "source": [
    "## Task 1: Select what features you'll use"
   ]
  },
  {
   "cell_type": "markdown",
   "metadata": {},
   "source": [
    "features_list is a list of strings, each of which is a feature name.    \n",
    "The first feature must be \"poi\".    \n",
    "features_list = ['poi','salary']    \n",
    "**You will need to use more features**"
   ]
  },
  {
   "cell_type": "code",
   "execution_count": 2,
   "metadata": {},
   "outputs": [],
   "source": [
    "target_label = 'poi'\n",
    "\n",
    "email_features_list = [\n",
    "    'from_messages',\n",
    "    'from_poi_to_this_person',\n",
    "    'from_this_person_to_poi',\n",
    "    'shared_receipt_with_poi',\n",
    "    'to_messages',\n",
    "    ]\n",
    "    \n",
    "financial_features_list = [\n",
    "    'bonus',\n",
    "    'deferral_payments',\n",
    "    'deferred_income',\n",
    "    'director_fees',\n",
    "    'exercised_stock_options',\n",
    "    'expenses',\n",
    "    'loan_advances',\n",
    "    'long_term_incentive',\n",
    "    'other',\n",
    "    'restricted_stock',\n",
    "    'restricted_stock_deferred',\n",
    "    'salary',\n",
    "    'total_payments',\n",
    "    'total_stock_value',\n",
    "]\n",
    "\n",
    "features_list = [target_label] + financial_features_list + email_features_list"
   ]
  },
  {
   "cell_type": "code",
   "execution_count": 3,
   "metadata": {},
   "outputs": [],
   "source": [
    "### Load the dictionary containing the dataset\n",
    "\n",
    "with open('final_project_dataset.pkl', 'rb') as data_file:\n",
    "    data_dict = pickle.load(data_file)"
   ]
  },
  {
   "cell_type": "code",
   "execution_count": 4,
   "metadata": {},
   "outputs": [
    {
     "data": {
      "text/html": [
       "<div>\n",
       "<style scoped>\n",
       "    .dataframe tbody tr th:only-of-type {\n",
       "        vertical-align: middle;\n",
       "    }\n",
       "\n",
       "    .dataframe tbody tr th {\n",
       "        vertical-align: top;\n",
       "    }\n",
       "\n",
       "    .dataframe thead th {\n",
       "        text-align: right;\n",
       "    }\n",
       "</style>\n",
       "<table border=\"1\" class=\"dataframe\">\n",
       "  <thead>\n",
       "    <tr style=\"text-align: right;\">\n",
       "      <th></th>\n",
       "      <th>salary</th>\n",
       "      <th>to_messages</th>\n",
       "      <th>deferral_payments</th>\n",
       "      <th>total_payments</th>\n",
       "      <th>loan_advances</th>\n",
       "      <th>bonus</th>\n",
       "      <th>email_address</th>\n",
       "      <th>restricted_stock_deferred</th>\n",
       "      <th>deferred_income</th>\n",
       "      <th>total_stock_value</th>\n",
       "      <th>...</th>\n",
       "      <th>from_poi_to_this_person</th>\n",
       "      <th>exercised_stock_options</th>\n",
       "      <th>from_messages</th>\n",
       "      <th>other</th>\n",
       "      <th>from_this_person_to_poi</th>\n",
       "      <th>poi</th>\n",
       "      <th>long_term_incentive</th>\n",
       "      <th>shared_receipt_with_poi</th>\n",
       "      <th>restricted_stock</th>\n",
       "      <th>director_fees</th>\n",
       "    </tr>\n",
       "  </thead>\n",
       "  <tbody>\n",
       "    <tr>\n",
       "      <th>METTS MARK</th>\n",
       "      <td>365788</td>\n",
       "      <td>807</td>\n",
       "      <td>NaN</td>\n",
       "      <td>1061827</td>\n",
       "      <td>NaN</td>\n",
       "      <td>600000</td>\n",
       "      <td>mark.metts@enron.com</td>\n",
       "      <td>NaN</td>\n",
       "      <td>NaN</td>\n",
       "      <td>585062</td>\n",
       "      <td>...</td>\n",
       "      <td>38</td>\n",
       "      <td>NaN</td>\n",
       "      <td>29</td>\n",
       "      <td>1740</td>\n",
       "      <td>1</td>\n",
       "      <td>False</td>\n",
       "      <td>NaN</td>\n",
       "      <td>702</td>\n",
       "      <td>585062</td>\n",
       "      <td>NaN</td>\n",
       "    </tr>\n",
       "    <tr>\n",
       "      <th>BAXTER JOHN C</th>\n",
       "      <td>267102</td>\n",
       "      <td>NaN</td>\n",
       "      <td>1295738</td>\n",
       "      <td>5634343</td>\n",
       "      <td>NaN</td>\n",
       "      <td>1200000</td>\n",
       "      <td>NaN</td>\n",
       "      <td>NaN</td>\n",
       "      <td>-1386055</td>\n",
       "      <td>10623258</td>\n",
       "      <td>...</td>\n",
       "      <td>NaN</td>\n",
       "      <td>6680544</td>\n",
       "      <td>NaN</td>\n",
       "      <td>2660303</td>\n",
       "      <td>NaN</td>\n",
       "      <td>False</td>\n",
       "      <td>1586055</td>\n",
       "      <td>NaN</td>\n",
       "      <td>3942714</td>\n",
       "      <td>NaN</td>\n",
       "    </tr>\n",
       "    <tr>\n",
       "      <th>ELLIOTT STEVEN</th>\n",
       "      <td>170941</td>\n",
       "      <td>NaN</td>\n",
       "      <td>NaN</td>\n",
       "      <td>211725</td>\n",
       "      <td>NaN</td>\n",
       "      <td>350000</td>\n",
       "      <td>steven.elliott@enron.com</td>\n",
       "      <td>NaN</td>\n",
       "      <td>-400729</td>\n",
       "      <td>6678735</td>\n",
       "      <td>...</td>\n",
       "      <td>NaN</td>\n",
       "      <td>4890344</td>\n",
       "      <td>NaN</td>\n",
       "      <td>12961</td>\n",
       "      <td>NaN</td>\n",
       "      <td>False</td>\n",
       "      <td>NaN</td>\n",
       "      <td>NaN</td>\n",
       "      <td>1788391</td>\n",
       "      <td>NaN</td>\n",
       "    </tr>\n",
       "    <tr>\n",
       "      <th>CORDES WILLIAM R</th>\n",
       "      <td>NaN</td>\n",
       "      <td>764</td>\n",
       "      <td>NaN</td>\n",
       "      <td>NaN</td>\n",
       "      <td>NaN</td>\n",
       "      <td>NaN</td>\n",
       "      <td>bill.cordes@enron.com</td>\n",
       "      <td>NaN</td>\n",
       "      <td>NaN</td>\n",
       "      <td>1038185</td>\n",
       "      <td>...</td>\n",
       "      <td>10</td>\n",
       "      <td>651850</td>\n",
       "      <td>12</td>\n",
       "      <td>NaN</td>\n",
       "      <td>0</td>\n",
       "      <td>False</td>\n",
       "      <td>NaN</td>\n",
       "      <td>58</td>\n",
       "      <td>386335</td>\n",
       "      <td>NaN</td>\n",
       "    </tr>\n",
       "    <tr>\n",
       "      <th>HANNON KEVIN P</th>\n",
       "      <td>243293</td>\n",
       "      <td>1045</td>\n",
       "      <td>NaN</td>\n",
       "      <td>288682</td>\n",
       "      <td>NaN</td>\n",
       "      <td>1500000</td>\n",
       "      <td>kevin.hannon@enron.com</td>\n",
       "      <td>NaN</td>\n",
       "      <td>-3117011</td>\n",
       "      <td>6391065</td>\n",
       "      <td>...</td>\n",
       "      <td>32</td>\n",
       "      <td>5538001</td>\n",
       "      <td>32</td>\n",
       "      <td>11350</td>\n",
       "      <td>21</td>\n",
       "      <td>True</td>\n",
       "      <td>1617011</td>\n",
       "      <td>1035</td>\n",
       "      <td>853064</td>\n",
       "      <td>NaN</td>\n",
       "    </tr>\n",
       "    <tr>\n",
       "      <th>...</th>\n",
       "      <td>...</td>\n",
       "      <td>...</td>\n",
       "      <td>...</td>\n",
       "      <td>...</td>\n",
       "      <td>...</td>\n",
       "      <td>...</td>\n",
       "      <td>...</td>\n",
       "      <td>...</td>\n",
       "      <td>...</td>\n",
       "      <td>...</td>\n",
       "      <td>...</td>\n",
       "      <td>...</td>\n",
       "      <td>...</td>\n",
       "      <td>...</td>\n",
       "      <td>...</td>\n",
       "      <td>...</td>\n",
       "      <td>...</td>\n",
       "      <td>...</td>\n",
       "      <td>...</td>\n",
       "      <td>...</td>\n",
       "      <td>...</td>\n",
       "    </tr>\n",
       "    <tr>\n",
       "      <th>GRAMM WENDY L</th>\n",
       "      <td>NaN</td>\n",
       "      <td>NaN</td>\n",
       "      <td>NaN</td>\n",
       "      <td>119292</td>\n",
       "      <td>NaN</td>\n",
       "      <td>NaN</td>\n",
       "      <td>NaN</td>\n",
       "      <td>NaN</td>\n",
       "      <td>NaN</td>\n",
       "      <td>NaN</td>\n",
       "      <td>...</td>\n",
       "      <td>NaN</td>\n",
       "      <td>NaN</td>\n",
       "      <td>NaN</td>\n",
       "      <td>NaN</td>\n",
       "      <td>NaN</td>\n",
       "      <td>False</td>\n",
       "      <td>NaN</td>\n",
       "      <td>NaN</td>\n",
       "      <td>NaN</td>\n",
       "      <td>119292</td>\n",
       "    </tr>\n",
       "    <tr>\n",
       "      <th>CAUSEY RICHARD A</th>\n",
       "      <td>415189</td>\n",
       "      <td>1892</td>\n",
       "      <td>NaN</td>\n",
       "      <td>1868758</td>\n",
       "      <td>NaN</td>\n",
       "      <td>1000000</td>\n",
       "      <td>richard.causey@enron.com</td>\n",
       "      <td>NaN</td>\n",
       "      <td>-235000</td>\n",
       "      <td>2502063</td>\n",
       "      <td>...</td>\n",
       "      <td>58</td>\n",
       "      <td>NaN</td>\n",
       "      <td>49</td>\n",
       "      <td>307895</td>\n",
       "      <td>12</td>\n",
       "      <td>True</td>\n",
       "      <td>350000</td>\n",
       "      <td>1585</td>\n",
       "      <td>2502063</td>\n",
       "      <td>NaN</td>\n",
       "    </tr>\n",
       "    <tr>\n",
       "      <th>TAYLOR MITCHELL S</th>\n",
       "      <td>265214</td>\n",
       "      <td>533</td>\n",
       "      <td>227449</td>\n",
       "      <td>1092663</td>\n",
       "      <td>NaN</td>\n",
       "      <td>600000</td>\n",
       "      <td>mitchell.taylor@enron.com</td>\n",
       "      <td>NaN</td>\n",
       "      <td>NaN</td>\n",
       "      <td>3745048</td>\n",
       "      <td>...</td>\n",
       "      <td>0</td>\n",
       "      <td>3181250</td>\n",
       "      <td>29</td>\n",
       "      <td>NaN</td>\n",
       "      <td>0</td>\n",
       "      <td>False</td>\n",
       "      <td>NaN</td>\n",
       "      <td>300</td>\n",
       "      <td>563798</td>\n",
       "      <td>NaN</td>\n",
       "    </tr>\n",
       "    <tr>\n",
       "      <th>DONAHUE JR JEFFREY M</th>\n",
       "      <td>278601</td>\n",
       "      <td>865</td>\n",
       "      <td>NaN</td>\n",
       "      <td>875760</td>\n",
       "      <td>NaN</td>\n",
       "      <td>800000</td>\n",
       "      <td>jeff.donahue@enron.com</td>\n",
       "      <td>NaN</td>\n",
       "      <td>-300000</td>\n",
       "      <td>1080988</td>\n",
       "      <td>...</td>\n",
       "      <td>188</td>\n",
       "      <td>765920</td>\n",
       "      <td>22</td>\n",
       "      <td>891</td>\n",
       "      <td>11</td>\n",
       "      <td>False</td>\n",
       "      <td>NaN</td>\n",
       "      <td>772</td>\n",
       "      <td>315068</td>\n",
       "      <td>NaN</td>\n",
       "    </tr>\n",
       "    <tr>\n",
       "      <th>GLISAN JR BEN F</th>\n",
       "      <td>274975</td>\n",
       "      <td>873</td>\n",
       "      <td>NaN</td>\n",
       "      <td>1272284</td>\n",
       "      <td>NaN</td>\n",
       "      <td>600000</td>\n",
       "      <td>ben.glisan@enron.com</td>\n",
       "      <td>NaN</td>\n",
       "      <td>NaN</td>\n",
       "      <td>778546</td>\n",
       "      <td>...</td>\n",
       "      <td>52</td>\n",
       "      <td>384728</td>\n",
       "      <td>16</td>\n",
       "      <td>200308</td>\n",
       "      <td>6</td>\n",
       "      <td>True</td>\n",
       "      <td>71023</td>\n",
       "      <td>874</td>\n",
       "      <td>393818</td>\n",
       "      <td>NaN</td>\n",
       "    </tr>\n",
       "  </tbody>\n",
       "</table>\n",
       "<p>146 rows × 21 columns</p>\n",
       "</div>"
      ],
      "text/plain": [
       "                      salary to_messages deferral_payments total_payments  \\\n",
       "METTS MARK            365788         807               NaN        1061827   \n",
       "BAXTER JOHN C         267102         NaN           1295738        5634343   \n",
       "ELLIOTT STEVEN        170941         NaN               NaN         211725   \n",
       "CORDES WILLIAM R         NaN         764               NaN            NaN   \n",
       "HANNON KEVIN P        243293        1045               NaN         288682   \n",
       "...                      ...         ...               ...            ...   \n",
       "GRAMM WENDY L            NaN         NaN               NaN         119292   \n",
       "CAUSEY RICHARD A      415189        1892               NaN        1868758   \n",
       "TAYLOR MITCHELL S     265214         533            227449        1092663   \n",
       "DONAHUE JR JEFFREY M  278601         865               NaN         875760   \n",
       "GLISAN JR BEN F       274975         873               NaN        1272284   \n",
       "\n",
       "                     loan_advances    bonus              email_address  \\\n",
       "METTS MARK                     NaN   600000       mark.metts@enron.com   \n",
       "BAXTER JOHN C                  NaN  1200000                        NaN   \n",
       "ELLIOTT STEVEN                 NaN   350000   steven.elliott@enron.com   \n",
       "CORDES WILLIAM R               NaN      NaN      bill.cordes@enron.com   \n",
       "HANNON KEVIN P                 NaN  1500000     kevin.hannon@enron.com   \n",
       "...                            ...      ...                        ...   \n",
       "GRAMM WENDY L                  NaN      NaN                        NaN   \n",
       "CAUSEY RICHARD A               NaN  1000000   richard.causey@enron.com   \n",
       "TAYLOR MITCHELL S              NaN   600000  mitchell.taylor@enron.com   \n",
       "DONAHUE JR JEFFREY M           NaN   800000     jeff.donahue@enron.com   \n",
       "GLISAN JR BEN F                NaN   600000       ben.glisan@enron.com   \n",
       "\n",
       "                     restricted_stock_deferred deferred_income  \\\n",
       "METTS MARK                                 NaN             NaN   \n",
       "BAXTER JOHN C                              NaN        -1386055   \n",
       "ELLIOTT STEVEN                             NaN         -400729   \n",
       "CORDES WILLIAM R                           NaN             NaN   \n",
       "HANNON KEVIN P                             NaN        -3117011   \n",
       "...                                        ...             ...   \n",
       "GRAMM WENDY L                              NaN             NaN   \n",
       "CAUSEY RICHARD A                           NaN         -235000   \n",
       "TAYLOR MITCHELL S                          NaN             NaN   \n",
       "DONAHUE JR JEFFREY M                       NaN         -300000   \n",
       "GLISAN JR BEN F                            NaN             NaN   \n",
       "\n",
       "                     total_stock_value  ... from_poi_to_this_person  \\\n",
       "METTS MARK                      585062  ...                      38   \n",
       "BAXTER JOHN C                 10623258  ...                     NaN   \n",
       "ELLIOTT STEVEN                 6678735  ...                     NaN   \n",
       "CORDES WILLIAM R               1038185  ...                      10   \n",
       "HANNON KEVIN P                 6391065  ...                      32   \n",
       "...                                ...  ...                     ...   \n",
       "GRAMM WENDY L                      NaN  ...                     NaN   \n",
       "CAUSEY RICHARD A               2502063  ...                      58   \n",
       "TAYLOR MITCHELL S              3745048  ...                       0   \n",
       "DONAHUE JR JEFFREY M           1080988  ...                     188   \n",
       "GLISAN JR BEN F                 778546  ...                      52   \n",
       "\n",
       "                     exercised_stock_options from_messages    other  \\\n",
       "METTS MARK                               NaN            29     1740   \n",
       "BAXTER JOHN C                        6680544           NaN  2660303   \n",
       "ELLIOTT STEVEN                       4890344           NaN    12961   \n",
       "CORDES WILLIAM R                      651850            12      NaN   \n",
       "HANNON KEVIN P                       5538001            32    11350   \n",
       "...                                      ...           ...      ...   \n",
       "GRAMM WENDY L                            NaN           NaN      NaN   \n",
       "CAUSEY RICHARD A                         NaN            49   307895   \n",
       "TAYLOR MITCHELL S                    3181250            29      NaN   \n",
       "DONAHUE JR JEFFREY M                  765920            22      891   \n",
       "GLISAN JR BEN F                       384728            16   200308   \n",
       "\n",
       "                     from_this_person_to_poi    poi long_term_incentive  \\\n",
       "METTS MARK                                 1  False                 NaN   \n",
       "BAXTER JOHN C                            NaN  False             1586055   \n",
       "ELLIOTT STEVEN                           NaN  False                 NaN   \n",
       "CORDES WILLIAM R                           0  False                 NaN   \n",
       "HANNON KEVIN P                            21   True             1617011   \n",
       "...                                      ...    ...                 ...   \n",
       "GRAMM WENDY L                            NaN  False                 NaN   \n",
       "CAUSEY RICHARD A                          12   True              350000   \n",
       "TAYLOR MITCHELL S                          0  False                 NaN   \n",
       "DONAHUE JR JEFFREY M                      11  False                 NaN   \n",
       "GLISAN JR BEN F                            6   True               71023   \n",
       "\n",
       "                     shared_receipt_with_poi restricted_stock director_fees  \n",
       "METTS MARK                               702           585062           NaN  \n",
       "BAXTER JOHN C                            NaN          3942714           NaN  \n",
       "ELLIOTT STEVEN                           NaN          1788391           NaN  \n",
       "CORDES WILLIAM R                          58           386335           NaN  \n",
       "HANNON KEVIN P                          1035           853064           NaN  \n",
       "...                                      ...              ...           ...  \n",
       "GRAMM WENDY L                            NaN              NaN        119292  \n",
       "CAUSEY RICHARD A                        1585          2502063           NaN  \n",
       "TAYLOR MITCHELL S                        300           563798           NaN  \n",
       "DONAHUE JR JEFFREY M                     772           315068           NaN  \n",
       "GLISAN JR BEN F                          874           393818           NaN  \n",
       "\n",
       "[146 rows x 21 columns]"
      ]
     },
     "execution_count": 4,
     "metadata": {},
     "output_type": "execute_result"
    }
   ],
   "source": [
    "df = pd.DataFrame(data_dict)\n",
    "#df['LOCKHART EUGENE E']\n",
    "df.T"
   ]
  },
  {
   "cell_type": "code",
   "execution_count": 5,
   "metadata": {},
   "outputs": [
    {
     "data": {
      "text/html": [
       "<div>\n",
       "<style scoped>\n",
       "    .dataframe tbody tr th:only-of-type {\n",
       "        vertical-align: middle;\n",
       "    }\n",
       "\n",
       "    .dataframe tbody tr th {\n",
       "        vertical-align: top;\n",
       "    }\n",
       "\n",
       "    .dataframe thead th {\n",
       "        text-align: right;\n",
       "    }\n",
       "</style>\n",
       "<table border=\"1\" class=\"dataframe\">\n",
       "  <thead>\n",
       "    <tr style=\"text-align: right;\">\n",
       "      <th></th>\n",
       "      <th>salary</th>\n",
       "      <th>to_messages</th>\n",
       "      <th>deferral_payments</th>\n",
       "      <th>total_payments</th>\n",
       "      <th>loan_advances</th>\n",
       "      <th>bonus</th>\n",
       "      <th>email_address</th>\n",
       "      <th>restricted_stock_deferred</th>\n",
       "      <th>deferred_income</th>\n",
       "      <th>total_stock_value</th>\n",
       "      <th>...</th>\n",
       "      <th>from_poi_to_this_person</th>\n",
       "      <th>exercised_stock_options</th>\n",
       "      <th>from_messages</th>\n",
       "      <th>other</th>\n",
       "      <th>from_this_person_to_poi</th>\n",
       "      <th>poi</th>\n",
       "      <th>long_term_incentive</th>\n",
       "      <th>shared_receipt_with_poi</th>\n",
       "      <th>restricted_stock</th>\n",
       "      <th>director_fees</th>\n",
       "    </tr>\n",
       "  </thead>\n",
       "  <tbody>\n",
       "    <tr>\n",
       "      <th>count</th>\n",
       "      <td>146</td>\n",
       "      <td>146</td>\n",
       "      <td>146</td>\n",
       "      <td>146</td>\n",
       "      <td>146</td>\n",
       "      <td>146</td>\n",
       "      <td>146</td>\n",
       "      <td>146</td>\n",
       "      <td>146</td>\n",
       "      <td>146</td>\n",
       "      <td>...</td>\n",
       "      <td>146</td>\n",
       "      <td>146</td>\n",
       "      <td>146</td>\n",
       "      <td>146</td>\n",
       "      <td>146</td>\n",
       "      <td>146</td>\n",
       "      <td>146</td>\n",
       "      <td>146</td>\n",
       "      <td>146</td>\n",
       "      <td>146</td>\n",
       "    </tr>\n",
       "    <tr>\n",
       "      <th>unique</th>\n",
       "      <td>95</td>\n",
       "      <td>87</td>\n",
       "      <td>40</td>\n",
       "      <td>126</td>\n",
       "      <td>5</td>\n",
       "      <td>42</td>\n",
       "      <td>112</td>\n",
       "      <td>19</td>\n",
       "      <td>45</td>\n",
       "      <td>125</td>\n",
       "      <td>...</td>\n",
       "      <td>58</td>\n",
       "      <td>102</td>\n",
       "      <td>65</td>\n",
       "      <td>93</td>\n",
       "      <td>42</td>\n",
       "      <td>2</td>\n",
       "      <td>53</td>\n",
       "      <td>84</td>\n",
       "      <td>98</td>\n",
       "      <td>18</td>\n",
       "    </tr>\n",
       "    <tr>\n",
       "      <th>top</th>\n",
       "      <td>NaN</td>\n",
       "      <td>NaN</td>\n",
       "      <td>NaN</td>\n",
       "      <td>NaN</td>\n",
       "      <td>NaN</td>\n",
       "      <td>NaN</td>\n",
       "      <td>NaN</td>\n",
       "      <td>NaN</td>\n",
       "      <td>NaN</td>\n",
       "      <td>NaN</td>\n",
       "      <td>...</td>\n",
       "      <td>NaN</td>\n",
       "      <td>NaN</td>\n",
       "      <td>NaN</td>\n",
       "      <td>NaN</td>\n",
       "      <td>NaN</td>\n",
       "      <td>False</td>\n",
       "      <td>NaN</td>\n",
       "      <td>NaN</td>\n",
       "      <td>NaN</td>\n",
       "      <td>NaN</td>\n",
       "    </tr>\n",
       "    <tr>\n",
       "      <th>freq</th>\n",
       "      <td>51</td>\n",
       "      <td>60</td>\n",
       "      <td>107</td>\n",
       "      <td>21</td>\n",
       "      <td>142</td>\n",
       "      <td>64</td>\n",
       "      <td>35</td>\n",
       "      <td>128</td>\n",
       "      <td>97</td>\n",
       "      <td>20</td>\n",
       "      <td>...</td>\n",
       "      <td>60</td>\n",
       "      <td>44</td>\n",
       "      <td>60</td>\n",
       "      <td>53</td>\n",
       "      <td>60</td>\n",
       "      <td>128</td>\n",
       "      <td>80</td>\n",
       "      <td>60</td>\n",
       "      <td>36</td>\n",
       "      <td>129</td>\n",
       "    </tr>\n",
       "  </tbody>\n",
       "</table>\n",
       "<p>4 rows × 21 columns</p>\n",
       "</div>"
      ],
      "text/plain": [
       "       salary to_messages deferral_payments total_payments loan_advances  \\\n",
       "count     146         146               146            146           146   \n",
       "unique     95          87                40            126             5   \n",
       "top       NaN         NaN               NaN            NaN           NaN   \n",
       "freq       51          60               107             21           142   \n",
       "\n",
       "       bonus email_address restricted_stock_deferred deferred_income  \\\n",
       "count    146           146                       146             146   \n",
       "unique    42           112                        19              45   \n",
       "top      NaN           NaN                       NaN             NaN   \n",
       "freq      64            35                       128              97   \n",
       "\n",
       "       total_stock_value  ... from_poi_to_this_person exercised_stock_options  \\\n",
       "count                146  ...                     146                     146   \n",
       "unique               125  ...                      58                     102   \n",
       "top                  NaN  ...                     NaN                     NaN   \n",
       "freq                  20  ...                      60                      44   \n",
       "\n",
       "       from_messages other from_this_person_to_poi    poi long_term_incentive  \\\n",
       "count            146   146                     146    146                 146   \n",
       "unique            65    93                      42      2                  53   \n",
       "top              NaN   NaN                     NaN  False                 NaN   \n",
       "freq              60    53                      60    128                  80   \n",
       "\n",
       "       shared_receipt_with_poi restricted_stock director_fees  \n",
       "count                      146              146           146  \n",
       "unique                      84               98            18  \n",
       "top                        NaN              NaN           NaN  \n",
       "freq                        60               36           129  \n",
       "\n",
       "[4 rows x 21 columns]"
      ]
     },
     "execution_count": 5,
     "metadata": {},
     "output_type": "execute_result"
    }
   ],
   "source": [
    "df.T.describe()"
   ]
  },
  {
   "cell_type": "markdown",
   "metadata": {},
   "source": [
    "### 1.1.0 Explore csv file "
   ]
  },
  {
   "cell_type": "code",
   "execution_count": 6,
   "metadata": {},
   "outputs": [],
   "source": [
    "def make_csv(data_dict):\n",
    "    \"\"\" generates a csv file from a data set\"\"\"\n",
    "    fieldnames = ['name'] + data_dict.itervalues().next().keys()\n",
    "    with open('data.csv', 'w') as csvfile:\n",
    "        writer = csv.DictWriter(csvfile, fieldnames=fieldnames)\n",
    "        writer.writeheader()\n",
    "        for record in data_dict:\n",
    "            person = data_dict[record]\n",
    "            person['name'] = record\n",
    "            assert set(person.keys()) == set(fieldnames)\n",
    "            writer.writerow(person)"
   ]
  },
  {
   "cell_type": "markdown",
   "metadata": {},
   "source": [
    "### 1.1.1 Dataset Exploration"
   ]
  },
  {
   "cell_type": "code",
   "execution_count": 7,
   "metadata": {},
   "outputs": [
    {
     "name": "stdout",
     "output_type": "stream",
     "text": [
      "# Exploratory Data Analysis #\n",
      "Total number of data points: 146\n",
      "Number of Persons of Interest: 18\n",
      "Number of people without Person of Interest label: 128\n"
     ]
    }
   ],
   "source": [
    "print('# Exploratory Data Analysis #')\n",
    "data_dict.keys()\n",
    "print('Total number of data points: %d' % len(data_dict.keys()))\n",
    "num_poi = 0\n",
    "for name in data_dict.keys():\n",
    "    if data_dict[name]['poi'] == True:\n",
    "        num_poi += 1\n",
    "print('Number of Persons of Interest: %d' % num_poi)\n",
    "print('Number of people without Person of Interest label: %d' % (len(data_dict.keys()) - num_poi))"
   ]
  },
  {
   "cell_type": "markdown",
   "metadata": {},
   "source": [
    "### 1.1.2 Feature Exploration"
   ]
  },
  {
   "cell_type": "code",
   "execution_count": 8,
   "metadata": {},
   "outputs": [
    {
     "name": "stdout",
     "output_type": "stream",
     "text": [
      "Each person has 21 features available\n"
     ]
    }
   ],
   "source": [
    "all_features = data_dict['ALLEN PHILLIP K'].keys()\n",
    "print('Each person has %d features available' %  len(all_features))\n",
    "### Evaluate dataset for completeness\n",
    "missing_values = {}\n",
    "for feature in all_features:\n",
    "    missing_values[feature] = 0\n",
    "for person in data_dict.keys():\n",
    "    records = 0\n",
    "    for feature in all_features:\n",
    "        if data_dict[person][feature] == 'NaN':\n",
    "            missing_values[feature] += 1\n",
    "        else:\n",
    "            records += 1"
   ]
  },
  {
   "cell_type": "markdown",
   "metadata": {},
   "source": [
    "### Print results of completeness analysis"
   ]
  },
  {
   "cell_type": "code",
   "execution_count": 9,
   "metadata": {},
   "outputs": [
    {
     "name": "stdout",
     "output_type": "stream",
     "text": [
      "Number of Missing Values for Each Feature:\n",
      "loan_advances 142\n",
      "director_fees 129\n",
      "restricted_stock_deferred 128\n",
      "deferral_payments 107\n",
      "deferred_income 97\n",
      "long_term_incentive 80\n",
      "bonus 64\n",
      "to_messages 60\n",
      "from_poi_to_this_person 60\n",
      "from_messages 60\n",
      "from_this_person_to_poi 60\n",
      "shared_receipt_with_poi 60\n",
      "other 53\n",
      "salary 51\n",
      "expenses 51\n",
      "exercised_stock_options 44\n",
      "restricted_stock 36\n",
      "email_address 35\n",
      "total_payments 21\n",
      "total_stock_value 20\n",
      "poi 0\n"
     ]
    }
   ],
   "source": [
    "print('Number of Missing Values for Each Feature:')\n",
    "\n",
    "#sorted(missing_values.values())\n",
    "\n",
    "#for feature in all_features:\n",
    "   # print(\"%s: %d\" % (feature, sorted(missing_values.values())[feature])\n",
    "\n",
    "\n",
    "for id in sorted(missing_values, key = missing_values.get, reverse = True):\n",
    "          print(id, missing_values[id])\n"
   ]
  },
  {
   "cell_type": "markdown",
   "metadata": {},
   "source": [
    "### Impute NA"
   ]
  },
  {
   "cell_type": "code",
   "execution_count": 10,
   "metadata": {},
   "outputs": [],
   "source": [
    "from sklearn.impute import SimpleImputer"
   ]
  },
  {
   "cell_type": "code",
   "execution_count": 11,
   "metadata": {},
   "outputs": [],
   "source": [
    "from sklearn.model_selection import GridSearchCV, train_test_split"
   ]
  },
  {
   "cell_type": "code",
   "execution_count": 12,
   "metadata": {},
   "outputs": [],
   "source": [
    "from sklearn.pipeline import make_pipeline"
   ]
  },
  {
   "cell_type": "code",
   "execution_count": 13,
   "metadata": {},
   "outputs": [],
   "source": [
    "from sklearn.impute import KNNImputer"
   ]
  },
  {
   "cell_type": "code",
   "execution_count": 14,
   "metadata": {},
   "outputs": [],
   "source": [
    "from sklearn.ensemble import RandomForestClassifier\n"
   ]
  },
  {
   "cell_type": "code",
   "execution_count": 15,
   "metadata": {},
   "outputs": [],
   "source": [
    "x=df.T[['salary', 'to_messages', 'deferral_payments', 'total_payments', 'loan_advances', 'bonus', \n",
    "            'restricted_stock_deferred', 'deferred_income', 'total_stock_value', 'expenses', 'from_poi_to_this_person', \n",
    "           'exercised_stock_options', 'from_messages', 'other', 'from_this_person_to_poi', 'long_term_incentive', \n",
    "            'shared_receipt_with_poi', 'restricted_stock', 'director_fees']].to_numpy()"
   ]
  },
  {
   "cell_type": "code",
   "execution_count": 16,
   "metadata": {},
   "outputs": [],
   "source": [
    "y=df.T[[\"poi\"]]"
   ]
  },
  {
   "cell_type": "code",
   "execution_count": 17,
   "metadata": {},
   "outputs": [],
   "source": [
    "y=pd.get_dummies(y)"
   ]
  },
  {
   "cell_type": "code",
   "execution_count": 18,
   "metadata": {},
   "outputs": [
    {
     "data": {
      "text/plain": [
       "METTS MARK              0\n",
       "BAXTER JOHN C           0\n",
       "ELLIOTT STEVEN          0\n",
       "CORDES WILLIAM R        0\n",
       "HANNON KEVIN P          1\n",
       "                       ..\n",
       "GRAMM WENDY L           0\n",
       "CAUSEY RICHARD A        1\n",
       "TAYLOR MITCHELL S       0\n",
       "DONAHUE JR JEFFREY M    0\n",
       "GLISAN JR BEN F         1\n",
       "Name: poi_True, Length: 146, dtype: uint8"
      ]
     },
     "execution_count": 18,
     "metadata": {},
     "output_type": "execute_result"
    }
   ],
   "source": [
    "y['poi_True']"
   ]
  },
  {
   "cell_type": "code",
   "execution_count": 19,
   "metadata": {},
   "outputs": [],
   "source": [
    "y=y['poi_True'].to_numpy()"
   ]
  },
  {
   "cell_type": "code",
   "execution_count": 20,
   "metadata": {},
   "outputs": [],
   "source": [
    "X_train, X_test, y_train, y_test = train_test_split(x, y, random_state=0)"
   ]
  },
  {
   "cell_type": "markdown",
   "metadata": {},
   "source": [
    "#### Simple Imputer"
   ]
  },
  {
   "cell_type": "code",
   "execution_count": 21,
   "metadata": {},
   "outputs": [
    {
     "data": {
      "text/plain": [
       "0.3"
      ]
     },
     "execution_count": 21,
     "metadata": {},
     "output_type": "execute_result"
    }
   ],
   "source": [
    "model1=make_pipeline(SimpleImputer(),RandomForestClassifier())\n",
    "params1 = {'simpleimputer__strategy': [\"mean\",\"median\",\"constant\"]}\n",
    "grid = GridSearchCV(model1, param_grid=params1,cv=10, scoring=\"precision\")\n",
    "grid.fit(X_train, y_train)\n",
    "grid.best_score_"
   ]
  },
  {
   "cell_type": "code",
   "execution_count": 22,
   "metadata": {},
   "outputs": [
    {
     "data": {
      "text/plain": [
       "Pipeline(steps=[('simpleimputer', SimpleImputer()),\n",
       "                ('randomforestclassifier', RandomForestClassifier())])"
      ]
     },
     "execution_count": 22,
     "metadata": {},
     "output_type": "execute_result"
    }
   ],
   "source": [
    "grid.best_estimator_\n"
   ]
  },
  {
   "cell_type": "markdown",
   "metadata": {},
   "source": [
    "#### KNN Imputer"
   ]
  },
  {
   "cell_type": "code",
   "execution_count": 23,
   "metadata": {},
   "outputs": [
    {
     "data": {
      "text/plain": [
       "Pipeline(steps=[('simpleimputer', SimpleImputer()),\n",
       "                ('randomforestclassifier', RandomForestClassifier())])"
      ]
     },
     "execution_count": 23,
     "metadata": {},
     "output_type": "execute_result"
    }
   ],
   "source": [
    "grid.best_estimator_"
   ]
  },
  {
   "cell_type": "code",
   "execution_count": 24,
   "metadata": {},
   "outputs": [
    {
     "data": {
      "text/plain": [
       "0.25"
      ]
     },
     "execution_count": 24,
     "metadata": {},
     "output_type": "execute_result"
    }
   ],
   "source": [
    "model = make_pipeline(KNNImputer(),RandomForestClassifier())\n",
    "params = {'knnimputer__n_neighbors' : [1, 2, 3, 4, 5, 6, 7, 8, 9,10]}\n",
    "grid = GridSearchCV(model, param_grid=params,cv=10, scoring=\"precision\")\n",
    "\n",
    "grid.fit(X_train, y_train)\n",
    "grid.best_score_"
   ]
  },
  {
   "cell_type": "code",
   "execution_count": 25,
   "metadata": {},
   "outputs": [
    {
     "data": {
      "text/plain": [
       "{'mean_fit_time': array([0.14400373, 0.12676537, 0.15305376, 0.14256613, 0.12390769,\n",
       "        0.13118653, 0.14202447, 0.14530692, 0.12879121, 0.13675358]),\n",
       " 'std_fit_time': array([0.01587662, 0.00584866, 0.01325063, 0.01459549, 0.00468568,\n",
       "        0.00527295, 0.01243206, 0.01711557, 0.01195805, 0.0098808 ]),\n",
       " 'mean_score_time': array([0.01632242, 0.01423321, 0.01686535, 0.01622648, 0.01467221,\n",
       "        0.01438899, 0.01585834, 0.01574512, 0.01389172, 0.01575861]),\n",
       " 'std_score_time': array([0.00155762, 0.00147676, 0.00178224, 0.00219775, 0.00132362,\n",
       "        0.00110601, 0.00275838, 0.00180531, 0.00084072, 0.00215367]),\n",
       " 'param_knnimputer__n_neighbors': masked_array(data=[1, 2, 3, 4, 5, 6, 7, 8, 9, 10],\n",
       "              mask=[False, False, False, False, False, False, False, False,\n",
       "                    False, False],\n",
       "        fill_value='?',\n",
       "             dtype=object),\n",
       " 'params': [{'knnimputer__n_neighbors': 1},\n",
       "  {'knnimputer__n_neighbors': 2},\n",
       "  {'knnimputer__n_neighbors': 3},\n",
       "  {'knnimputer__n_neighbors': 4},\n",
       "  {'knnimputer__n_neighbors': 5},\n",
       "  {'knnimputer__n_neighbors': 6},\n",
       "  {'knnimputer__n_neighbors': 7},\n",
       "  {'knnimputer__n_neighbors': 8},\n",
       "  {'knnimputer__n_neighbors': 9},\n",
       "  {'knnimputer__n_neighbors': 10}],\n",
       " 'split0_test_score': array([0., 0., 0., 0., 0., 0., 0., 0., 0., 0.]),\n",
       " 'split1_test_score': array([0., 0., 0., 0., 0., 0., 0., 0., 0., 0.]),\n",
       " 'split2_test_score': array([0., 0., 0., 0., 0., 0., 0., 0., 0., 0.]),\n",
       " 'split3_test_score': array([0., 0., 0., 0., 0., 0., 0., 0., 0., 0.]),\n",
       " 'split4_test_score': array([0.5       , 1.        , 1.        , 0.5       , 1.        ,\n",
       "        0.5       , 0.33333333, 0.33333333, 0.5       , 0.33333333]),\n",
       " 'split5_test_score': array([0., 0., 0., 0., 0., 0., 0., 0., 0., 0.]),\n",
       " 'split6_test_score': array([1., 0., 0., 1., 0., 1., 0., 0., 0., 0.]),\n",
       " 'split7_test_score': array([0., 0., 0., 0., 0., 1., 1., 0., 0., 1.]),\n",
       " 'split8_test_score': array([0., 0., 0., 0., 0., 0., 0., 0., 0., 0.]),\n",
       " 'split9_test_score': array([0., 0., 0., 0., 0., 0., 0., 0., 0., 0.]),\n",
       " 'mean_test_score': array([0.15      , 0.1       , 0.1       , 0.15      , 0.1       ,\n",
       "        0.25      , 0.13333333, 0.03333333, 0.05      , 0.13333333]),\n",
       " 'std_test_score': array([0.32015621, 0.3       , 0.3       , 0.32015621, 0.3       ,\n",
       "        0.40311289, 0.30550505, 0.1       , 0.15      , 0.30550505]),\n",
       " 'rank_test_score': array([ 2,  6,  6,  2,  6,  1,  4, 10,  9,  4], dtype=int32)}"
      ]
     },
     "execution_count": 25,
     "metadata": {},
     "output_type": "execute_result"
    }
   ],
   "source": [
    "grid.cv_results_"
   ]
  },
  {
   "cell_type": "markdown",
   "metadata": {},
   "source": [
    "Best imputer : Knn. Let's apply fit tranform and see change "
   ]
  },
  {
   "cell_type": "code",
   "execution_count": 26,
   "metadata": {},
   "outputs": [],
   "source": [
    "imputer = KNNImputer(n_neighbors=4)"
   ]
  },
  {
   "cell_type": "code",
   "execution_count": 27,
   "metadata": {},
   "outputs": [],
   "source": [
    "df_T = df.T[['salary', 'to_messages', 'deferral_payments', 'total_payments', 'loan_advances', 'bonus', \n",
    "            'restricted_stock_deferred', 'deferred_income', 'total_stock_value', 'expenses', 'from_poi_to_this_person', \n",
    "           'exercised_stock_options', 'from_messages', 'other', 'from_this_person_to_poi', 'long_term_incentive', \n",
    "            'shared_receipt_with_poi', 'restricted_stock', 'director_fees']]\n",
    "\n",
    "imputer = KNNImputer(n_neighbors=4)\n",
    "\n",
    "df_T_n=imputer.fit_transform(df_T.to_numpy())"
   ]
  },
  {
   "cell_type": "code",
   "execution_count": 28,
   "metadata": {},
   "outputs": [],
   "source": [
    "new_dataset=pd.DataFrame(data=df_T_n, index=data_dict.keys(),columns=['salary', 'to_messages', 'deferral_payments', 'total_payments', 'loan_advances', 'bonus', \n",
    "            'restricted_stock_deferred', 'deferred_income', 'total_stock_value', 'expenses', 'from_poi_to_this_person', \n",
    "           'exercised_stock_options', 'from_messages', 'other', 'from_this_person_to_poi', 'long_term_incentive', \n",
    "            'shared_receipt_with_poi', 'restricted_stock', 'director_fees'])"
   ]
  },
  {
   "cell_type": "code",
   "execution_count": 29,
   "metadata": {},
   "outputs": [
    {
     "data": {
      "text/html": [
       "<div>\n",
       "<style scoped>\n",
       "    .dataframe tbody tr th:only-of-type {\n",
       "        vertical-align: middle;\n",
       "    }\n",
       "\n",
       "    .dataframe tbody tr th {\n",
       "        vertical-align: top;\n",
       "    }\n",
       "\n",
       "    .dataframe thead th {\n",
       "        text-align: right;\n",
       "    }\n",
       "</style>\n",
       "<table border=\"1\" class=\"dataframe\">\n",
       "  <thead>\n",
       "    <tr style=\"text-align: right;\">\n",
       "      <th></th>\n",
       "      <th>salary</th>\n",
       "      <th>to_messages</th>\n",
       "      <th>deferral_payments</th>\n",
       "      <th>total_payments</th>\n",
       "      <th>loan_advances</th>\n",
       "      <th>bonus</th>\n",
       "      <th>restricted_stock_deferred</th>\n",
       "      <th>deferred_income</th>\n",
       "      <th>total_stock_value</th>\n",
       "      <th>expenses</th>\n",
       "      <th>from_poi_to_this_person</th>\n",
       "      <th>exercised_stock_options</th>\n",
       "      <th>from_messages</th>\n",
       "      <th>other</th>\n",
       "      <th>from_this_person_to_poi</th>\n",
       "      <th>long_term_incentive</th>\n",
       "      <th>shared_receipt_with_poi</th>\n",
       "      <th>restricted_stock</th>\n",
       "      <th>director_fees</th>\n",
       "    </tr>\n",
       "  </thead>\n",
       "  <tbody>\n",
       "    <tr>\n",
       "      <th>METTS MARK</th>\n",
       "      <td>365788.00</td>\n",
       "      <td>807.00</td>\n",
       "      <td>265650.50</td>\n",
       "      <td>1061827.0</td>\n",
       "      <td>41962500.0</td>\n",
       "      <td>600000.0</td>\n",
       "      <td>-320994.75</td>\n",
       "      <td>-64687.5</td>\n",
       "      <td>585062.0</td>\n",
       "      <td>94299.00</td>\n",
       "      <td>38.00</td>\n",
       "      <td>490148.25</td>\n",
       "      <td>29.00</td>\n",
       "      <td>1740.00</td>\n",
       "      <td>1.0</td>\n",
       "      <td>211868.50</td>\n",
       "      <td>702.0</td>\n",
       "      <td>585062.00</td>\n",
       "      <td>65562.00</td>\n",
       "    </tr>\n",
       "    <tr>\n",
       "      <th>BAXTER JOHN C</th>\n",
       "      <td>267102.00</td>\n",
       "      <td>2241.00</td>\n",
       "      <td>1295738.00</td>\n",
       "      <td>5634343.0</td>\n",
       "      <td>41962500.0</td>\n",
       "      <td>1200000.0</td>\n",
       "      <td>-671840.75</td>\n",
       "      <td>-1386055.0</td>\n",
       "      <td>10623258.0</td>\n",
       "      <td>11200.00</td>\n",
       "      <td>65.50</td>\n",
       "      <td>6680544.00</td>\n",
       "      <td>377.25</td>\n",
       "      <td>2660303.00</td>\n",
       "      <td>11.0</td>\n",
       "      <td>1586055.00</td>\n",
       "      <td>1343.5</td>\n",
       "      <td>3942714.00</td>\n",
       "      <td>65382.25</td>\n",
       "    </tr>\n",
       "    <tr>\n",
       "      <th>ELLIOTT STEVEN</th>\n",
       "      <td>170941.00</td>\n",
       "      <td>606.50</td>\n",
       "      <td>823349.00</td>\n",
       "      <td>211725.0</td>\n",
       "      <td>41962500.0</td>\n",
       "      <td>350000.0</td>\n",
       "      <td>-260061.75</td>\n",
       "      <td>-400729.0</td>\n",
       "      <td>6678735.0</td>\n",
       "      <td>78552.00</td>\n",
       "      <td>8.75</td>\n",
       "      <td>4890344.00</td>\n",
       "      <td>24.75</td>\n",
       "      <td>12961.00</td>\n",
       "      <td>1.0</td>\n",
       "      <td>279303.00</td>\n",
       "      <td>232.0</td>\n",
       "      <td>1788391.00</td>\n",
       "      <td>110906.00</td>\n",
       "    </tr>\n",
       "    <tr>\n",
       "      <th>CORDES WILLIAM R</th>\n",
       "      <td>260119.25</td>\n",
       "      <td>764.00</td>\n",
       "      <td>1819950.75</td>\n",
       "      <td>639309.5</td>\n",
       "      <td>41962500.0</td>\n",
       "      <td>452187.5</td>\n",
       "      <td>-269785.00</td>\n",
       "      <td>-150573.0</td>\n",
       "      <td>1038185.0</td>\n",
       "      <td>67085.25</td>\n",
       "      <td>10.00</td>\n",
       "      <td>651850.00</td>\n",
       "      <td>12.00</td>\n",
       "      <td>13948.50</td>\n",
       "      <td>0.0</td>\n",
       "      <td>740019.50</td>\n",
       "      <td>58.0</td>\n",
       "      <td>386335.00</td>\n",
       "      <td>84381.50</td>\n",
       "    </tr>\n",
       "    <tr>\n",
       "      <th>HANNON KEVIN P</th>\n",
       "      <td>243293.00</td>\n",
       "      <td>1045.00</td>\n",
       "      <td>867370.00</td>\n",
       "      <td>288682.0</td>\n",
       "      <td>41962500.0</td>\n",
       "      <td>1500000.0</td>\n",
       "      <td>-698791.75</td>\n",
       "      <td>-3117011.0</td>\n",
       "      <td>6391065.0</td>\n",
       "      <td>34039.00</td>\n",
       "      <td>32.00</td>\n",
       "      <td>5538001.00</td>\n",
       "      <td>32.00</td>\n",
       "      <td>11350.00</td>\n",
       "      <td>21.0</td>\n",
       "      <td>1617011.00</td>\n",
       "      <td>1035.0</td>\n",
       "      <td>853064.00</td>\n",
       "      <td>89968.50</td>\n",
       "    </tr>\n",
       "    <tr>\n",
       "      <th>...</th>\n",
       "      <td>...</td>\n",
       "      <td>...</td>\n",
       "      <td>...</td>\n",
       "      <td>...</td>\n",
       "      <td>...</td>\n",
       "      <td>...</td>\n",
       "      <td>...</td>\n",
       "      <td>...</td>\n",
       "      <td>...</td>\n",
       "      <td>...</td>\n",
       "      <td>...</td>\n",
       "      <td>...</td>\n",
       "      <td>...</td>\n",
       "      <td>...</td>\n",
       "      <td>...</td>\n",
       "      <td>...</td>\n",
       "      <td>...</td>\n",
       "      <td>...</td>\n",
       "      <td>...</td>\n",
       "    </tr>\n",
       "    <tr>\n",
       "      <th>GRAMM WENDY L</th>\n",
       "      <td>144826.00</td>\n",
       "      <td>966.75</td>\n",
       "      <td>106154.75</td>\n",
       "      <td>119292.0</td>\n",
       "      <td>41962500.0</td>\n",
       "      <td>505000.0</td>\n",
       "      <td>-43181.00</td>\n",
       "      <td>-43446.0</td>\n",
       "      <td>9875254.0</td>\n",
       "      <td>31966.25</td>\n",
       "      <td>54.25</td>\n",
       "      <td>9779932.75</td>\n",
       "      <td>75.25</td>\n",
       "      <td>51394.00</td>\n",
       "      <td>12.5</td>\n",
       "      <td>546024.25</td>\n",
       "      <td>459.5</td>\n",
       "      <td>561557.25</td>\n",
       "      <td>119292.00</td>\n",
       "    </tr>\n",
       "    <tr>\n",
       "      <th>CAUSEY RICHARD A</th>\n",
       "      <td>415189.00</td>\n",
       "      <td>1892.00</td>\n",
       "      <td>910104.25</td>\n",
       "      <td>1868758.0</td>\n",
       "      <td>41962500.0</td>\n",
       "      <td>1000000.0</td>\n",
       "      <td>-398036.25</td>\n",
       "      <td>-235000.0</td>\n",
       "      <td>2502063.0</td>\n",
       "      <td>30674.00</td>\n",
       "      <td>58.00</td>\n",
       "      <td>1698947.50</td>\n",
       "      <td>49.00</td>\n",
       "      <td>307895.00</td>\n",
       "      <td>12.0</td>\n",
       "      <td>350000.00</td>\n",
       "      <td>1585.0</td>\n",
       "      <td>2502063.00</td>\n",
       "      <td>65998.75</td>\n",
       "    </tr>\n",
       "    <tr>\n",
       "      <th>TAYLOR MITCHELL S</th>\n",
       "      <td>265214.00</td>\n",
       "      <td>533.00</td>\n",
       "      <td>227449.00</td>\n",
       "      <td>1092663.0</td>\n",
       "      <td>41962500.0</td>\n",
       "      <td>600000.0</td>\n",
       "      <td>-260061.75</td>\n",
       "      <td>-242734.5</td>\n",
       "      <td>3745048.0</td>\n",
       "      <td>47075.25</td>\n",
       "      <td>0.00</td>\n",
       "      <td>3181250.00</td>\n",
       "      <td>29.00</td>\n",
       "      <td>171194.25</td>\n",
       "      <td>0.0</td>\n",
       "      <td>346371.75</td>\n",
       "      <td>300.0</td>\n",
       "      <td>563798.00</td>\n",
       "      <td>65562.00</td>\n",
       "    </tr>\n",
       "    <tr>\n",
       "      <th>DONAHUE JR JEFFREY M</th>\n",
       "      <td>278601.00</td>\n",
       "      <td>865.00</td>\n",
       "      <td>477365.75</td>\n",
       "      <td>875760.0</td>\n",
       "      <td>41962500.0</td>\n",
       "      <td>800000.0</td>\n",
       "      <td>-208024.25</td>\n",
       "      <td>-300000.0</td>\n",
       "      <td>1080988.0</td>\n",
       "      <td>96268.00</td>\n",
       "      <td>188.00</td>\n",
       "      <td>765920.00</td>\n",
       "      <td>22.00</td>\n",
       "      <td>891.00</td>\n",
       "      <td>11.0</td>\n",
       "      <td>193573.50</td>\n",
       "      <td>772.0</td>\n",
       "      <td>315068.00</td>\n",
       "      <td>65562.00</td>\n",
       "    </tr>\n",
       "    <tr>\n",
       "      <th>GLISAN JR BEN F</th>\n",
       "      <td>274975.00</td>\n",
       "      <td>873.00</td>\n",
       "      <td>798335.50</td>\n",
       "      <td>1272284.0</td>\n",
       "      <td>41962500.0</td>\n",
       "      <td>600000.0</td>\n",
       "      <td>-238330.75</td>\n",
       "      <td>-115937.5</td>\n",
       "      <td>778546.0</td>\n",
       "      <td>125978.00</td>\n",
       "      <td>52.00</td>\n",
       "      <td>384728.00</td>\n",
       "      <td>16.00</td>\n",
       "      <td>200308.00</td>\n",
       "      <td>6.0</td>\n",
       "      <td>71023.00</td>\n",
       "      <td>874.0</td>\n",
       "      <td>393818.00</td>\n",
       "      <td>84381.50</td>\n",
       "    </tr>\n",
       "  </tbody>\n",
       "</table>\n",
       "<p>146 rows × 19 columns</p>\n",
       "</div>"
      ],
      "text/plain": [
       "                         salary  to_messages  deferral_payments  \\\n",
       "METTS MARK            365788.00       807.00          265650.50   \n",
       "BAXTER JOHN C         267102.00      2241.00         1295738.00   \n",
       "ELLIOTT STEVEN        170941.00       606.50          823349.00   \n",
       "CORDES WILLIAM R      260119.25       764.00         1819950.75   \n",
       "HANNON KEVIN P        243293.00      1045.00          867370.00   \n",
       "...                         ...          ...                ...   \n",
       "GRAMM WENDY L         144826.00       966.75          106154.75   \n",
       "CAUSEY RICHARD A      415189.00      1892.00          910104.25   \n",
       "TAYLOR MITCHELL S     265214.00       533.00          227449.00   \n",
       "DONAHUE JR JEFFREY M  278601.00       865.00          477365.75   \n",
       "GLISAN JR BEN F       274975.00       873.00          798335.50   \n",
       "\n",
       "                      total_payments  loan_advances      bonus  \\\n",
       "METTS MARK                 1061827.0     41962500.0   600000.0   \n",
       "BAXTER JOHN C              5634343.0     41962500.0  1200000.0   \n",
       "ELLIOTT STEVEN              211725.0     41962500.0   350000.0   \n",
       "CORDES WILLIAM R            639309.5     41962500.0   452187.5   \n",
       "HANNON KEVIN P              288682.0     41962500.0  1500000.0   \n",
       "...                              ...            ...        ...   \n",
       "GRAMM WENDY L               119292.0     41962500.0   505000.0   \n",
       "CAUSEY RICHARD A           1868758.0     41962500.0  1000000.0   \n",
       "TAYLOR MITCHELL S          1092663.0     41962500.0   600000.0   \n",
       "DONAHUE JR JEFFREY M        875760.0     41962500.0   800000.0   \n",
       "GLISAN JR BEN F            1272284.0     41962500.0   600000.0   \n",
       "\n",
       "                      restricted_stock_deferred  deferred_income  \\\n",
       "METTS MARK                           -320994.75         -64687.5   \n",
       "BAXTER JOHN C                        -671840.75       -1386055.0   \n",
       "ELLIOTT STEVEN                       -260061.75        -400729.0   \n",
       "CORDES WILLIAM R                     -269785.00        -150573.0   \n",
       "HANNON KEVIN P                       -698791.75       -3117011.0   \n",
       "...                                         ...              ...   \n",
       "GRAMM WENDY L                         -43181.00         -43446.0   \n",
       "CAUSEY RICHARD A                     -398036.25        -235000.0   \n",
       "TAYLOR MITCHELL S                    -260061.75        -242734.5   \n",
       "DONAHUE JR JEFFREY M                 -208024.25        -300000.0   \n",
       "GLISAN JR BEN F                      -238330.75        -115937.5   \n",
       "\n",
       "                      total_stock_value   expenses  from_poi_to_this_person  \\\n",
       "METTS MARK                     585062.0   94299.00                    38.00   \n",
       "BAXTER JOHN C                10623258.0   11200.00                    65.50   \n",
       "ELLIOTT STEVEN                6678735.0   78552.00                     8.75   \n",
       "CORDES WILLIAM R              1038185.0   67085.25                    10.00   \n",
       "HANNON KEVIN P                6391065.0   34039.00                    32.00   \n",
       "...                                 ...        ...                      ...   \n",
       "GRAMM WENDY L                 9875254.0   31966.25                    54.25   \n",
       "CAUSEY RICHARD A              2502063.0   30674.00                    58.00   \n",
       "TAYLOR MITCHELL S             3745048.0   47075.25                     0.00   \n",
       "DONAHUE JR JEFFREY M          1080988.0   96268.00                   188.00   \n",
       "GLISAN JR BEN F                778546.0  125978.00                    52.00   \n",
       "\n",
       "                      exercised_stock_options  from_messages       other  \\\n",
       "METTS MARK                          490148.25          29.00     1740.00   \n",
       "BAXTER JOHN C                      6680544.00         377.25  2660303.00   \n",
       "ELLIOTT STEVEN                     4890344.00          24.75    12961.00   \n",
       "CORDES WILLIAM R                    651850.00          12.00    13948.50   \n",
       "HANNON KEVIN P                     5538001.00          32.00    11350.00   \n",
       "...                                       ...            ...         ...   \n",
       "GRAMM WENDY L                      9779932.75          75.25    51394.00   \n",
       "CAUSEY RICHARD A                   1698947.50          49.00   307895.00   \n",
       "TAYLOR MITCHELL S                  3181250.00          29.00   171194.25   \n",
       "DONAHUE JR JEFFREY M                765920.00          22.00      891.00   \n",
       "GLISAN JR BEN F                     384728.00          16.00   200308.00   \n",
       "\n",
       "                      from_this_person_to_poi  long_term_incentive  \\\n",
       "METTS MARK                                1.0            211868.50   \n",
       "BAXTER JOHN C                            11.0           1586055.00   \n",
       "ELLIOTT STEVEN                            1.0            279303.00   \n",
       "CORDES WILLIAM R                          0.0            740019.50   \n",
       "HANNON KEVIN P                           21.0           1617011.00   \n",
       "...                                       ...                  ...   \n",
       "GRAMM WENDY L                            12.5            546024.25   \n",
       "CAUSEY RICHARD A                         12.0            350000.00   \n",
       "TAYLOR MITCHELL S                         0.0            346371.75   \n",
       "DONAHUE JR JEFFREY M                     11.0            193573.50   \n",
       "GLISAN JR BEN F                           6.0             71023.00   \n",
       "\n",
       "                      shared_receipt_with_poi  restricted_stock  director_fees  \n",
       "METTS MARK                              702.0         585062.00       65562.00  \n",
       "BAXTER JOHN C                          1343.5        3942714.00       65382.25  \n",
       "ELLIOTT STEVEN                          232.0        1788391.00      110906.00  \n",
       "CORDES WILLIAM R                         58.0         386335.00       84381.50  \n",
       "HANNON KEVIN P                         1035.0         853064.00       89968.50  \n",
       "...                                       ...               ...            ...  \n",
       "GRAMM WENDY L                           459.5         561557.25      119292.00  \n",
       "CAUSEY RICHARD A                       1585.0        2502063.00       65998.75  \n",
       "TAYLOR MITCHELL S                       300.0         563798.00       65562.00  \n",
       "DONAHUE JR JEFFREY M                    772.0         315068.00       65562.00  \n",
       "GLISAN JR BEN F                         874.0         393818.00       84381.50  \n",
       "\n",
       "[146 rows x 19 columns]"
      ]
     },
     "execution_count": 29,
     "metadata": {},
     "output_type": "execute_result"
    }
   ],
   "source": [
    "new_dataset"
   ]
  },
  {
   "cell_type": "code",
   "execution_count": 30,
   "metadata": {},
   "outputs": [
    {
     "data": {
      "text/plain": [
       "146"
      ]
     },
     "execution_count": 30,
     "metadata": {},
     "output_type": "execute_result"
    }
   ],
   "source": [
    "len(df.T[[\"poi\"]])"
   ]
  },
  {
   "cell_type": "code",
   "execution_count": 31,
   "metadata": {},
   "outputs": [],
   "source": [
    "new_dataset[\"poi\"]=df.T[[\"poi\"]]"
   ]
  },
  {
   "cell_type": "code",
   "execution_count": 32,
   "metadata": {},
   "outputs": [
    {
     "data": {
      "text/html": [
       "<div>\n",
       "<style scoped>\n",
       "    .dataframe tbody tr th:only-of-type {\n",
       "        vertical-align: middle;\n",
       "    }\n",
       "\n",
       "    .dataframe tbody tr th {\n",
       "        vertical-align: top;\n",
       "    }\n",
       "\n",
       "    .dataframe thead th {\n",
       "        text-align: right;\n",
       "    }\n",
       "</style>\n",
       "<table border=\"1\" class=\"dataframe\">\n",
       "  <thead>\n",
       "    <tr style=\"text-align: right;\">\n",
       "      <th></th>\n",
       "      <th>salary</th>\n",
       "      <th>to_messages</th>\n",
       "      <th>deferral_payments</th>\n",
       "      <th>total_payments</th>\n",
       "      <th>loan_advances</th>\n",
       "      <th>bonus</th>\n",
       "      <th>restricted_stock_deferred</th>\n",
       "      <th>deferred_income</th>\n",
       "      <th>total_stock_value</th>\n",
       "      <th>expenses</th>\n",
       "      <th>from_poi_to_this_person</th>\n",
       "      <th>exercised_stock_options</th>\n",
       "      <th>from_messages</th>\n",
       "      <th>other</th>\n",
       "      <th>from_this_person_to_poi</th>\n",
       "      <th>long_term_incentive</th>\n",
       "      <th>shared_receipt_with_poi</th>\n",
       "      <th>restricted_stock</th>\n",
       "      <th>director_fees</th>\n",
       "      <th>poi</th>\n",
       "    </tr>\n",
       "  </thead>\n",
       "  <tbody>\n",
       "    <tr>\n",
       "      <th>METTS MARK</th>\n",
       "      <td>365788.00</td>\n",
       "      <td>807.00</td>\n",
       "      <td>265650.50</td>\n",
       "      <td>1061827.0</td>\n",
       "      <td>41962500.0</td>\n",
       "      <td>600000.0</td>\n",
       "      <td>-320994.75</td>\n",
       "      <td>-64687.5</td>\n",
       "      <td>585062.0</td>\n",
       "      <td>94299.00</td>\n",
       "      <td>38.00</td>\n",
       "      <td>490148.25</td>\n",
       "      <td>29.00</td>\n",
       "      <td>1740.00</td>\n",
       "      <td>1.0</td>\n",
       "      <td>211868.50</td>\n",
       "      <td>702.0</td>\n",
       "      <td>585062.00</td>\n",
       "      <td>65562.00</td>\n",
       "      <td>False</td>\n",
       "    </tr>\n",
       "    <tr>\n",
       "      <th>BAXTER JOHN C</th>\n",
       "      <td>267102.00</td>\n",
       "      <td>2241.00</td>\n",
       "      <td>1295738.00</td>\n",
       "      <td>5634343.0</td>\n",
       "      <td>41962500.0</td>\n",
       "      <td>1200000.0</td>\n",
       "      <td>-671840.75</td>\n",
       "      <td>-1386055.0</td>\n",
       "      <td>10623258.0</td>\n",
       "      <td>11200.00</td>\n",
       "      <td>65.50</td>\n",
       "      <td>6680544.00</td>\n",
       "      <td>377.25</td>\n",
       "      <td>2660303.00</td>\n",
       "      <td>11.0</td>\n",
       "      <td>1586055.00</td>\n",
       "      <td>1343.5</td>\n",
       "      <td>3942714.00</td>\n",
       "      <td>65382.25</td>\n",
       "      <td>False</td>\n",
       "    </tr>\n",
       "    <tr>\n",
       "      <th>ELLIOTT STEVEN</th>\n",
       "      <td>170941.00</td>\n",
       "      <td>606.50</td>\n",
       "      <td>823349.00</td>\n",
       "      <td>211725.0</td>\n",
       "      <td>41962500.0</td>\n",
       "      <td>350000.0</td>\n",
       "      <td>-260061.75</td>\n",
       "      <td>-400729.0</td>\n",
       "      <td>6678735.0</td>\n",
       "      <td>78552.00</td>\n",
       "      <td>8.75</td>\n",
       "      <td>4890344.00</td>\n",
       "      <td>24.75</td>\n",
       "      <td>12961.00</td>\n",
       "      <td>1.0</td>\n",
       "      <td>279303.00</td>\n",
       "      <td>232.0</td>\n",
       "      <td>1788391.00</td>\n",
       "      <td>110906.00</td>\n",
       "      <td>False</td>\n",
       "    </tr>\n",
       "    <tr>\n",
       "      <th>CORDES WILLIAM R</th>\n",
       "      <td>260119.25</td>\n",
       "      <td>764.00</td>\n",
       "      <td>1819950.75</td>\n",
       "      <td>639309.5</td>\n",
       "      <td>41962500.0</td>\n",
       "      <td>452187.5</td>\n",
       "      <td>-269785.00</td>\n",
       "      <td>-150573.0</td>\n",
       "      <td>1038185.0</td>\n",
       "      <td>67085.25</td>\n",
       "      <td>10.00</td>\n",
       "      <td>651850.00</td>\n",
       "      <td>12.00</td>\n",
       "      <td>13948.50</td>\n",
       "      <td>0.0</td>\n",
       "      <td>740019.50</td>\n",
       "      <td>58.0</td>\n",
       "      <td>386335.00</td>\n",
       "      <td>84381.50</td>\n",
       "      <td>False</td>\n",
       "    </tr>\n",
       "    <tr>\n",
       "      <th>HANNON KEVIN P</th>\n",
       "      <td>243293.00</td>\n",
       "      <td>1045.00</td>\n",
       "      <td>867370.00</td>\n",
       "      <td>288682.0</td>\n",
       "      <td>41962500.0</td>\n",
       "      <td>1500000.0</td>\n",
       "      <td>-698791.75</td>\n",
       "      <td>-3117011.0</td>\n",
       "      <td>6391065.0</td>\n",
       "      <td>34039.00</td>\n",
       "      <td>32.00</td>\n",
       "      <td>5538001.00</td>\n",
       "      <td>32.00</td>\n",
       "      <td>11350.00</td>\n",
       "      <td>21.0</td>\n",
       "      <td>1617011.00</td>\n",
       "      <td>1035.0</td>\n",
       "      <td>853064.00</td>\n",
       "      <td>89968.50</td>\n",
       "      <td>True</td>\n",
       "    </tr>\n",
       "    <tr>\n",
       "      <th>...</th>\n",
       "      <td>...</td>\n",
       "      <td>...</td>\n",
       "      <td>...</td>\n",
       "      <td>...</td>\n",
       "      <td>...</td>\n",
       "      <td>...</td>\n",
       "      <td>...</td>\n",
       "      <td>...</td>\n",
       "      <td>...</td>\n",
       "      <td>...</td>\n",
       "      <td>...</td>\n",
       "      <td>...</td>\n",
       "      <td>...</td>\n",
       "      <td>...</td>\n",
       "      <td>...</td>\n",
       "      <td>...</td>\n",
       "      <td>...</td>\n",
       "      <td>...</td>\n",
       "      <td>...</td>\n",
       "      <td>...</td>\n",
       "    </tr>\n",
       "    <tr>\n",
       "      <th>GRAMM WENDY L</th>\n",
       "      <td>144826.00</td>\n",
       "      <td>966.75</td>\n",
       "      <td>106154.75</td>\n",
       "      <td>119292.0</td>\n",
       "      <td>41962500.0</td>\n",
       "      <td>505000.0</td>\n",
       "      <td>-43181.00</td>\n",
       "      <td>-43446.0</td>\n",
       "      <td>9875254.0</td>\n",
       "      <td>31966.25</td>\n",
       "      <td>54.25</td>\n",
       "      <td>9779932.75</td>\n",
       "      <td>75.25</td>\n",
       "      <td>51394.00</td>\n",
       "      <td>12.5</td>\n",
       "      <td>546024.25</td>\n",
       "      <td>459.5</td>\n",
       "      <td>561557.25</td>\n",
       "      <td>119292.00</td>\n",
       "      <td>False</td>\n",
       "    </tr>\n",
       "    <tr>\n",
       "      <th>CAUSEY RICHARD A</th>\n",
       "      <td>415189.00</td>\n",
       "      <td>1892.00</td>\n",
       "      <td>910104.25</td>\n",
       "      <td>1868758.0</td>\n",
       "      <td>41962500.0</td>\n",
       "      <td>1000000.0</td>\n",
       "      <td>-398036.25</td>\n",
       "      <td>-235000.0</td>\n",
       "      <td>2502063.0</td>\n",
       "      <td>30674.00</td>\n",
       "      <td>58.00</td>\n",
       "      <td>1698947.50</td>\n",
       "      <td>49.00</td>\n",
       "      <td>307895.00</td>\n",
       "      <td>12.0</td>\n",
       "      <td>350000.00</td>\n",
       "      <td>1585.0</td>\n",
       "      <td>2502063.00</td>\n",
       "      <td>65998.75</td>\n",
       "      <td>True</td>\n",
       "    </tr>\n",
       "    <tr>\n",
       "      <th>TAYLOR MITCHELL S</th>\n",
       "      <td>265214.00</td>\n",
       "      <td>533.00</td>\n",
       "      <td>227449.00</td>\n",
       "      <td>1092663.0</td>\n",
       "      <td>41962500.0</td>\n",
       "      <td>600000.0</td>\n",
       "      <td>-260061.75</td>\n",
       "      <td>-242734.5</td>\n",
       "      <td>3745048.0</td>\n",
       "      <td>47075.25</td>\n",
       "      <td>0.00</td>\n",
       "      <td>3181250.00</td>\n",
       "      <td>29.00</td>\n",
       "      <td>171194.25</td>\n",
       "      <td>0.0</td>\n",
       "      <td>346371.75</td>\n",
       "      <td>300.0</td>\n",
       "      <td>563798.00</td>\n",
       "      <td>65562.00</td>\n",
       "      <td>False</td>\n",
       "    </tr>\n",
       "    <tr>\n",
       "      <th>DONAHUE JR JEFFREY M</th>\n",
       "      <td>278601.00</td>\n",
       "      <td>865.00</td>\n",
       "      <td>477365.75</td>\n",
       "      <td>875760.0</td>\n",
       "      <td>41962500.0</td>\n",
       "      <td>800000.0</td>\n",
       "      <td>-208024.25</td>\n",
       "      <td>-300000.0</td>\n",
       "      <td>1080988.0</td>\n",
       "      <td>96268.00</td>\n",
       "      <td>188.00</td>\n",
       "      <td>765920.00</td>\n",
       "      <td>22.00</td>\n",
       "      <td>891.00</td>\n",
       "      <td>11.0</td>\n",
       "      <td>193573.50</td>\n",
       "      <td>772.0</td>\n",
       "      <td>315068.00</td>\n",
       "      <td>65562.00</td>\n",
       "      <td>False</td>\n",
       "    </tr>\n",
       "    <tr>\n",
       "      <th>GLISAN JR BEN F</th>\n",
       "      <td>274975.00</td>\n",
       "      <td>873.00</td>\n",
       "      <td>798335.50</td>\n",
       "      <td>1272284.0</td>\n",
       "      <td>41962500.0</td>\n",
       "      <td>600000.0</td>\n",
       "      <td>-238330.75</td>\n",
       "      <td>-115937.5</td>\n",
       "      <td>778546.0</td>\n",
       "      <td>125978.00</td>\n",
       "      <td>52.00</td>\n",
       "      <td>384728.00</td>\n",
       "      <td>16.00</td>\n",
       "      <td>200308.00</td>\n",
       "      <td>6.0</td>\n",
       "      <td>71023.00</td>\n",
       "      <td>874.0</td>\n",
       "      <td>393818.00</td>\n",
       "      <td>84381.50</td>\n",
       "      <td>True</td>\n",
       "    </tr>\n",
       "  </tbody>\n",
       "</table>\n",
       "<p>146 rows × 20 columns</p>\n",
       "</div>"
      ],
      "text/plain": [
       "                         salary  to_messages  deferral_payments  \\\n",
       "METTS MARK            365788.00       807.00          265650.50   \n",
       "BAXTER JOHN C         267102.00      2241.00         1295738.00   \n",
       "ELLIOTT STEVEN        170941.00       606.50          823349.00   \n",
       "CORDES WILLIAM R      260119.25       764.00         1819950.75   \n",
       "HANNON KEVIN P        243293.00      1045.00          867370.00   \n",
       "...                         ...          ...                ...   \n",
       "GRAMM WENDY L         144826.00       966.75          106154.75   \n",
       "CAUSEY RICHARD A      415189.00      1892.00          910104.25   \n",
       "TAYLOR MITCHELL S     265214.00       533.00          227449.00   \n",
       "DONAHUE JR JEFFREY M  278601.00       865.00          477365.75   \n",
       "GLISAN JR BEN F       274975.00       873.00          798335.50   \n",
       "\n",
       "                      total_payments  loan_advances      bonus  \\\n",
       "METTS MARK                 1061827.0     41962500.0   600000.0   \n",
       "BAXTER JOHN C              5634343.0     41962500.0  1200000.0   \n",
       "ELLIOTT STEVEN              211725.0     41962500.0   350000.0   \n",
       "CORDES WILLIAM R            639309.5     41962500.0   452187.5   \n",
       "HANNON KEVIN P              288682.0     41962500.0  1500000.0   \n",
       "...                              ...            ...        ...   \n",
       "GRAMM WENDY L               119292.0     41962500.0   505000.0   \n",
       "CAUSEY RICHARD A           1868758.0     41962500.0  1000000.0   \n",
       "TAYLOR MITCHELL S          1092663.0     41962500.0   600000.0   \n",
       "DONAHUE JR JEFFREY M        875760.0     41962500.0   800000.0   \n",
       "GLISAN JR BEN F            1272284.0     41962500.0   600000.0   \n",
       "\n",
       "                      restricted_stock_deferred  deferred_income  \\\n",
       "METTS MARK                           -320994.75         -64687.5   \n",
       "BAXTER JOHN C                        -671840.75       -1386055.0   \n",
       "ELLIOTT STEVEN                       -260061.75        -400729.0   \n",
       "CORDES WILLIAM R                     -269785.00        -150573.0   \n",
       "HANNON KEVIN P                       -698791.75       -3117011.0   \n",
       "...                                         ...              ...   \n",
       "GRAMM WENDY L                         -43181.00         -43446.0   \n",
       "CAUSEY RICHARD A                     -398036.25        -235000.0   \n",
       "TAYLOR MITCHELL S                    -260061.75        -242734.5   \n",
       "DONAHUE JR JEFFREY M                 -208024.25        -300000.0   \n",
       "GLISAN JR BEN F                      -238330.75        -115937.5   \n",
       "\n",
       "                      total_stock_value   expenses  from_poi_to_this_person  \\\n",
       "METTS MARK                     585062.0   94299.00                    38.00   \n",
       "BAXTER JOHN C                10623258.0   11200.00                    65.50   \n",
       "ELLIOTT STEVEN                6678735.0   78552.00                     8.75   \n",
       "CORDES WILLIAM R              1038185.0   67085.25                    10.00   \n",
       "HANNON KEVIN P                6391065.0   34039.00                    32.00   \n",
       "...                                 ...        ...                      ...   \n",
       "GRAMM WENDY L                 9875254.0   31966.25                    54.25   \n",
       "CAUSEY RICHARD A              2502063.0   30674.00                    58.00   \n",
       "TAYLOR MITCHELL S             3745048.0   47075.25                     0.00   \n",
       "DONAHUE JR JEFFREY M          1080988.0   96268.00                   188.00   \n",
       "GLISAN JR BEN F                778546.0  125978.00                    52.00   \n",
       "\n",
       "                      exercised_stock_options  from_messages       other  \\\n",
       "METTS MARK                          490148.25          29.00     1740.00   \n",
       "BAXTER JOHN C                      6680544.00         377.25  2660303.00   \n",
       "ELLIOTT STEVEN                     4890344.00          24.75    12961.00   \n",
       "CORDES WILLIAM R                    651850.00          12.00    13948.50   \n",
       "HANNON KEVIN P                     5538001.00          32.00    11350.00   \n",
       "...                                       ...            ...         ...   \n",
       "GRAMM WENDY L                      9779932.75          75.25    51394.00   \n",
       "CAUSEY RICHARD A                   1698947.50          49.00   307895.00   \n",
       "TAYLOR MITCHELL S                  3181250.00          29.00   171194.25   \n",
       "DONAHUE JR JEFFREY M                765920.00          22.00      891.00   \n",
       "GLISAN JR BEN F                     384728.00          16.00   200308.00   \n",
       "\n",
       "                      from_this_person_to_poi  long_term_incentive  \\\n",
       "METTS MARK                                1.0            211868.50   \n",
       "BAXTER JOHN C                            11.0           1586055.00   \n",
       "ELLIOTT STEVEN                            1.0            279303.00   \n",
       "CORDES WILLIAM R                          0.0            740019.50   \n",
       "HANNON KEVIN P                           21.0           1617011.00   \n",
       "...                                       ...                  ...   \n",
       "GRAMM WENDY L                            12.5            546024.25   \n",
       "CAUSEY RICHARD A                         12.0            350000.00   \n",
       "TAYLOR MITCHELL S                         0.0            346371.75   \n",
       "DONAHUE JR JEFFREY M                     11.0            193573.50   \n",
       "GLISAN JR BEN F                           6.0             71023.00   \n",
       "\n",
       "                      shared_receipt_with_poi  restricted_stock  \\\n",
       "METTS MARK                              702.0         585062.00   \n",
       "BAXTER JOHN C                          1343.5        3942714.00   \n",
       "ELLIOTT STEVEN                          232.0        1788391.00   \n",
       "CORDES WILLIAM R                         58.0         386335.00   \n",
       "HANNON KEVIN P                         1035.0         853064.00   \n",
       "...                                       ...               ...   \n",
       "GRAMM WENDY L                           459.5         561557.25   \n",
       "CAUSEY RICHARD A                       1585.0        2502063.00   \n",
       "TAYLOR MITCHELL S                       300.0         563798.00   \n",
       "DONAHUE JR JEFFREY M                    772.0         315068.00   \n",
       "GLISAN JR BEN F                         874.0         393818.00   \n",
       "\n",
       "                      director_fees    poi  \n",
       "METTS MARK                 65562.00  False  \n",
       "BAXTER JOHN C              65382.25  False  \n",
       "ELLIOTT STEVEN            110906.00  False  \n",
       "CORDES WILLIAM R           84381.50  False  \n",
       "HANNON KEVIN P             89968.50   True  \n",
       "...                             ...    ...  \n",
       "GRAMM WENDY L             119292.00  False  \n",
       "CAUSEY RICHARD A           65998.75   True  \n",
       "TAYLOR MITCHELL S          65562.00  False  \n",
       "DONAHUE JR JEFFREY M       65562.00  False  \n",
       "GLISAN JR BEN F            84381.50   True  \n",
       "\n",
       "[146 rows x 20 columns]"
      ]
     },
     "execution_count": 32,
     "metadata": {},
     "output_type": "execute_result"
    }
   ],
   "source": [
    "new_dataset"
   ]
  },
  {
   "cell_type": "code",
   "execution_count": 33,
   "metadata": {},
   "outputs": [],
   "source": [
    "data_dict=new_dataset.to_dict(orient='index')"
   ]
  },
  {
   "cell_type": "markdown",
   "metadata": {},
   "source": [
    "## Task 2: Remove outliers"
   ]
  },
  {
   "cell_type": "code",
   "execution_count": 34,
   "metadata": {},
   "outputs": [],
   "source": [
    "def PlotOutlier(data_dict, feature_x, feature_y):\n",
    "    \"\"\" Plot with flag = True in Red \"\"\"\n",
    "    data = featureFormat(data_dict, [feature_x, feature_y, 'poi'])\n",
    "    for point in data:\n",
    "        x = point[0]\n",
    "        y = point[1]\n",
    "        poi = point[2]\n",
    "        if poi:\n",
    "            color = 'red'\n",
    "        else:\n",
    "            color = 'blue'\n",
    "        plt.scatter(x, y, color=color)\n",
    "    plt.xlabel(feature_x)\n",
    "    plt.ylabel(feature_y)\n",
    "    plt.show()"
   ]
  },
  {
   "cell_type": "markdown",
   "metadata": {},
   "source": [
    "### 2.1 Visualise outliers"
   ]
  },
  {
   "cell_type": "code",
   "execution_count": 35,
   "metadata": {},
   "outputs": [
    {
     "data": {
      "image/png": "[encoded data removed]",
      "text/plain": [
       "<Figure size 432x288 with 1 Axes>"
      ]
     },
     "metadata": {
      "needs_background": "light"
     },
     "output_type": "display_data"
    },
    {
     "name": "stdout",
     "output_type": "stream",
     "text": [
      "None\n"
     ]
    },
    {
     "data": {
      "image/png": "[encoded data removed]",
      "text/plain": [
       "<Figure size 432x288 with 1 Axes>"
      ]
     },
     "metadata": {
      "needs_background": "light"
     },
     "output_type": "display_data"
    },
    {
     "name": "stdout",
     "output_type": "stream",
     "text": [
      "None\n"
     ]
    },
    {
     "data": {
      "image/png": "[encoded data removed]",
      "text/plain": [
       "<Figure size 432x288 with 1 Axes>"
      ]
     },
     "metadata": {
      "needs_background": "light"
     },
     "output_type": "display_data"
    },
    {
     "name": "stdout",
     "output_type": "stream",
     "text": [
      "None\n"
     ]
    },
    {
     "data": {
      "text/plain": [
       "{'salary': 26704229.0,\n",
       " 'to_messages': 1353.5,\n",
       " 'deferral_payments': 32083396.0,\n",
       " 'total_payments': 309886585.0,\n",
       " 'loan_advances': 83925000.0,\n",
       " 'bonus': 97343619.0,\n",
       " 'restricted_stock_deferred': -7576788.0,\n",
       " 'deferred_income': -27992891.0,\n",
       " 'total_stock_value': 434509511.0,\n",
       " 'expenses': 5235198.0,\n",
       " 'from_poi_to_this_person': 40.5,\n",
       " 'exercised_stock_options': 311764000.0,\n",
       " 'from_messages': 22.75,\n",
       " 'other': 42667589.0,\n",
       " 'from_this_person_to_poi': 6.5,\n",
       " 'long_term_incentive': 48521928.0,\n",
       " 'shared_receipt_with_poi': 683.25,\n",
       " 'restricted_stock': 130322299.0,\n",
       " 'director_fees': 1398517.0,\n",
       " 'poi': False}"
      ]
     },
     "execution_count": 35,
     "metadata": {},
     "output_type": "execute_result"
    }
   ],
   "source": [
    "print(PlotOutlier(data_dict, 'total_payments', 'total_stock_value'))\n",
    "print(PlotOutlier(data_dict, 'from_poi_to_this_person', 'from_this_person_to_poi'))\n",
    "print(PlotOutlier(data_dict, 'salary', 'bonus'))\n",
    "#Remove outlier TOTAL line in pickle file.\n",
    "data_dict.pop( 'TOTAL', 0 )"
   ]
  },
  {
   "cell_type": "markdown",
   "metadata": {},
   "source": [
    "### 2.2 Function to remove outliers"
   ]
  },
  {
   "cell_type": "code",
   "execution_count": 36,
   "metadata": {},
   "outputs": [],
   "source": [
    "def remove_outlier(dict_object, keys):\n",
    "    \"\"\" removes list of outliers keys from dict object \"\"\"\n",
    "    for key in keys:\n",
    "        dict_object.pop(key, 0)\n",
    "\n",
    "outliers = ['TOTAL', 'THE TRAVEL AGENCY IN THE PARK', 'LOCKHART EUGENE E']\n",
    "remove_outlier(data_dict, outliers)"
   ]
  },
  {
   "cell_type": "markdown",
   "metadata": {},
   "source": [
    "=>Remove columns   \n",
    "Maybe more outliers ? "
   ]
  },
  {
   "cell_type": "markdown",
   "metadata": {},
   "source": [
    "### Task 3: Create new feature(s)"
   ]
  },
  {
   "cell_type": "markdown",
   "metadata": {},
   "source": [
    "### 3.1 create new copies of dataset for grading"
   ]
  },
  {
   "cell_type": "code",
   "execution_count": 37,
   "metadata": {},
   "outputs": [],
   "source": [
    "my_dataset = data_dict"
   ]
  },
  {
   "cell_type": "markdown",
   "metadata": {},
   "source": [
    "### 3.2 add new features to dataset"
   ]
  },
  {
   "cell_type": "code",
   "execution_count": 38,
   "metadata": {},
   "outputs": [],
   "source": [
    "def compute_fraction(poi_messages, all_messages):\n",
    "    \"\"\" return fraction of messages from/to that person to/from POI\"\"\"    \n",
    "    if poi_messages == 'NaN' or all_messages == 'NaN':\n",
    "        return 0.\n",
    "    fraction = poi_messages / all_messages\n",
    "    return fraction"
   ]
  },
  {
   "cell_type": "code",
   "execution_count": 39,
   "metadata": {},
   "outputs": [],
   "source": [
    "for name in my_dataset:\n",
    "    data_point = my_dataset[name]\n",
    "    from_poi_to_this_person = data_point[\"from_poi_to_this_person\"]\n",
    "    to_messages = data_point[\"to_messages\"]\n",
    "    fraction_from_poi = compute_fraction(from_poi_to_this_person, to_messages)\n",
    "    data_point[\"fraction_from_poi\"] = fraction_from_poi\n",
    "    from_this_person_to_poi = data_point[\"from_this_person_to_poi\"]\n",
    "    from_messages = data_point[\"from_messages\"]\n",
    "    fraction_to_poi = compute_fraction(from_this_person_to_poi, from_messages)\n",
    "    data_point[\"fraction_to_poi\"] = fraction_to_poi"
   ]
  },
  {
   "cell_type": "markdown",
   "metadata": {},
   "source": [
    "=> Maybe new features ? "
   ]
  },
  {
   "cell_type": "markdown",
   "metadata": {},
   "source": [
    "### 3.3 create new copies of feature list for grading"
   ]
  },
  {
   "cell_type": "code",
   "execution_count": 40,
   "metadata": {},
   "outputs": [],
   "source": [
    "my_feature_list = features_list +['to_messages', 'from_poi_to_this_person', 'from_messages', 'from_this_person_to_poi','shared_receipt_with_poi', 'fraction_to_poi']"
   ]
  },
  {
   "cell_type": "code",
   "execution_count": null,
   "metadata": {},
   "outputs": [],
   "source": []
  },
  {
   "cell_type": "markdown",
   "metadata": {},
   "source": [
    "## Feature selection"
   ]
  },
  {
   "cell_type": "markdown",
   "metadata": {},
   "source": [
    "### 3.4 get K-best features"
   ]
  },
  {
   "cell_type": "code",
   "execution_count": 41,
   "metadata": {},
   "outputs": [],
   "source": [
    "num_features = 15"
   ]
  },
  {
   "cell_type": "markdown",
   "metadata": {},
   "source": [
    "### 3.5 function using SelectKBest"
   ]
  },
  {
   "cell_type": "code",
   "execution_count": 42,
   "metadata": {},
   "outputs": [],
   "source": [
    "def get_k_best(data_dict, features_list, k):\n",
    "    \"\"\" runs scikit-learn's SelectKBest feature selection\n",
    "        returns dict where keys=features, values=scores\n",
    "    \"\"\"\n",
    "    data = featureFormat(data_dict, features_list)\n",
    "    labels, features = targetFeatureSplit(data)\n",
    "\n",
    "    k_best = SelectKBest(k=k)\n",
    "    k_best.fit(features, labels)\n",
    "    scores = k_best.scores_\n",
    "    print(scores)\n",
    "    unsorted_pairs = zip(features_list[1:], scores)\n",
    "    sorted_pairs = list(reversed(sorted(unsorted_pairs, key=lambda x: x[1])))\n",
    "    k_best_features = dict(sorted_pairs[:k])\n",
    "    print (\"{0} best features: {1}\\n\".format(k, k_best_features.keys(), scores))\n",
    "    return k_best_features"
   ]
  },
  {
   "cell_type": "markdown",
   "metadata": {},
   "source": [
    "Recursive feature Elimination"
   ]
  },
  {
   "cell_type": "code",
   "execution_count": 43,
   "metadata": {},
   "outputs": [],
   "source": [
    "from sklearn.feature_selection import RFECV\n",
    "from sklearn.linear_model import LogisticRegression"
   ]
  },
  {
   "cell_type": "markdown",
   "metadata": {},
   "source": [
    "def get_recursive_best(data_dict, features_list, k):\n",
    "    \"\"\" runs scikit-learn's SelectKBest feature selection\n",
    "        returns dict where keys=features, values=scores\n",
    "    \"\"\"\n",
    "    data = featureFormat(data_dict, features_list)\n",
    "    labels, features = targetFeatureSplit(data)\n",
    "\n",
    "    rec_best = RFECV(LogisticRegression(random_state=0), step=1, min_features_to_select=k, cv=20)\n",
    "    rec_best.fit(features, labels)\n",
    "    scores = rec_best.grid_scores_\n",
    "    print(scores)\n",
    "    unsorted_pairs = zip(features_list[1:], scores)\n",
    "    sorted_pairs = list(reversed(sorted(unsorted_pairs, key=lambda x: x[1])))\n",
    "    rec_best_features = dict(sorted_pairs[:k])\n",
    "    print (\"{0} best features: {1}\\n\".format(k, rec_best_features.keys(), scores))\n",
    "    return rec_best_features\n"
   ]
  },
  {
   "cell_type": "markdown",
   "metadata": {},
   "source": [
    "best_features_rec = get_recursive_best(my_dataset, my_feature_list, num_features)\n",
    "my_rec_feature_list = [target_label] + list(set(best_features_rec.keys()))\n"
   ]
  },
  {
   "cell_type": "code",
   "execution_count": 44,
   "metadata": {},
   "outputs": [
    {
     "name": "stdout",
     "output_type": "stream",
     "text": [
      "[13.09194988  1.61965191 10.5797683   0.47114772 24.97095225  0.86590663\n",
      "  3.794392    8.93002341  3.67201071 11.22424804  0.13828023 11.07517735\n",
      "  8.4669241  22.43775097  0.47816352  3.20830339  1.56416335  7.52919918\n",
      "  0.59119378  0.59119378  3.20830339  0.47816352  1.56416335  7.52919918\n",
      " 14.31171478]\n",
      "15 best features: dict_keys(['exercised_stock_options', 'total_stock_value', 'fraction_to_poi', 'bonus', 'restricted_stock', 'salary', 'deferred_income', 'long_term_incentive', 'total_payments', 'shared_receipt_with_poi', 'loan_advances', 'other', 'from_poi_to_this_person'])\n",
      "\n"
     ]
    }
   ],
   "source": [
    "best_features = get_k_best(my_dataset, my_feature_list, num_features)\n",
    "\n",
    "my_feature_list = [target_label] + list(set(best_features.keys()))\n"
   ]
  },
  {
   "cell_type": "markdown",
   "metadata": {},
   "source": [
    "### 3.6 print features"
   ]
  },
  {
   "cell_type": "code",
   "execution_count": 45,
   "metadata": {},
   "outputs": [
    {
     "name": "stdout",
     "output_type": "stream",
     "text": [
      "13 selected features: ['fraction_to_poi', 'deferred_income', 'total_payments', 'shared_receipt_with_poi', 'salary', 'other', 'from_poi_to_this_person', 'long_term_incentive', 'bonus', 'exercised_stock_options', 'total_stock_value', 'loan_advances', 'restricted_stock']\n",
      "\n"
     ]
    }
   ],
   "source": [
    "print (\"{0} selected features: {1}\\n\".format(len(my_feature_list) - 1, my_feature_list[1:]))"
   ]
  },
  {
   "cell_type": "markdown",
   "metadata": {},
   "source": [
    "### 3.7 extract the features specified in features_list\n"
   ]
  },
  {
   "cell_type": "code",
   "execution_count": 46,
   "metadata": {},
   "outputs": [],
   "source": [
    "data = featureFormat(my_dataset, my_feature_list,sort_keys = True)"
   ]
  },
  {
   "cell_type": "code",
   "execution_count": 47,
   "metadata": {},
   "outputs": [
    {
     "ename": "NameError",
     "evalue": "name 'my_rec_feature_list' is not defined",
     "output_type": "error",
     "traceback": [
      "\u001b[0;31m---------------------------------------------------------------------------\u001b[0m",
      "\u001b[0;31mNameError\u001b[0m                                 Traceback (most recent call last)",
      "\u001b[0;32m<ipython-input-47-5d0f58063657>\u001b[0m in \u001b[0;36m<module>\u001b[0;34m\u001b[0m\n\u001b[0;32m----> 1\u001b[0;31m \u001b[0mdata_rec\u001b[0m\u001b[0;34m=\u001b[0m\u001b[0mfeatureFormat\u001b[0m\u001b[0;34m(\u001b[0m\u001b[0mmy_dataset\u001b[0m\u001b[0;34m,\u001b[0m \u001b[0mmy_rec_feature_list\u001b[0m\u001b[0;34m,\u001b[0m\u001b[0msort_keys\u001b[0m \u001b[0;34m=\u001b[0m \u001b[0;32mTrue\u001b[0m\u001b[0;34m)\u001b[0m\u001b[0;34m\u001b[0m\u001b[0;34m\u001b[0m\u001b[0m\n\u001b[0m",
      "\u001b[0;31mNameError\u001b[0m: name 'my_rec_feature_list' is not defined"
     ]
    }
   ],
   "source": [
    "data_rec=featureFormat(my_dataset, my_rec_feature_list,sort_keys = True)"
   ]
  },
  {
   "cell_type": "markdown",
   "metadata": {},
   "source": [
    "split into labels and features"
   ]
  },
  {
   "cell_type": "code",
   "execution_count": 48,
   "metadata": {},
   "outputs": [],
   "source": [
    "labels, features = targetFeatureSplit(data)"
   ]
  },
  {
   "cell_type": "code",
   "execution_count": 49,
   "metadata": {},
   "outputs": [],
   "source": [
    "#labels, features = targetFeatureSplit(data_rec)"
   ]
  },
  {
   "cell_type": "markdown",
   "metadata": {},
   "source": [
    "### 3.8 scale features"
   ]
  },
  {
   "cell_type": "markdown",
   "metadata": {},
   "source": [
    "#### via min-max"
   ]
  },
  {
   "cell_type": "code",
   "execution_count": 50,
   "metadata": {},
   "outputs": [],
   "source": [
    "from sklearn.preprocessing import MinMaxScaler\n"
   ]
  },
  {
   "cell_type": "code",
   "execution_count": 51,
   "metadata": {},
   "outputs": [],
   "source": [
    "from sklearn import preprocessing\n",
    "scaler = preprocessing.MinMaxScaler()\n",
    "features = scaler.fit_transform(features)"
   ]
  },
  {
   "cell_type": "markdown",
   "metadata": {},
   "source": [
    "robust scaler, poly"
   ]
  },
  {
   "cell_type": "code",
   "execution_count": 52,
   "metadata": {},
   "outputs": [],
   "source": [
    "from sklearn.preprocessing import RobustScaler"
   ]
  },
  {
   "cell_type": "code",
   "execution_count": 53,
   "metadata": {},
   "outputs": [],
   "source": [
    "from sklearn.model_selection import train_test_split"
   ]
  },
  {
   "cell_type": "markdown",
   "metadata": {},
   "source": [
    "X_train, X_test, y_train, y_test = train_test_split(features, labels, random_state=0)"
   ]
  },
  {
   "cell_type": "code",
   "execution_count": 54,
   "metadata": {},
   "outputs": [],
   "source": [
    "from sklearn.preprocessing import PolynomialFeatures\n",
    "from sklearn.linear_model import LinearRegression"
   ]
  },
  {
   "cell_type": "code",
   "execution_count": 55,
   "metadata": {},
   "outputs": [],
   "source": [
    "from sklearn.model_selection import GridSearchCV"
   ]
  },
  {
   "cell_type": "markdown",
   "metadata": {},
   "source": [
    "model = make_pipeline(MinMaxScaler(), PolynomialFeatures(),\n",
    "                      StandardScaler(),RobustScaler(),\n",
    "                      SGDClassifier(random_state=0))\n",
    "params = {\n",
    "    'polynomialfeatures__degree':[2, 3, 4,5],\n",
    "    'sgdclassifier__penalty':['l1', 'l2']\n",
    "}\n",
    "\n",
    "grid = GridSearchCV(model, param_grid=params, cv=10,scoring=\"precision\")\n",
    "\n",
    "grid.fit(X_train, y_train)\n"
   ]
  },
  {
   "cell_type": "markdown",
   "metadata": {},
   "source": [
    "grid.best_params_"
   ]
  },
  {
   "cell_type": "markdown",
   "metadata": {},
   "source": [
    "Best scale: poly degree 2 "
   ]
  },
  {
   "cell_type": "markdown",
   "metadata": {},
   "source": [
    "grid.score(X_test, y_test)"
   ]
  },
  {
   "cell_type": "markdown",
   "metadata": {},
   "source": [
    "Let's apply"
   ]
  },
  {
   "cell_type": "markdown",
   "metadata": {},
   "source": [
    "features=PolynomialFeatures(5).fit_transform(features)"
   ]
  },
  {
   "cell_type": "markdown",
   "metadata": {},
   "source": [
    "## Task 4: Using algorithm"
   ]
  },
  {
   "cell_type": "markdown",
   "metadata": {},
   "source": [
    "Please name your classifier clf for easy export below.   \n",
    "Note that if you want to do PCA or other multi-stage operations,    \n",
    "you'll need to use Pipelines. For more info:    \n",
    "http://scikit-learn.org/stable/modules/pipeline.html     \n",
    "\n",
    "Provided to give you a starting point. Try a variety of classifiers.   "
   ]
  },
  {
   "cell_type": "markdown",
   "metadata": {},
   "source": [
    "### 4.1  Gaussian Naive Bayes Classifier"
   ]
  },
  {
   "cell_type": "code",
   "execution_count": 56,
   "metadata": {},
   "outputs": [],
   "source": [
    "from sklearn.naive_bayes import GaussianNB\n",
    "g_clf = GaussianNB()"
   ]
  },
  {
   "cell_type": "markdown",
   "metadata": {},
   "source": [
    "### 4.2  Logistic Regression Classifier"
   ]
  },
  {
   "cell_type": "code",
   "execution_count": 57,
   "metadata": {},
   "outputs": [],
   "source": [
    "from sklearn.linear_model import LogisticRegression"
   ]
  },
  {
   "cell_type": "code",
   "execution_count": 58,
   "metadata": {},
   "outputs": [],
   "source": [
    "from sklearn.preprocessing import RobustScaler"
   ]
  },
  {
   "cell_type": "code",
   "execution_count": 59,
   "metadata": {},
   "outputs": [],
   "source": [
    "l_clf = Pipeline(steps=[\n",
    "        ('scaler', RobustScaler()),\n",
    "        ('classifier', LogisticRegression(C=1e-08, class_weight='balanced', dual=False, fit_intercept=True, intercept_scaling=1, \n",
    "max_iter=100, multi_class='ovr', penalty='l2', random_state=42, solver='liblinear', tol=0.001, verbose=0))])"
   ]
  },
  {
   "cell_type": "markdown",
   "metadata": {},
   "source": [
    "### 4.3  K-means Clustering"
   ]
  },
  {
   "cell_type": "code",
   "execution_count": 60,
   "metadata": {},
   "outputs": [],
   "source": [
    "from sklearn.cluster import KMeans\n",
    "k_clf = KMeans(n_clusters=2, tol=0.001)"
   ]
  },
  {
   "cell_type": "markdown",
   "metadata": {},
   "source": [
    "### 4.4 Support Vector Machine Classifier"
   ]
  },
  {
   "cell_type": "code",
   "execution_count": 61,
   "metadata": {},
   "outputs": [],
   "source": [
    "from sklearn.svm import SVC\n",
    "s_clf = SVC(kernel='rbf', C=1000,gamma = 0.0001,random_state = 42, class_weight = 'balanced')"
   ]
  },
  {
   "cell_type": "markdown",
   "metadata": {},
   "source": [
    "### 4.5 Random Forest\n"
   ]
  },
  {
   "cell_type": "code",
   "execution_count": 62,
   "metadata": {},
   "outputs": [],
   "source": [
    "from sklearn.ensemble import RandomForestClassifier\n",
    "rf_clf = RandomForestClassifier(max_depth = 5,max_features = 'sqrt',n_estimators = 10, random_state = 42, class_weight= 'balanced')"
   ]
  },
  {
   "cell_type": "markdown",
   "metadata": {},
   "source": [
    "### 4.6 Gradient Boosting Classifier"
   ]
  },
  {
   "cell_type": "code",
   "execution_count": 63,
   "metadata": {},
   "outputs": [],
   "source": [
    "from imblearn.ensemble import BalancedBaggingClassifier"
   ]
  },
  {
   "cell_type": "code",
   "execution_count": 64,
   "metadata": {},
   "outputs": [],
   "source": [
    "from sklearn.ensemble  import GradientBoostingClassifier\n",
    "gb_clf = GradientBoostingClassifier(loss='deviance', learning_rate=0.1, n_estimators=100,random_state = 42)"
   ]
  },
  {
   "cell_type": "code",
   "execution_count": 65,
   "metadata": {},
   "outputs": [],
   "source": [
    "gb_clf_balance = BalancedBaggingClassifier(random_state=0)"
   ]
  },
  {
   "cell_type": "markdown",
   "metadata": {},
   "source": [
    "### 4.7 Perceptron"
   ]
  },
  {
   "cell_type": "code",
   "execution_count": 66,
   "metadata": {},
   "outputs": [],
   "source": [
    "from sklearn.linear_model import Perceptron\n",
    "pe_clf= Perceptron(max_iter=5)\n"
   ]
  },
  {
   "cell_type": "markdown",
   "metadata": {},
   "source": [
    "### 4.8 K Nearest Neighbor:"
   ]
  },
  {
   "cell_type": "code",
   "execution_count": 67,
   "metadata": {},
   "outputs": [],
   "source": [
    "from sklearn.neighbors import KNeighborsClassifier"
   ]
  },
  {
   "cell_type": "code",
   "execution_count": 68,
   "metadata": {},
   "outputs": [],
   "source": [
    "knn_clf = KNeighborsClassifier(n_neighbors = 3)"
   ]
  },
  {
   "cell_type": "markdown",
   "metadata": {},
   "source": [
    "### 4.9 SDG"
   ]
  },
  {
   "cell_type": "code",
   "execution_count": 69,
   "metadata": {},
   "outputs": [],
   "source": [
    "from sklearn.linear_model import SGDClassifier"
   ]
  },
  {
   "cell_type": "code",
   "execution_count": 70,
   "metadata": {},
   "outputs": [],
   "source": [
    "sdg_clf = SGDClassifier(random_state=0,penalty='l2')"
   ]
  },
  {
   "cell_type": "markdown",
   "metadata": {},
   "source": [
    "### 4.10 Multi-layer Perceptron"
   ]
  },
  {
   "cell_type": "code",
   "execution_count": 71,
   "metadata": {},
   "outputs": [],
   "source": [
    "from sklearn.neural_network import MLPClassifier"
   ]
  },
  {
   "cell_type": "code",
   "execution_count": 72,
   "metadata": {},
   "outputs": [],
   "source": [
    "mlp_clf = MLPClassifier(random_state=1, max_iter=10)"
   ]
  },
  {
   "cell_type": "markdown",
   "metadata": {},
   "source": [
    "### 4.7 evaluate function\n"
   ]
  },
  {
   "cell_type": "code",
   "execution_count": 73,
   "metadata": {},
   "outputs": [],
   "source": [
    "from imblearn.over_sampling import SMOTE\n",
    "from imblearn.combine import SMOTETomek"
   ]
  },
  {
   "cell_type": "code",
   "execution_count": 74,
   "metadata": {},
   "outputs": [],
   "source": [
    "def evaluate_clf1(clf, features, labels, num_iters=1000, test_size=0.3):\n",
    "    print (clf)\n",
    "    accuracy = []\n",
    "    precision = []\n",
    "    recall = []\n",
    "    first = True\n",
    "    for trial in range(num_iters):\n",
    "        x_train, x_test, y_train, y_test =\\\n",
    "        train_test_split(features, labels, test_size=test_size)\n",
    "        clf.fit(x_train, y_train)\n",
    "        predictions = clf.predict(x_test)\n",
    "        accuracy.append(accuracy_score(y_test, predictions))\n",
    "        precision.append(precision_score(y_test, predictions))\n",
    "        recall.append(recall_score(y_test, predictions))\n",
    "        if trial % 10 == 0:\n",
    "            if first:\n",
    "                sys.stdout.write('\\nProcessing')\n",
    "            sys.stdout.write('.')\n",
    "            sys.stdout.flush()\n",
    "            first = False\n",
    "    print (\"done.\\n\")\n",
    "    print (\"precision: {}\".format(mean(precision)))\n",
    "    print (\"recall:    {}\".format(mean(recall)))\n",
    "    print (\"accuracy:    {}\".format(mean(accuracy)))\n",
    "    return mean(precision), mean(recall), mean(accuracy)"
   ]
  },
  {
   "cell_type": "markdown",
   "metadata": {},
   "source": [
    "With Smote"
   ]
  },
  {
   "cell_type": "code",
   "execution_count": 75,
   "metadata": {},
   "outputs": [],
   "source": [
    "def evaluate_clf(clf, features, labels, num_iters=1000, test_size=0.3):\n",
    "    print (clf)\n",
    "    accuracy = []\n",
    "    precision = []\n",
    "    recall = []\n",
    "    first = True\n",
    "    for trial in range(num_iters):\n",
    "        x_train, x_test, y_train, y_test =\\\n",
    "        train_test_split(features, labels, test_size=test_size)\n",
    "        smt = SMOTE()\n",
    "        x_train, y_train= smt.fit_sample(x_train, y_train)\n",
    "        clf.fit(x_train, y_train)\n",
    "        predictions = clf.predict(x_test)\n",
    "        accuracy.append(accuracy_score(y_test, predictions))\n",
    "        precision.append(precision_score(y_test, predictions))\n",
    "        recall.append(recall_score(y_test, predictions))\n",
    "        if trial % 10 == 0:\n",
    "            if first:\n",
    "                sys.stdout.write('\\nProcessing')\n",
    "            sys.stdout.write('.')\n",
    "            sys.stdout.flush()\n",
    "            first = False\n",
    "    print (\"done.\\n\")\n",
    "    print (\"precision: {}\".format(mean(precision)))\n",
    "    print (\"recall:    {}\".format(mean(recall)))\n",
    "    print (\"accuracy:    {}\".format(mean(accuracy)))\n",
    "    return mean(precision), mean(recall), mean(accuracy)"
   ]
  },
  {
   "cell_type": "markdown",
   "metadata": {},
   "source": [
    "### 4.8 Evaluate all functions"
   ]
  },
  {
   "cell_type": "code",
   "execution_count": 76,
   "metadata": {},
   "outputs": [
    {
     "name": "stdout",
     "output_type": "stream",
     "text": [
      "SGDClassifier(random_state=0)\n",
      "\n",
      "Processing....................................................................................................done.\n",
      "\n",
      "precision: 0.23935748405363144\n",
      "recall:    0.5388670634920635\n",
      "accuracy:    0.6917441860465116\n"
     ]
    },
    {
     "data": {
      "text/plain": [
       "(0.23935748405363144, 0.5388670634920635, 0.6917441860465116)"
      ]
     },
     "execution_count": 76,
     "metadata": {},
     "output_type": "execute_result"
    }
   ],
   "source": [
    "evaluate_clf(sdg_clf, features, labels)"
   ]
  },
  {
   "cell_type": "code",
   "execution_count": 77,
   "metadata": {},
   "outputs": [
    {
     "name": "stdout",
     "output_type": "stream",
     "text": [
      "Pipeline(steps=[('scaler', RobustScaler()),\n",
      "                ('classifier',\n",
      "                 LogisticRegression(C=1e-08, class_weight='balanced',\n",
      "                                    multi_class='ovr', random_state=42,\n",
      "                                    solver='liblinear', tol=0.001))])\n",
      "\n",
      "Processing......................................................................"
     ]
    },
    {
     "ename": "ValueError",
     "evalue": "Expected n_neighbors <= n_samples,  but n_samples = 5, n_neighbors = 6",
     "output_type": "error",
     "traceback": [
      "\u001b[0;31m---------------------------------------------------------------------------\u001b[0m",
      "\u001b[0;31mValueError\u001b[0m                                Traceback (most recent call last)",
      "\u001b[0;32m<ipython-input-77-f7f01ff52528>\u001b[0m in \u001b[0;36m<module>\u001b[0;34m\u001b[0m\n\u001b[0;32m----> 1\u001b[0;31m \u001b[0mevaluate_clf\u001b[0m\u001b[0;34m(\u001b[0m\u001b[0ml_clf\u001b[0m\u001b[0;34m,\u001b[0m \u001b[0mfeatures\u001b[0m\u001b[0;34m,\u001b[0m \u001b[0mlabels\u001b[0m\u001b[0;34m)\u001b[0m\u001b[0;34m\u001b[0m\u001b[0;34m\u001b[0m\u001b[0m\n\u001b[0m",
      "\u001b[0;32m<ipython-input-75-d3022f7078a6>\u001b[0m in \u001b[0;36mevaluate_clf\u001b[0;34m(clf, features, labels, num_iters, test_size)\u001b[0m\n\u001b[1;32m      9\u001b[0m         \u001b[0mtrain_test_split\u001b[0m\u001b[0;34m(\u001b[0m\u001b[0mfeatures\u001b[0m\u001b[0;34m,\u001b[0m \u001b[0mlabels\u001b[0m\u001b[0;34m,\u001b[0m \u001b[0mtest_size\u001b[0m\u001b[0;34m=\u001b[0m\u001b[0mtest_size\u001b[0m\u001b[0;34m)\u001b[0m\u001b[0;34m\u001b[0m\u001b[0;34m\u001b[0m\u001b[0m\n\u001b[1;32m     10\u001b[0m         \u001b[0msmt\u001b[0m \u001b[0;34m=\u001b[0m \u001b[0mSMOTE\u001b[0m\u001b[0;34m(\u001b[0m\u001b[0;34m)\u001b[0m\u001b[0;34m\u001b[0m\u001b[0;34m\u001b[0m\u001b[0m\n\u001b[0;32m---> 11\u001b[0;31m         \u001b[0mx_train\u001b[0m\u001b[0;34m,\u001b[0m \u001b[0my_train\u001b[0m\u001b[0;34m=\u001b[0m \u001b[0msmt\u001b[0m\u001b[0;34m.\u001b[0m\u001b[0mfit_sample\u001b[0m\u001b[0;34m(\u001b[0m\u001b[0mx_train\u001b[0m\u001b[0;34m,\u001b[0m \u001b[0my_train\u001b[0m\u001b[0;34m)\u001b[0m\u001b[0;34m\u001b[0m\u001b[0;34m\u001b[0m\u001b[0m\n\u001b[0m\u001b[1;32m     12\u001b[0m         \u001b[0mclf\u001b[0m\u001b[0;34m.\u001b[0m\u001b[0mfit\u001b[0m\u001b[0;34m(\u001b[0m\u001b[0mx_train\u001b[0m\u001b[0;34m,\u001b[0m \u001b[0my_train\u001b[0m\u001b[0;34m)\u001b[0m\u001b[0;34m\u001b[0m\u001b[0;34m\u001b[0m\u001b[0m\n\u001b[1;32m     13\u001b[0m         \u001b[0mpredictions\u001b[0m \u001b[0;34m=\u001b[0m \u001b[0mclf\u001b[0m\u001b[0;34m.\u001b[0m\u001b[0mpredict\u001b[0m\u001b[0;34m(\u001b[0m\u001b[0mx_test\u001b[0m\u001b[0;34m)\u001b[0m\u001b[0;34m\u001b[0m\u001b[0;34m\u001b[0m\u001b[0m\n",
      "\u001b[0;32m/opt/anaconda3/lib/python3.8/site-packages/imblearn/base.py\u001b[0m in \u001b[0;36mfit_resample\u001b[0;34m(self, X, y)\u001b[0m\n\u001b[1;32m     81\u001b[0m         )\n\u001b[1;32m     82\u001b[0m \u001b[0;34m\u001b[0m\u001b[0m\n\u001b[0;32m---> 83\u001b[0;31m         \u001b[0moutput\u001b[0m \u001b[0;34m=\u001b[0m \u001b[0mself\u001b[0m\u001b[0;34m.\u001b[0m\u001b[0m_fit_resample\u001b[0m\u001b[0;34m(\u001b[0m\u001b[0mX\u001b[0m\u001b[0;34m,\u001b[0m \u001b[0my\u001b[0m\u001b[0;34m)\u001b[0m\u001b[0;34m\u001b[0m\u001b[0;34m\u001b[0m\u001b[0m\n\u001b[0m\u001b[1;32m     84\u001b[0m \u001b[0;34m\u001b[0m\u001b[0m\n\u001b[1;32m     85\u001b[0m         y_ = (label_binarize(output[1], np.unique(y))\n",
      "\u001b[0;32m/opt/anaconda3/lib/python3.8/site-packages/imblearn/over_sampling/_smote.py\u001b[0m in \u001b[0;36m_fit_resample\u001b[0;34m(self, X, y)\u001b[0m\n\u001b[1;32m    730\u001b[0m \u001b[0;34m\u001b[0m\u001b[0m\n\u001b[1;32m    731\u001b[0m             \u001b[0mself\u001b[0m\u001b[0;34m.\u001b[0m\u001b[0mnn_k_\u001b[0m\u001b[0;34m.\u001b[0m\u001b[0mfit\u001b[0m\u001b[0;34m(\u001b[0m\u001b[0mX_class\u001b[0m\u001b[0;34m)\u001b[0m\u001b[0;34m\u001b[0m\u001b[0;34m\u001b[0m\u001b[0m\n\u001b[0;32m--> 732\u001b[0;31m             \u001b[0mnns\u001b[0m \u001b[0;34m=\u001b[0m \u001b[0mself\u001b[0m\u001b[0;34m.\u001b[0m\u001b[0mnn_k_\u001b[0m\u001b[0;34m.\u001b[0m\u001b[0mkneighbors\u001b[0m\u001b[0;34m(\u001b[0m\u001b[0mX_class\u001b[0m\u001b[0;34m,\u001b[0m \u001b[0mreturn_distance\u001b[0m\u001b[0;34m=\u001b[0m\u001b[0;32mFalse\u001b[0m\u001b[0;34m)\u001b[0m\u001b[0;34m[\u001b[0m\u001b[0;34m:\u001b[0m\u001b[0;34m,\u001b[0m \u001b[0;36m1\u001b[0m\u001b[0;34m:\u001b[0m\u001b[0;34m]\u001b[0m\u001b[0;34m\u001b[0m\u001b[0;34m\u001b[0m\u001b[0m\n\u001b[0m\u001b[1;32m    733\u001b[0m             X_new, y_new = self._make_samples(\n\u001b[1;32m    734\u001b[0m                 \u001b[0mX_class\u001b[0m\u001b[0;34m,\u001b[0m \u001b[0my\u001b[0m\u001b[0;34m.\u001b[0m\u001b[0mdtype\u001b[0m\u001b[0;34m,\u001b[0m \u001b[0mclass_sample\u001b[0m\u001b[0;34m,\u001b[0m \u001b[0mX_class\u001b[0m\u001b[0;34m,\u001b[0m \u001b[0mnns\u001b[0m\u001b[0;34m,\u001b[0m \u001b[0mn_samples\u001b[0m\u001b[0;34m,\u001b[0m \u001b[0;36m1.0\u001b[0m\u001b[0;34m\u001b[0m\u001b[0;34m\u001b[0m\u001b[0m\n",
      "\u001b[0;32m/opt/anaconda3/lib/python3.8/site-packages/sklearn/neighbors/_base.py\u001b[0m in \u001b[0;36mkneighbors\u001b[0;34m(self, X, n_neighbors, return_distance)\u001b[0m\n\u001b[1;32m    614\u001b[0m         \u001b[0mn_samples_fit\u001b[0m \u001b[0;34m=\u001b[0m \u001b[0mself\u001b[0m\u001b[0;34m.\u001b[0m\u001b[0mn_samples_fit_\u001b[0m\u001b[0;34m\u001b[0m\u001b[0;34m\u001b[0m\u001b[0m\n\u001b[1;32m    615\u001b[0m         \u001b[0;32mif\u001b[0m \u001b[0mn_neighbors\u001b[0m \u001b[0;34m>\u001b[0m \u001b[0mn_samples_fit\u001b[0m\u001b[0;34m:\u001b[0m\u001b[0;34m\u001b[0m\u001b[0;34m\u001b[0m\u001b[0m\n\u001b[0;32m--> 616\u001b[0;31m             raise ValueError(\n\u001b[0m\u001b[1;32m    617\u001b[0m                 \u001b[0;34m\"Expected n_neighbors <= n_samples, \"\u001b[0m\u001b[0;34m\u001b[0m\u001b[0;34m\u001b[0m\u001b[0m\n\u001b[1;32m    618\u001b[0m                 \u001b[0;34m\" but n_samples = %d, n_neighbors = %d\"\u001b[0m \u001b[0;34m%\u001b[0m\u001b[0;34m\u001b[0m\u001b[0;34m\u001b[0m\u001b[0m\n",
      "\u001b[0;31mValueError\u001b[0m: Expected n_neighbors <= n_samples,  but n_samples = 5, n_neighbors = 6"
     ]
    }
   ],
   "source": [
    "evaluate_clf(l_clf, features, labels)\n"
   ]
  },
  {
   "cell_type": "code",
   "execution_count": 78,
   "metadata": {},
   "outputs": [
    {
     "name": "stdout",
     "output_type": "stream",
     "text": [
      "GaussianNB()\n",
      "\n",
      "Processing....................................................................................................done.\n",
      "\n",
      "precision: 0.22566669463176253\n",
      "recall:    0.36255703463203465\n",
      "accuracy:    0.6404883720930231\n",
      "Pipeline(steps=[('scaler', RobustScaler()),\n",
      "                ('classifier',\n",
      "                 LogisticRegression(C=1e-08, class_weight='balanced',\n",
      "                                    multi_class='ovr', random_state=42,\n",
      "                                    solver='liblinear', tol=0.001))])\n",
      "\n",
      "Processing............."
     ]
    },
    {
     "ename": "ValueError",
     "evalue": "Expected n_neighbors <= n_samples,  but n_samples = 5, n_neighbors = 6",
     "output_type": "error",
     "traceback": [
      "\u001b[0;31m---------------------------------------------------------------------------\u001b[0m",
      "\u001b[0;31mValueError\u001b[0m                                Traceback (most recent call last)",
      "\u001b[0;32m<ipython-input-78-be5a8ac07544>\u001b[0m in \u001b[0;36m<module>\u001b[0;34m\u001b[0m\n\u001b[1;32m      1\u001b[0m \u001b[0mevaluate_clf\u001b[0m\u001b[0;34m(\u001b[0m\u001b[0mg_clf\u001b[0m\u001b[0;34m,\u001b[0m \u001b[0mfeatures\u001b[0m\u001b[0;34m,\u001b[0m \u001b[0mlabels\u001b[0m\u001b[0;34m)\u001b[0m\u001b[0;34m\u001b[0m\u001b[0;34m\u001b[0m\u001b[0m\n\u001b[0;32m----> 2\u001b[0;31m \u001b[0mevaluate_clf\u001b[0m\u001b[0;34m(\u001b[0m\u001b[0ml_clf\u001b[0m\u001b[0;34m,\u001b[0m \u001b[0mfeatures\u001b[0m\u001b[0;34m,\u001b[0m \u001b[0mlabels\u001b[0m\u001b[0;34m)\u001b[0m\u001b[0;34m\u001b[0m\u001b[0;34m\u001b[0m\u001b[0m\n\u001b[0m\u001b[1;32m      3\u001b[0m \u001b[0mevaluate_clf\u001b[0m\u001b[0;34m(\u001b[0m\u001b[0mk_clf\u001b[0m\u001b[0;34m,\u001b[0m \u001b[0mfeatures\u001b[0m\u001b[0;34m,\u001b[0m \u001b[0mlabels\u001b[0m\u001b[0;34m)\u001b[0m\u001b[0;34m\u001b[0m\u001b[0;34m\u001b[0m\u001b[0m\n\u001b[1;32m      4\u001b[0m \u001b[0mevaluate_clf\u001b[0m\u001b[0;34m(\u001b[0m\u001b[0ms_clf\u001b[0m\u001b[0;34m,\u001b[0m \u001b[0mfeatures\u001b[0m\u001b[0;34m,\u001b[0m \u001b[0mlabels\u001b[0m\u001b[0;34m)\u001b[0m\u001b[0;34m\u001b[0m\u001b[0;34m\u001b[0m\u001b[0m\n\u001b[1;32m      5\u001b[0m \u001b[0mevaluate_clf\u001b[0m\u001b[0;34m(\u001b[0m\u001b[0mrf_clf\u001b[0m\u001b[0;34m,\u001b[0m \u001b[0mfeatures\u001b[0m\u001b[0;34m,\u001b[0m \u001b[0mlabels\u001b[0m\u001b[0;34m)\u001b[0m\u001b[0;34m\u001b[0m\u001b[0;34m\u001b[0m\u001b[0m\n",
      "\u001b[0;32m<ipython-input-75-d3022f7078a6>\u001b[0m in \u001b[0;36mevaluate_clf\u001b[0;34m(clf, features, labels, num_iters, test_size)\u001b[0m\n\u001b[1;32m      9\u001b[0m         \u001b[0mtrain_test_split\u001b[0m\u001b[0;34m(\u001b[0m\u001b[0mfeatures\u001b[0m\u001b[0;34m,\u001b[0m \u001b[0mlabels\u001b[0m\u001b[0;34m,\u001b[0m \u001b[0mtest_size\u001b[0m\u001b[0;34m=\u001b[0m\u001b[0mtest_size\u001b[0m\u001b[0;34m)\u001b[0m\u001b[0;34m\u001b[0m\u001b[0;34m\u001b[0m\u001b[0m\n\u001b[1;32m     10\u001b[0m         \u001b[0msmt\u001b[0m \u001b[0;34m=\u001b[0m \u001b[0mSMOTE\u001b[0m\u001b[0;34m(\u001b[0m\u001b[0;34m)\u001b[0m\u001b[0;34m\u001b[0m\u001b[0;34m\u001b[0m\u001b[0m\n\u001b[0;32m---> 11\u001b[0;31m         \u001b[0mx_train\u001b[0m\u001b[0;34m,\u001b[0m \u001b[0my_train\u001b[0m\u001b[0;34m=\u001b[0m \u001b[0msmt\u001b[0m\u001b[0;34m.\u001b[0m\u001b[0mfit_sample\u001b[0m\u001b[0;34m(\u001b[0m\u001b[0mx_train\u001b[0m\u001b[0;34m,\u001b[0m \u001b[0my_train\u001b[0m\u001b[0;34m)\u001b[0m\u001b[0;34m\u001b[0m\u001b[0;34m\u001b[0m\u001b[0m\n\u001b[0m\u001b[1;32m     12\u001b[0m         \u001b[0mclf\u001b[0m\u001b[0;34m.\u001b[0m\u001b[0mfit\u001b[0m\u001b[0;34m(\u001b[0m\u001b[0mx_train\u001b[0m\u001b[0;34m,\u001b[0m \u001b[0my_train\u001b[0m\u001b[0;34m)\u001b[0m\u001b[0;34m\u001b[0m\u001b[0;34m\u001b[0m\u001b[0m\n\u001b[1;32m     13\u001b[0m         \u001b[0mpredictions\u001b[0m \u001b[0;34m=\u001b[0m \u001b[0mclf\u001b[0m\u001b[0;34m.\u001b[0m\u001b[0mpredict\u001b[0m\u001b[0;34m(\u001b[0m\u001b[0mx_test\u001b[0m\u001b[0;34m)\u001b[0m\u001b[0;34m\u001b[0m\u001b[0;34m\u001b[0m\u001b[0m\n",
      "\u001b[0;32m/opt/anaconda3/lib/python3.8/site-packages/imblearn/base.py\u001b[0m in \u001b[0;36mfit_resample\u001b[0;34m(self, X, y)\u001b[0m\n\u001b[1;32m     81\u001b[0m         )\n\u001b[1;32m     82\u001b[0m \u001b[0;34m\u001b[0m\u001b[0m\n\u001b[0;32m---> 83\u001b[0;31m         \u001b[0moutput\u001b[0m \u001b[0;34m=\u001b[0m \u001b[0mself\u001b[0m\u001b[0;34m.\u001b[0m\u001b[0m_fit_resample\u001b[0m\u001b[0;34m(\u001b[0m\u001b[0mX\u001b[0m\u001b[0;34m,\u001b[0m \u001b[0my\u001b[0m\u001b[0;34m)\u001b[0m\u001b[0;34m\u001b[0m\u001b[0;34m\u001b[0m\u001b[0m\n\u001b[0m\u001b[1;32m     84\u001b[0m \u001b[0;34m\u001b[0m\u001b[0m\n\u001b[1;32m     85\u001b[0m         y_ = (label_binarize(output[1], np.unique(y))\n",
      "\u001b[0;32m/opt/anaconda3/lib/python3.8/site-packages/imblearn/over_sampling/_smote.py\u001b[0m in \u001b[0;36m_fit_resample\u001b[0;34m(self, X, y)\u001b[0m\n\u001b[1;32m    730\u001b[0m \u001b[0;34m\u001b[0m\u001b[0m\n\u001b[1;32m    731\u001b[0m             \u001b[0mself\u001b[0m\u001b[0;34m.\u001b[0m\u001b[0mnn_k_\u001b[0m\u001b[0;34m.\u001b[0m\u001b[0mfit\u001b[0m\u001b[0;34m(\u001b[0m\u001b[0mX_class\u001b[0m\u001b[0;34m)\u001b[0m\u001b[0;34m\u001b[0m\u001b[0;34m\u001b[0m\u001b[0m\n\u001b[0;32m--> 732\u001b[0;31m             \u001b[0mnns\u001b[0m \u001b[0;34m=\u001b[0m \u001b[0mself\u001b[0m\u001b[0;34m.\u001b[0m\u001b[0mnn_k_\u001b[0m\u001b[0;34m.\u001b[0m\u001b[0mkneighbors\u001b[0m\u001b[0;34m(\u001b[0m\u001b[0mX_class\u001b[0m\u001b[0;34m,\u001b[0m \u001b[0mreturn_distance\u001b[0m\u001b[0;34m=\u001b[0m\u001b[0;32mFalse\u001b[0m\u001b[0;34m)\u001b[0m\u001b[0;34m[\u001b[0m\u001b[0;34m:\u001b[0m\u001b[0;34m,\u001b[0m \u001b[0;36m1\u001b[0m\u001b[0;34m:\u001b[0m\u001b[0;34m]\u001b[0m\u001b[0;34m\u001b[0m\u001b[0;34m\u001b[0m\u001b[0m\n\u001b[0m\u001b[1;32m    733\u001b[0m             X_new, y_new = self._make_samples(\n\u001b[1;32m    734\u001b[0m                 \u001b[0mX_class\u001b[0m\u001b[0;34m,\u001b[0m \u001b[0my\u001b[0m\u001b[0;34m.\u001b[0m\u001b[0mdtype\u001b[0m\u001b[0;34m,\u001b[0m \u001b[0mclass_sample\u001b[0m\u001b[0;34m,\u001b[0m \u001b[0mX_class\u001b[0m\u001b[0;34m,\u001b[0m \u001b[0mnns\u001b[0m\u001b[0;34m,\u001b[0m \u001b[0mn_samples\u001b[0m\u001b[0;34m,\u001b[0m \u001b[0;36m1.0\u001b[0m\u001b[0;34m\u001b[0m\u001b[0;34m\u001b[0m\u001b[0m\n",
      "\u001b[0;32m/opt/anaconda3/lib/python3.8/site-packages/sklearn/neighbors/_base.py\u001b[0m in \u001b[0;36mkneighbors\u001b[0;34m(self, X, n_neighbors, return_distance)\u001b[0m\n\u001b[1;32m    614\u001b[0m         \u001b[0mn_samples_fit\u001b[0m \u001b[0;34m=\u001b[0m \u001b[0mself\u001b[0m\u001b[0;34m.\u001b[0m\u001b[0mn_samples_fit_\u001b[0m\u001b[0;34m\u001b[0m\u001b[0;34m\u001b[0m\u001b[0m\n\u001b[1;32m    615\u001b[0m         \u001b[0;32mif\u001b[0m \u001b[0mn_neighbors\u001b[0m \u001b[0;34m>\u001b[0m \u001b[0mn_samples_fit\u001b[0m\u001b[0;34m:\u001b[0m\u001b[0;34m\u001b[0m\u001b[0;34m\u001b[0m\u001b[0m\n\u001b[0;32m--> 616\u001b[0;31m             raise ValueError(\n\u001b[0m\u001b[1;32m    617\u001b[0m                 \u001b[0;34m\"Expected n_neighbors <= n_samples, \"\u001b[0m\u001b[0;34m\u001b[0m\u001b[0;34m\u001b[0m\u001b[0m\n\u001b[1;32m    618\u001b[0m                 \u001b[0;34m\" but n_samples = %d, n_neighbors = %d\"\u001b[0m \u001b[0;34m%\u001b[0m\u001b[0;34m\u001b[0m\u001b[0;34m\u001b[0m\u001b[0m\n",
      "\u001b[0;31mValueError\u001b[0m: Expected n_neighbors <= n_samples,  but n_samples = 5, n_neighbors = 6"
     ]
    }
   ],
   "source": [
    "evaluate_clf(g_clf, features, labels)\n",
    "evaluate_clf(l_clf, features, labels)\n",
    "evaluate_clf(k_clf, features, labels)\n",
    "evaluate_clf(s_clf, features, labels)\n",
    "evaluate_clf(rf_clf, features, labels)\n",
    "evaluate_clf(gb_clf, features, labels)\n",
    "evaluate_clf(pe_clf, features, labels)\n",
    "evaluate_clf(knn_clf, features, labels)\n",
    "evaluate_clf(sdg_clf, features, labels)\n",
    "evaluate_clf(mlp_clf, features, labels)"
   ]
  },
  {
   "cell_type": "markdown",
   "metadata": {},
   "source": [
    "=> Rajouter fonction print best"
   ]
  },
  {
   "cell_type": "markdown",
   "metadata": {},
   "source": [
    "## Select best"
   ]
  },
  {
   "cell_type": "code",
   "execution_count": 79,
   "metadata": {},
   "outputs": [],
   "source": [
    "x_train, x_test, y_train, y_test = train_test_split(features, labels, random_state=0)"
   ]
  },
  {
   "cell_type": "code",
   "execution_count": 92,
   "metadata": {},
   "outputs": [
    {
     "name": "stdout",
     "output_type": "stream",
     "text": [
      "BalancedRandomForestClassifier(n_estimators=10, random_state=60)\n",
      "\n",
      "Processing....................................................................................................done.\n",
      "\n",
      "precision: 0.3271598568098568\n",
      "recall:    0.3166407287157287\n",
      "accuracy:    0.8321395348837208\n"
     ]
    },
    {
     "data": {
      "text/plain": [
       "(0.3271598568098568, 0.3166407287157287, 0.8321395348837208)"
      ]
     },
     "execution_count": 92,
     "metadata": {},
     "output_type": "execute_result"
    }
   ],
   "source": [
    "from imblearn.ensemble import BalancedRandomForestClassifier\n",
    "evaluate_clf( BalancedRandomForestClassifier(max_depth= None, n_estimators = 10, random_state = 60, max_features = 'auto')\n",
    "                           ,features,labels)"
   ]
  },
  {
   "cell_type": "code",
   "execution_count": 80,
   "metadata": {},
   "outputs": [],
   "source": [
    "smt = SMOTETomek()\n",
    "x_train, y_train= smt.fit_sample(x_train, y_train)"
   ]
  },
  {
   "cell_type": "code",
   "execution_count": 81,
   "metadata": {},
   "outputs": [],
   "source": [
    "from sklearn.model_selection import StratifiedShuffleSplit"
   ]
  },
  {
   "cell_type": "code",
   "execution_count": 82,
   "metadata": {},
   "outputs": [],
   "source": [
    "from sklearn.metrics import f1_score"
   ]
  },
  {
   "cell_type": "code",
   "execution_count": 83,
   "metadata": {},
   "outputs": [],
   "source": [
    "from sklearn.metrics import make_scorer"
   ]
  },
  {
   "cell_type": "code",
   "execution_count": 84,
   "metadata": {},
   "outputs": [],
   "source": [
    "    min_slc=MinMaxScaler()\n",
    "    std_slc = StandardScaler()\n",
    "    rob_slc= RobustScaler()\n",
    "    pol_slc=PolynomialFeatures()"
   ]
  },
  {
   "cell_type": "code",
   "execution_count": 85,
   "metadata": {},
   "outputs": [],
   "source": [
    "logistic_Reg = LogisticRegression()"
   ]
  },
  {
   "cell_type": "code",
   "execution_count": 86,
   "metadata": {},
   "outputs": [],
   "source": [
    "l_clf =Pipeline(steps=[('min_slc', std_slc),('std_slc', std_slc),('rob_slc',rob_slc),('pol_slc',pol_slc),\n",
    "                           ('logistic_Reg', logistic_Reg)])"
   ]
  },
  {
   "cell_type": "code",
   "execution_count": 87,
   "metadata": {},
   "outputs": [],
   "source": [
    "import numpy as np"
   ]
  },
  {
   "cell_type": "code",
   "execution_count": 88,
   "metadata": {},
   "outputs": [],
   "source": [
    "# define models and parameters\n",
    "model = LogisticRegression()\n",
    "\n",
    "solvers = ['newton-cg', 'lbfgs', 'liblinear']\n",
    "penalty = [\"l1\",\"l2\",\"elasticnet\", \"none\"]\n",
    "c_values = np.logspace(-4, 4, 50)\n",
    "scaler=['RobustScaler','MinMaxScaler','PolynomialFeatures','StandardScaler']\n",
    "class_weight=['balanced','None']\n",
    "multi_class=[\"ovr\"]\n",
    "\n",
    "scoring = {'precision_macro': make_scorer(precision_score, average='macro'),'rec_macro': make_scorer(recall_score, average='macro'),'f1_macro': make_scorer(f1_score, average='macro')}\n",
    "\n",
    "# define grid search\n",
    "grid = dict(logistic_Reg__solver=solvers,logistic_Reg__penalty=penalty,logistic_Reg__C=c_values,logistic_Reg__class_weight=class_weight,logistic_Reg__multi_class=multi_class)\n",
    "cv = StratifiedShuffleSplit(n_splits=10, test_size=0.25, train_size=0.75,random_state=1)\n",
    "grid_search = GridSearchCV(estimator=l_clf, param_grid=grid, n_jobs=-1, cv=cv,scoring=scoring,refit='f1_macro',return_train_score=True)\n",
    "grid_result = grid_search.fit(x_train, y_train)"
   ]
  },
  {
   "cell_type": "code",
   "execution_count": 89,
   "metadata": {},
   "outputs": [
    {
     "name": "stdout",
     "output_type": "stream",
     "text": [
      "Best: 0.920741 using {'logistic_Reg__C': 0.0001, 'logistic_Reg__class_weight': 'None', 'logistic_Reg__multi_class': 'ovr', 'logistic_Reg__penalty': 'none', 'logistic_Reg__solver': 'lbfgs'}\n"
     ]
    }
   ],
   "source": [
    "print(\"Best: %f using %s\" % (grid_result.best_score_, grid_result.best_params_))"
   ]
  },
  {
   "cell_type": "code",
   "execution_count": 90,
   "metadata": {},
   "outputs": [],
   "source": [
    "algo=grid_result.best_estimator_"
   ]
  },
  {
   "cell_type": "code",
   "execution_count": 399,
   "metadata": {},
   "outputs": [],
   "source": [
    "pred=algo.fit(x_train, y_train)"
   ]
  },
  {
   "cell_type": "code",
   "execution_count": 400,
   "metadata": {},
   "outputs": [],
   "source": [
    "test_predictions=algo.predict(x_test)"
   ]
  },
  {
   "cell_type": "code",
   "execution_count": 401,
   "metadata": {},
   "outputs": [
    {
     "name": "stdout",
     "output_type": "stream",
     "text": [
      "0.0 0.0\n"
     ]
    }
   ],
   "source": [
    "p=(precision_score(y_test, test_predictions))\n",
    "r=(recall_score(y_test, test_predictions))\n",
    "print(p,r)"
   ]
  },
  {
   "cell_type": "code",
   "execution_count": 402,
   "metadata": {},
   "outputs": [],
   "source": [
    "clf_best=grid_result.best_estimator_"
   ]
  },
  {
   "cell_type": "code",
   "execution_count": 403,
   "metadata": {},
   "outputs": [
    {
     "name": "stdout",
     "output_type": "stream",
     "text": [
      "Pipeline(steps=[('min_slc', StandardScaler()), ('std_slc', StandardScaler()),\n",
      "                ('rob_slc', RobustScaler()), ('pol_slc', PolynomialFeatures()),\n",
      "                ('logistic_Reg',\n",
      "                 LogisticRegression(C=2222.996482526191, class_weight='None',\n",
      "                                    multi_class='ovr'))])\n",
      "\n",
      "Processing....................................................................................................done.\n",
      "\n",
      "precision: 0.21771237169263485\n",
      "recall:    0.22751132756132755\n",
      "accuracy:    0.8018604651162788\n"
     ]
    },
    {
     "data": {
      "text/plain": [
       "(0.21771237169263485, 0.22751132756132755, 0.8018604651162788)"
      ]
     },
     "execution_count": 403,
     "metadata": {},
     "output_type": "execute_result"
    }
   ],
   "source": [
    "evaluate_clf1(clf_best,features,labels)"
   ]
  },
  {
   "cell_type": "markdown",
   "metadata": {},
   "source": [
    "Random Forest Classifier"
   ]
  },
  {
   "cell_type": "markdown",
   "metadata": {},
   "source": [
    "from sklearn.model_selection import GridSearchCV\n",
    "\n",
    "param_grid1 = {'criterion': [\"gini\", \"entropy\"],\n",
    "              'max_depth':[0, 1, 2,3,4,5],\n",
    "               'min_samples_split': [0,1,2,3,4,5,6,7,8,9,10],\n",
    "               'min_samples_leaf': [0,1,2,3,4,5],\n",
    "              }\n",
    "                            \n",
    "grid = GridSearchCV(RandomForestClassifier(), param_grid=param_grid1, cv=10,scoring=\"precision\" )\n",
    "\n",
    "grid.fit(x_train, y_train)\n"
   ]
  },
  {
   "cell_type": "code",
   "execution_count": 227,
   "metadata": {},
   "outputs": [],
   "source": [
    "algo=grid.best_estimator_"
   ]
  },
  {
   "cell_type": "code",
   "execution_count": 242,
   "metadata": {},
   "outputs": [],
   "source": [
    "pred=algo.fit(x_train, y_train)"
   ]
  },
  {
   "cell_type": "code",
   "execution_count": 246,
   "metadata": {},
   "outputs": [
    {
     "data": {
      "text/plain": [
       "<bound method ClassifierMixin.score of RandomForestClassifier(max_depth=5, min_samples_leaf=3, min_samples_split=4)>"
      ]
     },
     "execution_count": 246,
     "metadata": {},
     "output_type": "execute_result"
    }
   ],
   "source": [
    "test_predictions=algo.predict(x_test)"
   ]
  },
  {
   "cell_type": "code",
   "execution_count": 254,
   "metadata": {},
   "outputs": [
    {
     "name": "stdout",
     "output_type": "stream",
     "text": [
      "0.4 0.4\n"
     ]
    },
    {
     "data": {
      "text/plain": [
       "0.4"
      ]
     },
     "execution_count": 254,
     "metadata": {},
     "output_type": "execute_result"
    }
   ],
   "source": [
    "p=(precision_score(y_test, test_predictions))\n",
    "r=(recall_score(y_test, test_predictions))\n",
    "print(p,r)"
   ]
  },
  {
   "cell_type": "code",
   "execution_count": 257,
   "metadata": {},
   "outputs": [],
   "source": [
    "param_grid1 = { 'min_weight_fraction_leaf': [0,1,2,3,4,5,6,7] }\n",
    "grid = GridSearchCV(RandomForestClassifier(max_depth=5, min_samples_leaf=3, min_samples_split=4), param_grid=param_grid1, cv=10,scoring=\"precision\" )\n",
    "grid.fit(x_train, y_train)\n",
    "algo=grid.best_estimator_"
   ]
  },
  {
   "cell_type": "code",
   "execution_count": 259,
   "metadata": {},
   "outputs": [],
   "source": [
    "param_grid1 = {'max_features':[\"auto\", \"sqrt\", \"log2\"] }\n",
    "grid = GridSearchCV(RandomForestClassifier(max_depth=5, min_samples_leaf=3, min_samples_split=4,\n",
    "                       min_weight_fraction_leaf=0), param_grid=param_grid1, cv=10,scoring=\"precision\" )\n",
    "grid.fit(x_train, y_train)\n",
    "algo=grid.best_estimator_"
   ]
  },
  {
   "cell_type": "code",
   "execution_count": 260,
   "metadata": {},
   "outputs": [
    {
     "data": {
      "text/plain": [
       "RandomForestClassifier(max_depth=5, max_features='log2', min_samples_leaf=3,\n",
       "                       min_samples_split=4, min_weight_fraction_leaf=0)"
      ]
     },
     "execution_count": 260,
     "metadata": {},
     "output_type": "execute_result"
    }
   ],
   "source": [
    "algo"
   ]
  },
  {
   "cell_type": "code",
   "execution_count": 261,
   "metadata": {},
   "outputs": [],
   "source": [
    "test_predictions=algo.predict(x_test)"
   ]
  },
  {
   "cell_type": "code",
   "execution_count": 262,
   "metadata": {},
   "outputs": [
    {
     "name": "stdout",
     "output_type": "stream",
     "text": [
      "0.4 0.4\n"
     ]
    }
   ],
   "source": [
    "p=(precision_score(y_test, test_predictions))\n",
    "r=(recall_score(y_test, test_predictions))\n",
    "print(p,r)"
   ]
  },
  {
   "cell_type": "code",
   "execution_count": 263,
   "metadata": {},
   "outputs": [],
   "source": [
    "clf_best=RandomForestClassifier(max_depth=5, max_features='log2', min_samples_leaf=3,\n",
    "                       min_samples_split=4, min_weight_fraction_leaf=0)"
   ]
  },
  {
   "cell_type": "code",
   "execution_count": 265,
   "metadata": {},
   "outputs": [
    {
     "name": "stdout",
     "output_type": "stream",
     "text": [
      "RandomForestClassifier(max_depth=5, max_features='log2', min_samples_leaf=3,\n",
      "                       min_samples_split=4, min_weight_fraction_leaf=0)\n",
      "\n",
      "Processing....................................................................................................done.\n",
      "\n",
      "precision: 0.32640056610056606\n",
      "recall:    0.4363444444444444\n",
      "accuracy:    0.8127674418604649\n"
     ]
    },
    {
     "data": {
      "text/plain": [
       "(0.32640056610056606, 0.4363444444444444, 0.8127674418604649)"
      ]
     },
     "execution_count": 265,
     "metadata": {},
     "output_type": "execute_result"
    }
   ],
   "source": [
    "evaluate_clf(clf_best,features,labels)"
   ]
  },
  {
   "cell_type": "code",
   "execution_count": 270,
   "metadata": {},
   "outputs": [],
   "source": [
    "param_grid1 = { 'max_leaf_nodes': [0,1,2,3,4,5,6,\"none\"] }\n",
    "grid = GridSearchCV(RandomForestClassifier(max_depth=None, max_features='log2', min_samples_leaf=3,\n",
    "                       min_samples_split=4, min_weight_fraction_leaf=0), param_grid=param_grid1, cv=10,scoring=\"precision\" )\n",
    "grid.fit(x_train, y_train)\n",
    "algo=grid.best_estimator_"
   ]
  },
  {
   "cell_type": "code",
   "execution_count": 272,
   "metadata": {},
   "outputs": [
    {
     "name": "stdout",
     "output_type": "stream",
     "text": [
      "RandomForestClassifier(max_depth=5, max_features='log2', max_leaf_nodes=6,\n",
      "                       min_samples_leaf=3, min_samples_split=4,\n",
      "                       min_weight_fraction_leaf=0)\n",
      "\n",
      "Processing....................................................................................................done.\n",
      "\n",
      "precision: 0.3340311551193904\n",
      "recall:    0.504504365079365\n",
      "accuracy:    0.8098139534883719\n"
     ]
    },
    {
     "data": {
      "text/plain": [
       "(0.3340311551193904, 0.504504365079365, 0.8098139534883719)"
      ]
     },
     "execution_count": 272,
     "metadata": {},
     "output_type": "execute_result"
    }
   ],
   "source": [
    "clf_best=algo\n",
    "evaluate_clf(clf_best,features,labels)"
   ]
  },
  {
   "cell_type": "code",
   "execution_count": null,
   "metadata": {},
   "outputs": [],
   "source": [
    "param_grid1 = {\n",
    "    'bootstrap': [True],\n",
    "    'max_depth': [80, 90, 100, 110],\n",
    "    'max_features': [2, 3],\n",
    "    'min_samples_leaf': [3, 4, 5],\n",
    "    'min_samples_split': [8, 10, 12],\n",
    "    'n_estimators': [100, 200, 300, 1000]\n",
    "}\n",
    "\n",
    "                            \n",
    "grid = GridSearchCV(RandomForestClassifier(), param_grid=param_grid1, cv=10,scoring=\"precision\" )\n",
    "\n",
    "grid.fit(x_train, y_train)\n",
    "algo=grid.best_estimator_"
   ]
  },
  {
   "cell_type": "code",
   "execution_count": null,
   "metadata": {},
   "outputs": [],
   "source": [
    "test_predictions=algo.predict(x_test)\n",
    "p=(precision_score(y_test, test_predictions))\n",
    "r=(recall_score(y_test, test_predictions))\n",
    "print(p,r)"
   ]
  },
  {
   "cell_type": "code",
   "execution_count": null,
   "metadata": {},
   "outputs": [],
   "source": [
    "param_grid1 = {'min_impurity_decrease': [0,1,2,3,4,5,6]}\n",
    "grid = GridSearchCV(RandomForestClassifier(max_depth=5, max_features='log2', max_leaf_nodes=6,\n",
    "                       min_samples_leaf=3, min_samples_split=4,\n",
    "                       min_weight_fraction_leaf=0),param_grid=param_grid1, cv=10,scoring=\"precision\" )\n",
    "grid.fit(x_train, y_train)\n",
    "algo=grid.best_estimator_"
   ]
  },
  {
   "cell_type": "code",
   "execution_count": null,
   "metadata": {},
   "outputs": [],
   "source": [
    "test_predictions=algo.predict(x_test)\n",
    "p=(precision_score(y_test, test_predictions))\n",
    "r=(recall_score(y_test, test_predictions))\n",
    "print(p,r)"
   ]
  },
  {
   "cell_type": "code",
   "execution_count": null,
   "metadata": {},
   "outputs": [],
   "source": [
    "param_grid1 = {'min_impurity_split': [0,1,2,3,4,5,6],}\n",
    "grid = GridSearchCV(RandomForestClassifier(max_depth=5, max_features='log2', max_leaf_nodes=6,\n",
    "                       min_samples_leaf=3, min_samples_split=4,\n",
    "                       min_weight_fraction_leaf=0),param_grid=param_grid1, cv=10,scoring=\"precision\" )\n",
    "grid.fit(x_train, y_train)\n",
    "algo=grid.best_estimator_"
   ]
  },
  {
   "cell_type": "code",
   "execution_count": 255,
   "metadata": {},
   "outputs": [
    {
     "ename": "KeyboardInterrupt",
     "evalue": "",
     "output_type": "error",
     "traceback": [
      "\u001b[1;31m---------------------------------------------------------------------------\u001b[0m",
      "\u001b[1;31mKeyboardInterrupt\u001b[0m                         Traceback (most recent call last)",
      "\u001b[1;32m<ipython-input-255-6e40cd39bc47>\u001b[0m in \u001b[0;36m<module>\u001b[1;34m\u001b[0m\n\u001b[0;32m     12\u001b[0m \u001b[0mgrid\u001b[0m \u001b[1;33m=\u001b[0m \u001b[0mGridSearchCV\u001b[0m\u001b[1;33m(\u001b[0m\u001b[0mRandomForestClassifier\u001b[0m\u001b[1;33m(\u001b[0m\u001b[0mmax_depth\u001b[0m\u001b[1;33m=\u001b[0m\u001b[1;36m5\u001b[0m\u001b[1;33m,\u001b[0m \u001b[0mmin_samples_leaf\u001b[0m\u001b[1;33m=\u001b[0m\u001b[1;36m3\u001b[0m\u001b[1;33m,\u001b[0m \u001b[0mmin_samples_split\u001b[0m\u001b[1;33m=\u001b[0m\u001b[1;36m4\u001b[0m\u001b[1;33m)\u001b[0m\u001b[1;33m,\u001b[0m \u001b[0mparam_grid\u001b[0m\u001b[1;33m=\u001b[0m\u001b[0mparam_grid1\u001b[0m\u001b[1;33m,\u001b[0m \u001b[0mcv\u001b[0m\u001b[1;33m=\u001b[0m\u001b[1;36m10\u001b[0m\u001b[1;33m,\u001b[0m\u001b[0mscoring\u001b[0m\u001b[1;33m=\u001b[0m\u001b[1;34m\"precision\"\u001b[0m \u001b[1;33m)\u001b[0m\u001b[1;33m\u001b[0m\u001b[1;33m\u001b[0m\u001b[0m\n\u001b[0;32m     13\u001b[0m \u001b[1;33m\u001b[0m\u001b[0m\n\u001b[1;32m---> 14\u001b[1;33m \u001b[0mgrid\u001b[0m\u001b[1;33m.\u001b[0m\u001b[0mfit\u001b[0m\u001b[1;33m(\u001b[0m\u001b[0mx_train\u001b[0m\u001b[1;33m,\u001b[0m \u001b[0my_train\u001b[0m\u001b[1;33m)\u001b[0m\u001b[1;33m\u001b[0m\u001b[1;33m\u001b[0m\u001b[0m\n\u001b[0m\u001b[0;32m     15\u001b[0m \u001b[1;33m\u001b[0m\u001b[0m\n",
      "\u001b[1;32mC:\\ProgramData\\Anaconda3\\lib\\site-packages\\sklearn\\utils\\validation.py\u001b[0m in \u001b[0;36minner_f\u001b[1;34m(*args, **kwargs)\u001b[0m\n\u001b[0;32m     70\u001b[0m                           FutureWarning)\n\u001b[0;32m     71\u001b[0m         \u001b[0mkwargs\u001b[0m\u001b[1;33m.\u001b[0m\u001b[0mupdate\u001b[0m\u001b[1;33m(\u001b[0m\u001b[1;33m{\u001b[0m\u001b[0mk\u001b[0m\u001b[1;33m:\u001b[0m \u001b[0marg\u001b[0m \u001b[1;32mfor\u001b[0m \u001b[0mk\u001b[0m\u001b[1;33m,\u001b[0m \u001b[0marg\u001b[0m \u001b[1;32min\u001b[0m \u001b[0mzip\u001b[0m\u001b[1;33m(\u001b[0m\u001b[0msig\u001b[0m\u001b[1;33m.\u001b[0m\u001b[0mparameters\u001b[0m\u001b[1;33m,\u001b[0m \u001b[0margs\u001b[0m\u001b[1;33m)\u001b[0m\u001b[1;33m}\u001b[0m\u001b[1;33m)\u001b[0m\u001b[1;33m\u001b[0m\u001b[1;33m\u001b[0m\u001b[0m\n\u001b[1;32m---> 72\u001b[1;33m         \u001b[1;32mreturn\u001b[0m \u001b[0mf\u001b[0m\u001b[1;33m(\u001b[0m\u001b[1;33m**\u001b[0m\u001b[0mkwargs\u001b[0m\u001b[1;33m)\u001b[0m\u001b[1;33m\u001b[0m\u001b[1;33m\u001b[0m\u001b[0m\n\u001b[0m\u001b[0;32m     73\u001b[0m     \u001b[1;32mreturn\u001b[0m \u001b[0minner_f\u001b[0m\u001b[1;33m\u001b[0m\u001b[1;33m\u001b[0m\u001b[0m\n\u001b[0;32m     74\u001b[0m \u001b[1;33m\u001b[0m\u001b[0m\n",
      "\u001b[1;32mC:\\ProgramData\\Anaconda3\\lib\\site-packages\\sklearn\\model_selection\\_search.py\u001b[0m in \u001b[0;36mfit\u001b[1;34m(self, X, y, groups, **fit_params)\u001b[0m\n\u001b[0;32m    734\u001b[0m                 \u001b[1;32mreturn\u001b[0m \u001b[0mresults\u001b[0m\u001b[1;33m\u001b[0m\u001b[1;33m\u001b[0m\u001b[0m\n\u001b[0;32m    735\u001b[0m \u001b[1;33m\u001b[0m\u001b[0m\n\u001b[1;32m--> 736\u001b[1;33m             \u001b[0mself\u001b[0m\u001b[1;33m.\u001b[0m\u001b[0m_run_search\u001b[0m\u001b[1;33m(\u001b[0m\u001b[0mevaluate_candidates\u001b[0m\u001b[1;33m)\u001b[0m\u001b[1;33m\u001b[0m\u001b[1;33m\u001b[0m\u001b[0m\n\u001b[0m\u001b[0;32m    737\u001b[0m \u001b[1;33m\u001b[0m\u001b[0m\n\u001b[0;32m    738\u001b[0m         \u001b[1;31m# For multi-metric evaluation, store the best_index_, best_params_ and\u001b[0m\u001b[1;33m\u001b[0m\u001b[1;33m\u001b[0m\u001b[1;33m\u001b[0m\u001b[0m\n",
      "\u001b[1;32mC:\\ProgramData\\Anaconda3\\lib\\site-packages\\sklearn\\model_selection\\_search.py\u001b[0m in \u001b[0;36m_run_search\u001b[1;34m(self, evaluate_candidates)\u001b[0m\n\u001b[0;32m   1186\u001b[0m     \u001b[1;32mdef\u001b[0m \u001b[0m_run_search\u001b[0m\u001b[1;33m(\u001b[0m\u001b[0mself\u001b[0m\u001b[1;33m,\u001b[0m \u001b[0mevaluate_candidates\u001b[0m\u001b[1;33m)\u001b[0m\u001b[1;33m:\u001b[0m\u001b[1;33m\u001b[0m\u001b[1;33m\u001b[0m\u001b[0m\n\u001b[0;32m   1187\u001b[0m         \u001b[1;34m\"\"\"Search all candidates in param_grid\"\"\"\u001b[0m\u001b[1;33m\u001b[0m\u001b[1;33m\u001b[0m\u001b[0m\n\u001b[1;32m-> 1188\u001b[1;33m         \u001b[0mevaluate_candidates\u001b[0m\u001b[1;33m(\u001b[0m\u001b[0mParameterGrid\u001b[0m\u001b[1;33m(\u001b[0m\u001b[0mself\u001b[0m\u001b[1;33m.\u001b[0m\u001b[0mparam_grid\u001b[0m\u001b[1;33m)\u001b[0m\u001b[1;33m)\u001b[0m\u001b[1;33m\u001b[0m\u001b[1;33m\u001b[0m\u001b[0m\n\u001b[0m\u001b[0;32m   1189\u001b[0m \u001b[1;33m\u001b[0m\u001b[0m\n\u001b[0;32m   1190\u001b[0m \u001b[1;33m\u001b[0m\u001b[0m\n",
      "\u001b[1;32mC:\\ProgramData\\Anaconda3\\lib\\site-packages\\sklearn\\model_selection\\_search.py\u001b[0m in \u001b[0;36mevaluate_candidates\u001b[1;34m(candidate_params)\u001b[0m\n\u001b[0;32m    713\u001b[0m                                \u001b[1;32mfor\u001b[0m \u001b[0mparameters\u001b[0m\u001b[1;33m,\u001b[0m \u001b[1;33m(\u001b[0m\u001b[0mtrain\u001b[0m\u001b[1;33m,\u001b[0m \u001b[0mtest\u001b[0m\u001b[1;33m)\u001b[0m\u001b[1;33m\u001b[0m\u001b[1;33m\u001b[0m\u001b[0m\n\u001b[0;32m    714\u001b[0m                                in product(candidate_params,\n\u001b[1;32m--> 715\u001b[1;33m                                           cv.split(X, y, groups)))\n\u001b[0m\u001b[0;32m    716\u001b[0m \u001b[1;33m\u001b[0m\u001b[0m\n\u001b[0;32m    717\u001b[0m                 \u001b[1;32mif\u001b[0m \u001b[0mlen\u001b[0m\u001b[1;33m(\u001b[0m\u001b[0mout\u001b[0m\u001b[1;33m)\u001b[0m \u001b[1;33m<\u001b[0m \u001b[1;36m1\u001b[0m\u001b[1;33m:\u001b[0m\u001b[1;33m\u001b[0m\u001b[1;33m\u001b[0m\u001b[0m\n",
      "\u001b[1;32mC:\\ProgramData\\Anaconda3\\lib\\site-packages\\joblib\\parallel.py\u001b[0m in \u001b[0;36m__call__\u001b[1;34m(self, iterable)\u001b[0m\n\u001b[0;32m   1049\u001b[0m                 \u001b[0mself\u001b[0m\u001b[1;33m.\u001b[0m\u001b[0m_iterating\u001b[0m \u001b[1;33m=\u001b[0m \u001b[0mself\u001b[0m\u001b[1;33m.\u001b[0m\u001b[0m_original_iterator\u001b[0m \u001b[1;32mis\u001b[0m \u001b[1;32mnot\u001b[0m \u001b[1;32mNone\u001b[0m\u001b[1;33m\u001b[0m\u001b[1;33m\u001b[0m\u001b[0m\n\u001b[0;32m   1050\u001b[0m \u001b[1;33m\u001b[0m\u001b[0m\n\u001b[1;32m-> 1051\u001b[1;33m             \u001b[1;32mwhile\u001b[0m \u001b[0mself\u001b[0m\u001b[1;33m.\u001b[0m\u001b[0mdispatch_one_batch\u001b[0m\u001b[1;33m(\u001b[0m\u001b[0miterator\u001b[0m\u001b[1;33m)\u001b[0m\u001b[1;33m:\u001b[0m\u001b[1;33m\u001b[0m\u001b[1;33m\u001b[0m\u001b[0m\n\u001b[0m\u001b[0;32m   1052\u001b[0m                 \u001b[1;32mpass\u001b[0m\u001b[1;33m\u001b[0m\u001b[1;33m\u001b[0m\u001b[0m\n\u001b[0;32m   1053\u001b[0m \u001b[1;33m\u001b[0m\u001b[0m\n",
      "\u001b[1;32mC:\\ProgramData\\Anaconda3\\lib\\site-packages\\joblib\\parallel.py\u001b[0m in \u001b[0;36mdispatch_one_batch\u001b[1;34m(self, iterator)\u001b[0m\n\u001b[0;32m    864\u001b[0m                 \u001b[1;32mreturn\u001b[0m \u001b[1;32mFalse\u001b[0m\u001b[1;33m\u001b[0m\u001b[1;33m\u001b[0m\u001b[0m\n\u001b[0;32m    865\u001b[0m             \u001b[1;32melse\u001b[0m\u001b[1;33m:\u001b[0m\u001b[1;33m\u001b[0m\u001b[1;33m\u001b[0m\u001b[0m\n\u001b[1;32m--> 866\u001b[1;33m                 \u001b[0mself\u001b[0m\u001b[1;33m.\u001b[0m\u001b[0m_dispatch\u001b[0m\u001b[1;33m(\u001b[0m\u001b[0mtasks\u001b[0m\u001b[1;33m)\u001b[0m\u001b[1;33m\u001b[0m\u001b[1;33m\u001b[0m\u001b[0m\n\u001b[0m\u001b[0;32m    867\u001b[0m                 \u001b[1;32mreturn\u001b[0m \u001b[1;32mTrue\u001b[0m\u001b[1;33m\u001b[0m\u001b[1;33m\u001b[0m\u001b[0m\n\u001b[0;32m    868\u001b[0m \u001b[1;33m\u001b[0m\u001b[0m\n",
      "\u001b[1;32mC:\\ProgramData\\Anaconda3\\lib\\site-packages\\joblib\\parallel.py\u001b[0m in \u001b[0;36m_dispatch\u001b[1;34m(self, batch)\u001b[0m\n\u001b[0;32m    782\u001b[0m         \u001b[1;32mwith\u001b[0m \u001b[0mself\u001b[0m\u001b[1;33m.\u001b[0m\u001b[0m_lock\u001b[0m\u001b[1;33m:\u001b[0m\u001b[1;33m\u001b[0m\u001b[1;33m\u001b[0m\u001b[0m\n\u001b[0;32m    783\u001b[0m             \u001b[0mjob_idx\u001b[0m \u001b[1;33m=\u001b[0m \u001b[0mlen\u001b[0m\u001b[1;33m(\u001b[0m\u001b[0mself\u001b[0m\u001b[1;33m.\u001b[0m\u001b[0m_jobs\u001b[0m\u001b[1;33m)\u001b[0m\u001b[1;33m\u001b[0m\u001b[1;33m\u001b[0m\u001b[0m\n\u001b[1;32m--> 784\u001b[1;33m             \u001b[0mjob\u001b[0m \u001b[1;33m=\u001b[0m \u001b[0mself\u001b[0m\u001b[1;33m.\u001b[0m\u001b[0m_backend\u001b[0m\u001b[1;33m.\u001b[0m\u001b[0mapply_async\u001b[0m\u001b[1;33m(\u001b[0m\u001b[0mbatch\u001b[0m\u001b[1;33m,\u001b[0m \u001b[0mcallback\u001b[0m\u001b[1;33m=\u001b[0m\u001b[0mcb\u001b[0m\u001b[1;33m)\u001b[0m\u001b[1;33m\u001b[0m\u001b[1;33m\u001b[0m\u001b[0m\n\u001b[0m\u001b[0;32m    785\u001b[0m             \u001b[1;31m# A job can complete so quickly than its callback is\u001b[0m\u001b[1;33m\u001b[0m\u001b[1;33m\u001b[0m\u001b[1;33m\u001b[0m\u001b[0m\n\u001b[0;32m    786\u001b[0m             \u001b[1;31m# called before we get here, causing self._jobs to\u001b[0m\u001b[1;33m\u001b[0m\u001b[1;33m\u001b[0m\u001b[1;33m\u001b[0m\u001b[0m\n",
      "\u001b[1;32mC:\\ProgramData\\Anaconda3\\lib\\site-packages\\joblib\\_parallel_backends.py\u001b[0m in \u001b[0;36mapply_async\u001b[1;34m(self, func, callback)\u001b[0m\n\u001b[0;32m    206\u001b[0m     \u001b[1;32mdef\u001b[0m \u001b[0mapply_async\u001b[0m\u001b[1;33m(\u001b[0m\u001b[0mself\u001b[0m\u001b[1;33m,\u001b[0m \u001b[0mfunc\u001b[0m\u001b[1;33m,\u001b[0m \u001b[0mcallback\u001b[0m\u001b[1;33m=\u001b[0m\u001b[1;32mNone\u001b[0m\u001b[1;33m)\u001b[0m\u001b[1;33m:\u001b[0m\u001b[1;33m\u001b[0m\u001b[1;33m\u001b[0m\u001b[0m\n\u001b[0;32m    207\u001b[0m         \u001b[1;34m\"\"\"Schedule a func to be run\"\"\"\u001b[0m\u001b[1;33m\u001b[0m\u001b[1;33m\u001b[0m\u001b[0m\n\u001b[1;32m--> 208\u001b[1;33m         \u001b[0mresult\u001b[0m \u001b[1;33m=\u001b[0m \u001b[0mImmediateResult\u001b[0m\u001b[1;33m(\u001b[0m\u001b[0mfunc\u001b[0m\u001b[1;33m)\u001b[0m\u001b[1;33m\u001b[0m\u001b[1;33m\u001b[0m\u001b[0m\n\u001b[0m\u001b[0;32m    209\u001b[0m         \u001b[1;32mif\u001b[0m \u001b[0mcallback\u001b[0m\u001b[1;33m:\u001b[0m\u001b[1;33m\u001b[0m\u001b[1;33m\u001b[0m\u001b[0m\n\u001b[0;32m    210\u001b[0m             \u001b[0mcallback\u001b[0m\u001b[1;33m(\u001b[0m\u001b[0mresult\u001b[0m\u001b[1;33m)\u001b[0m\u001b[1;33m\u001b[0m\u001b[1;33m\u001b[0m\u001b[0m\n",
      "\u001b[1;32mC:\\ProgramData\\Anaconda3\\lib\\site-packages\\joblib\\_parallel_backends.py\u001b[0m in \u001b[0;36m__init__\u001b[1;34m(self, batch)\u001b[0m\n\u001b[0;32m    570\u001b[0m         \u001b[1;31m# Don't delay the application, to avoid keeping the input\u001b[0m\u001b[1;33m\u001b[0m\u001b[1;33m\u001b[0m\u001b[1;33m\u001b[0m\u001b[0m\n\u001b[0;32m    571\u001b[0m         \u001b[1;31m# arguments in memory\u001b[0m\u001b[1;33m\u001b[0m\u001b[1;33m\u001b[0m\u001b[1;33m\u001b[0m\u001b[0m\n\u001b[1;32m--> 572\u001b[1;33m         \u001b[0mself\u001b[0m\u001b[1;33m.\u001b[0m\u001b[0mresults\u001b[0m \u001b[1;33m=\u001b[0m \u001b[0mbatch\u001b[0m\u001b[1;33m(\u001b[0m\u001b[1;33m)\u001b[0m\u001b[1;33m\u001b[0m\u001b[1;33m\u001b[0m\u001b[0m\n\u001b[0m\u001b[0;32m    573\u001b[0m \u001b[1;33m\u001b[0m\u001b[0m\n\u001b[0;32m    574\u001b[0m     \u001b[1;32mdef\u001b[0m \u001b[0mget\u001b[0m\u001b[1;33m(\u001b[0m\u001b[0mself\u001b[0m\u001b[1;33m)\u001b[0m\u001b[1;33m:\u001b[0m\u001b[1;33m\u001b[0m\u001b[1;33m\u001b[0m\u001b[0m\n",
      "\u001b[1;32mC:\\ProgramData\\Anaconda3\\lib\\site-packages\\joblib\\parallel.py\u001b[0m in \u001b[0;36m__call__\u001b[1;34m(self)\u001b[0m\n\u001b[0;32m    261\u001b[0m         \u001b[1;32mwith\u001b[0m \u001b[0mparallel_backend\u001b[0m\u001b[1;33m(\u001b[0m\u001b[0mself\u001b[0m\u001b[1;33m.\u001b[0m\u001b[0m_backend\u001b[0m\u001b[1;33m,\u001b[0m \u001b[0mn_jobs\u001b[0m\u001b[1;33m=\u001b[0m\u001b[0mself\u001b[0m\u001b[1;33m.\u001b[0m\u001b[0m_n_jobs\u001b[0m\u001b[1;33m)\u001b[0m\u001b[1;33m:\u001b[0m\u001b[1;33m\u001b[0m\u001b[1;33m\u001b[0m\u001b[0m\n\u001b[0;32m    262\u001b[0m             return [func(*args, **kwargs)\n\u001b[1;32m--> 263\u001b[1;33m                     for func, args, kwargs in self.items]\n\u001b[0m\u001b[0;32m    264\u001b[0m \u001b[1;33m\u001b[0m\u001b[0m\n\u001b[0;32m    265\u001b[0m     \u001b[1;32mdef\u001b[0m \u001b[0m__reduce__\u001b[0m\u001b[1;33m(\u001b[0m\u001b[0mself\u001b[0m\u001b[1;33m)\u001b[0m\u001b[1;33m:\u001b[0m\u001b[1;33m\u001b[0m\u001b[1;33m\u001b[0m\u001b[0m\n",
      "\u001b[1;32mC:\\ProgramData\\Anaconda3\\lib\\site-packages\\joblib\\parallel.py\u001b[0m in \u001b[0;36m<listcomp>\u001b[1;34m(.0)\u001b[0m\n\u001b[0;32m    261\u001b[0m         \u001b[1;32mwith\u001b[0m \u001b[0mparallel_backend\u001b[0m\u001b[1;33m(\u001b[0m\u001b[0mself\u001b[0m\u001b[1;33m.\u001b[0m\u001b[0m_backend\u001b[0m\u001b[1;33m,\u001b[0m \u001b[0mn_jobs\u001b[0m\u001b[1;33m=\u001b[0m\u001b[0mself\u001b[0m\u001b[1;33m.\u001b[0m\u001b[0m_n_jobs\u001b[0m\u001b[1;33m)\u001b[0m\u001b[1;33m:\u001b[0m\u001b[1;33m\u001b[0m\u001b[1;33m\u001b[0m\u001b[0m\n\u001b[0;32m    262\u001b[0m             return [func(*args, **kwargs)\n\u001b[1;32m--> 263\u001b[1;33m                     for func, args, kwargs in self.items]\n\u001b[0m\u001b[0;32m    264\u001b[0m \u001b[1;33m\u001b[0m\u001b[0m\n\u001b[0;32m    265\u001b[0m     \u001b[1;32mdef\u001b[0m \u001b[0m__reduce__\u001b[0m\u001b[1;33m(\u001b[0m\u001b[0mself\u001b[0m\u001b[1;33m)\u001b[0m\u001b[1;33m:\u001b[0m\u001b[1;33m\u001b[0m\u001b[1;33m\u001b[0m\u001b[0m\n",
      "\u001b[1;32mC:\\ProgramData\\Anaconda3\\lib\\site-packages\\sklearn\\model_selection\\_validation.py\u001b[0m in \u001b[0;36m_fit_and_score\u001b[1;34m(estimator, X, y, scorer, train, test, verbose, parameters, fit_params, return_train_score, return_parameters, return_n_test_samples, return_times, return_estimator, error_score)\u001b[0m\n\u001b[0;32m    529\u001b[0m             \u001b[0mestimator\u001b[0m\u001b[1;33m.\u001b[0m\u001b[0mfit\u001b[0m\u001b[1;33m(\u001b[0m\u001b[0mX_train\u001b[0m\u001b[1;33m,\u001b[0m \u001b[1;33m**\u001b[0m\u001b[0mfit_params\u001b[0m\u001b[1;33m)\u001b[0m\u001b[1;33m\u001b[0m\u001b[1;33m\u001b[0m\u001b[0m\n\u001b[0;32m    530\u001b[0m         \u001b[1;32melse\u001b[0m\u001b[1;33m:\u001b[0m\u001b[1;33m\u001b[0m\u001b[1;33m\u001b[0m\u001b[0m\n\u001b[1;32m--> 531\u001b[1;33m             \u001b[0mestimator\u001b[0m\u001b[1;33m.\u001b[0m\u001b[0mfit\u001b[0m\u001b[1;33m(\u001b[0m\u001b[0mX_train\u001b[0m\u001b[1;33m,\u001b[0m \u001b[0my_train\u001b[0m\u001b[1;33m,\u001b[0m \u001b[1;33m**\u001b[0m\u001b[0mfit_params\u001b[0m\u001b[1;33m)\u001b[0m\u001b[1;33m\u001b[0m\u001b[1;33m\u001b[0m\u001b[0m\n\u001b[0m\u001b[0;32m    532\u001b[0m \u001b[1;33m\u001b[0m\u001b[0m\n\u001b[0;32m    533\u001b[0m     \u001b[1;32mexcept\u001b[0m \u001b[0mException\u001b[0m \u001b[1;32mas\u001b[0m \u001b[0me\u001b[0m\u001b[1;33m:\u001b[0m\u001b[1;33m\u001b[0m\u001b[1;33m\u001b[0m\u001b[0m\n",
      "\u001b[1;32mC:\\ProgramData\\Anaconda3\\lib\\site-packages\\sklearn\\ensemble\\_forest.py\u001b[0m in \u001b[0;36mfit\u001b[1;34m(self, X, y, sample_weight)\u001b[0m\n\u001b[0;32m    376\u001b[0m             trees = [self._make_estimator(append=False,\n\u001b[0;32m    377\u001b[0m                                           random_state=random_state)\n\u001b[1;32m--> 378\u001b[1;33m                      for i in range(n_more_estimators)]\n\u001b[0m\u001b[0;32m    379\u001b[0m \u001b[1;33m\u001b[0m\u001b[0m\n\u001b[0;32m    380\u001b[0m             \u001b[1;31m# Parallel loop: we prefer the threading backend as the Cython code\u001b[0m\u001b[1;33m\u001b[0m\u001b[1;33m\u001b[0m\u001b[1;33m\u001b[0m\u001b[0m\n",
      "\u001b[1;32mC:\\ProgramData\\Anaconda3\\lib\\site-packages\\sklearn\\ensemble\\_forest.py\u001b[0m in \u001b[0;36m<listcomp>\u001b[1;34m(.0)\u001b[0m\n\u001b[0;32m    376\u001b[0m             trees = [self._make_estimator(append=False,\n\u001b[0;32m    377\u001b[0m                                           random_state=random_state)\n\u001b[1;32m--> 378\u001b[1;33m                      for i in range(n_more_estimators)]\n\u001b[0m\u001b[0;32m    379\u001b[0m \u001b[1;33m\u001b[0m\u001b[0m\n\u001b[0;32m    380\u001b[0m             \u001b[1;31m# Parallel loop: we prefer the threading backend as the Cython code\u001b[0m\u001b[1;33m\u001b[0m\u001b[1;33m\u001b[0m\u001b[1;33m\u001b[0m\u001b[0m\n",
      "\u001b[1;32mC:\\ProgramData\\Anaconda3\\lib\\site-packages\\sklearn\\ensemble\\_base.py\u001b[0m in \u001b[0;36m_make_estimator\u001b[1;34m(self, append, random_state)\u001b[0m\n\u001b[0;32m    154\u001b[0m \u001b[1;33m\u001b[0m\u001b[0m\n\u001b[0;32m    155\u001b[0m         \u001b[1;32mif\u001b[0m \u001b[0mrandom_state\u001b[0m \u001b[1;32mis\u001b[0m \u001b[1;32mnot\u001b[0m \u001b[1;32mNone\u001b[0m\u001b[1;33m:\u001b[0m\u001b[1;33m\u001b[0m\u001b[1;33m\u001b[0m\u001b[0m\n\u001b[1;32m--> 156\u001b[1;33m             \u001b[0m_set_random_states\u001b[0m\u001b[1;33m(\u001b[0m\u001b[0mestimator\u001b[0m\u001b[1;33m,\u001b[0m \u001b[0mrandom_state\u001b[0m\u001b[1;33m)\u001b[0m\u001b[1;33m\u001b[0m\u001b[1;33m\u001b[0m\u001b[0m\n\u001b[0m\u001b[0;32m    157\u001b[0m \u001b[1;33m\u001b[0m\u001b[0m\n\u001b[0;32m    158\u001b[0m         \u001b[1;32mif\u001b[0m \u001b[0mappend\u001b[0m\u001b[1;33m:\u001b[0m\u001b[1;33m\u001b[0m\u001b[1;33m\u001b[0m\u001b[0m\n",
      "\u001b[1;32mC:\\ProgramData\\Anaconda3\\lib\\site-packages\\sklearn\\ensemble\\_base.py\u001b[0m in \u001b[0;36m_set_random_states\u001b[1;34m(estimator, random_state)\u001b[0m\n\u001b[0;32m     72\u001b[0m     \u001b[0mrandom_state\u001b[0m \u001b[1;33m=\u001b[0m \u001b[0mcheck_random_state\u001b[0m\u001b[1;33m(\u001b[0m\u001b[0mrandom_state\u001b[0m\u001b[1;33m)\u001b[0m\u001b[1;33m\u001b[0m\u001b[1;33m\u001b[0m\u001b[0m\n\u001b[0;32m     73\u001b[0m     \u001b[0mto_set\u001b[0m \u001b[1;33m=\u001b[0m \u001b[1;33m{\u001b[0m\u001b[1;33m}\u001b[0m\u001b[1;33m\u001b[0m\u001b[1;33m\u001b[0m\u001b[0m\n\u001b[1;32m---> 74\u001b[1;33m     \u001b[1;32mfor\u001b[0m \u001b[0mkey\u001b[0m \u001b[1;32min\u001b[0m \u001b[0msorted\u001b[0m\u001b[1;33m(\u001b[0m\u001b[0mestimator\u001b[0m\u001b[1;33m.\u001b[0m\u001b[0mget_params\u001b[0m\u001b[1;33m(\u001b[0m\u001b[0mdeep\u001b[0m\u001b[1;33m=\u001b[0m\u001b[1;32mTrue\u001b[0m\u001b[1;33m)\u001b[0m\u001b[1;33m)\u001b[0m\u001b[1;33m:\u001b[0m\u001b[1;33m\u001b[0m\u001b[1;33m\u001b[0m\u001b[0m\n\u001b[0m\u001b[0;32m     75\u001b[0m         \u001b[1;32mif\u001b[0m \u001b[0mkey\u001b[0m \u001b[1;33m==\u001b[0m \u001b[1;34m'random_state'\u001b[0m \u001b[1;32mor\u001b[0m \u001b[0mkey\u001b[0m\u001b[1;33m.\u001b[0m\u001b[0mendswith\u001b[0m\u001b[1;33m(\u001b[0m\u001b[1;34m'__random_state'\u001b[0m\u001b[1;33m)\u001b[0m\u001b[1;33m:\u001b[0m\u001b[1;33m\u001b[0m\u001b[1;33m\u001b[0m\u001b[0m\n\u001b[0;32m     76\u001b[0m             \u001b[0mto_set\u001b[0m\u001b[1;33m[\u001b[0m\u001b[0mkey\u001b[0m\u001b[1;33m]\u001b[0m \u001b[1;33m=\u001b[0m \u001b[0mrandom_state\u001b[0m\u001b[1;33m.\u001b[0m\u001b[0mrandint\u001b[0m\u001b[1;33m(\u001b[0m\u001b[0mnp\u001b[0m\u001b[1;33m.\u001b[0m\u001b[0miinfo\u001b[0m\u001b[1;33m(\u001b[0m\u001b[0mnp\u001b[0m\u001b[1;33m.\u001b[0m\u001b[0mint32\u001b[0m\u001b[1;33m)\u001b[0m\u001b[1;33m.\u001b[0m\u001b[0mmax\u001b[0m\u001b[1;33m)\u001b[0m\u001b[1;33m\u001b[0m\u001b[1;33m\u001b[0m\u001b[0m\n",
      "\u001b[1;32mC:\\ProgramData\\Anaconda3\\lib\\site-packages\\sklearn\\base.py\u001b[0m in \u001b[0;36mget_params\u001b[1;34m(self, deep)\u001b[0m\n\u001b[0;32m    203\u001b[0m         \"\"\"\n\u001b[0;32m    204\u001b[0m         \u001b[0mout\u001b[0m \u001b[1;33m=\u001b[0m \u001b[0mdict\u001b[0m\u001b[1;33m(\u001b[0m\u001b[1;33m)\u001b[0m\u001b[1;33m\u001b[0m\u001b[1;33m\u001b[0m\u001b[0m\n\u001b[1;32m--> 205\u001b[1;33m         \u001b[1;32mfor\u001b[0m \u001b[0mkey\u001b[0m \u001b[1;32min\u001b[0m \u001b[0mself\u001b[0m\u001b[1;33m.\u001b[0m\u001b[0m_get_param_names\u001b[0m\u001b[1;33m(\u001b[0m\u001b[1;33m)\u001b[0m\u001b[1;33m:\u001b[0m\u001b[1;33m\u001b[0m\u001b[1;33m\u001b[0m\u001b[0m\n\u001b[0m\u001b[0;32m    206\u001b[0m             \u001b[1;32mtry\u001b[0m\u001b[1;33m:\u001b[0m\u001b[1;33m\u001b[0m\u001b[1;33m\u001b[0m\u001b[0m\n\u001b[0;32m    207\u001b[0m                 \u001b[0mvalue\u001b[0m \u001b[1;33m=\u001b[0m \u001b[0mgetattr\u001b[0m\u001b[1;33m(\u001b[0m\u001b[0mself\u001b[0m\u001b[1;33m,\u001b[0m \u001b[0mkey\u001b[0m\u001b[1;33m)\u001b[0m\u001b[1;33m\u001b[0m\u001b[1;33m\u001b[0m\u001b[0m\n",
      "\u001b[1;32mC:\\ProgramData\\Anaconda3\\lib\\site-packages\\sklearn\\base.py\u001b[0m in \u001b[0;36m_get_param_names\u001b[1;34m(cls)\u001b[0m\n\u001b[0;32m    176\u001b[0m         parameters = [p for p in init_signature.parameters.values()\n\u001b[0;32m    177\u001b[0m                       if p.name != 'self' and p.kind != p.VAR_KEYWORD]\n\u001b[1;32m--> 178\u001b[1;33m         \u001b[1;32mfor\u001b[0m \u001b[0mp\u001b[0m \u001b[1;32min\u001b[0m \u001b[0mparameters\u001b[0m\u001b[1;33m:\u001b[0m\u001b[1;33m\u001b[0m\u001b[1;33m\u001b[0m\u001b[0m\n\u001b[0m\u001b[0;32m    179\u001b[0m             \u001b[1;32mif\u001b[0m \u001b[0mp\u001b[0m\u001b[1;33m.\u001b[0m\u001b[0mkind\u001b[0m \u001b[1;33m==\u001b[0m \u001b[0mp\u001b[0m\u001b[1;33m.\u001b[0m\u001b[0mVAR_POSITIONAL\u001b[0m\u001b[1;33m:\u001b[0m\u001b[1;33m\u001b[0m\u001b[1;33m\u001b[0m\u001b[0m\n\u001b[0;32m    180\u001b[0m                 raise RuntimeError(\"scikit-learn estimators should always \"\n",
      "\u001b[1;31mKeyboardInterrupt\u001b[0m: "
     ]
    }
   ],
   "source": [
    " from sklearn.model_selection import GridSearchCV\n",
    "\n",
    "param_grid1 = { 'min_weight_fraction_leaf': [0,1,2,3,4,5,6,7],\n",
    "               'max_features':[\"auto\", \"sqrt\", \"log2\"],\n",
    "                'max_leaf_nodes': [0,1,2,3,4,5,6,\"none\"],\n",
    "               'min_impurity_decrease': [0,1,2,3,4,5,6],\n",
    "               'min_impurity_split': [0,1,2,3,4,5,6],\n",
    "               'bootstrap': [\"True\", \"False\"],\n",
    "               'oob_score': [\"True\",\"False\"],\n",
    "               'class_weight': [\"balanced\", \"balanced_subsample\"] }\n",
    "                            \n",
    "grid = GridSearchCV(RandomForestClassifier(max_depth=5, min_samples_leaf=3, min_samples_split=4), param_grid=param_grid1, cv=10,scoring=\"precision\" )\n",
    "\n",
    "grid.fit(x_train, y_train)\n",
    "    \n"
   ]
  },
  {
   "cell_type": "markdown",
   "metadata": {},
   "source": [
    "Logistic Regression"
   ]
  },
  {
   "cell_type": "markdown",
   "metadata": {},
   "source": [
    "Select Logistic Regression as final algorithm"
   ]
  },
  {
   "cell_type": "code",
   "execution_count": 87,
   "metadata": {},
   "outputs": [],
   "source": [
    "clf = mlp_clf"
   ]
  },
  {
   "cell_type": "markdown",
   "metadata": {},
   "source": [
    "dump your classifier, dataset and features_list so   \n",
    "anyone can run/check your results"
   ]
  },
  {
   "cell_type": "code",
   "execution_count": 88,
   "metadata": {},
   "outputs": [],
   "source": [
    "pickle.dump(clf, open(\"../final_project/my_classifier.pkl\", \"wb\"))\n",
    "pickle.dump(my_dataset, open(\"../final_project/my_dataset.pkl\", \"wb\"))\n",
    "pickle.dump(my_feature_list, open(\"../final_project/my_feature_list.pkl\", \"wb\"))"
   ]
  },
  {
   "cell_type": "markdown",
   "metadata": {},
   "source": [
    "### Task 5: Tune your classifier"
   ]
  },
  {
   "cell_type": "markdown",
   "metadata": {},
   "source": [
    "\n",
    " Task 5: Tune your classifier to achieve better than .42 precision and recall   \n",
    " using our testing script. Check the tester.py script in the final project  \n",
    " folder for details on the evaluation method, especially the test_classifier   \n",
    " function. Because of the small size of the dataset, the script uses   \n",
    " stratified shuffle split cross validation. For more info:   \n",
    " http://scikit-learn.org/stable/modules/generated/sklearn.cross_validation.StratifiedShuffleSplit.html  \n",
    "\n",
    "Example starting point. Try investigating other evaluation techniques!"
   ]
  },
  {
   "cell_type": "code",
   "execution_count": null,
   "metadata": {},
   "outputs": [],
   "source": [
    "features_train, features_test, labels_train, labels_test = \\\n",
    "    train_test_split(features, labels, test_size=0.3, random_state=42)"
   ]
  },
  {
   "cell_type": "markdown",
   "metadata": {},
   "source": [
    "### Task 6: Dump your classifier, dataset, and features_list"
   ]
  },
  {
   "cell_type": "markdown",
   "metadata": {},
   "source": [
    "Task 6: Dump your classifier, dataset, and features_list so anyone can   \n",
    "check your results. You do not need to change anything below, but make sure  \n",
    "that the version of poi_id.py that you submit can be run on its own and   \n",
    "generates the necessary .pkl files for validating your results.  "
   ]
  },
  {
   "cell_type": "code",
   "execution_count": 89,
   "metadata": {},
   "outputs": [],
   "source": [
    "dump_classifier_and_data(clf, my_dataset, features_list)"
   ]
  }
 ],
 "metadata": {
  "kernelspec": {
   "display_name": "Python 3",
   "language": "python",
   "name": "python3"
  },
  "language_info": {
   "codemirror_mode": {
    "name": "ipython",
    "version": 3
   },
   "file_extension": ".py",
   "mimetype": "text/x-python",
   "name": "python",
   "nbconvert_exporter": "python",
   "pygments_lexer": "ipython3",
   "version": "3.7.9"
  }
 },
 "nbformat": 4,
 "nbformat_minor": 4
}
